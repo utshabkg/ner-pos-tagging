{
 "cells": [
  {
   "cell_type": "markdown",
   "metadata": {},
   "source": [
    "### Load the Dataset"
   ]
  },
  {
   "cell_type": "code",
   "execution_count": 143,
   "metadata": {},
   "outputs": [
    {
     "name": "stdout",
     "output_type": "stream",
     "text": [
      "                                                Token    POS    NER\n",
      "0   শনিবার (২৭ আগস্ট) রাতে পটুয়াখালী সদর থানার ভা...    NaN    NaN\n",
      "1                                              শনিবার    NNP  B-D&T\n",
      "2                                                 (২৭  PUNCT  B-OTH\n",
      "3                                              আগস্ট)    NNP  B-D&T\n",
      "4                                                রাতে    NNC  B-D&T\n",
      "5                                          পটুয়াখালী    NNP  B-GPE\n",
      "6                                                 সদর    NNC  I-GPE\n",
      "7                                               থানার    NNC  I-GPE\n",
      "8                                          ভারপ্রাপ্ত    ADJ  B-PER\n",
      "9                                           কর্মকর্তা    NNC  I-PER\n",
      "10                                              (ওসি)  PUNCT  B-OTH\n",
      "11                                               মো.    NNP  B-PER\n",
      "12                                       মনিরুজ্জামান    NNP  I-PER\n",
      "13                                                  এ    DET  B-OTH\n",
      "14                                               তথ্য    NNC  B-OTH\n",
      "15                                            নিশ্চিত    ADJ  B-OTH\n",
      "16                                            করেছেন।     VF  B-OTH\n",
      "17                                                NaN    NaN    NaN\n",
      "18  বায়ুদূষণ ও স্মার্ট ফোন ছেলেমেয়ে উভয়ের প্রজনন ক...    NaN    NaN\n",
      "19                                           বায়ুদূষণ    NNC  B-OTH\n"
     ]
    }
   ],
   "source": [
    "import pandas as pd\n",
    "\n",
    "# Load the dataset\n",
    "file_path = 'dataset/data.tsv'\n",
    "data = pd.read_csv(file_path, sep='\\t', header=None, names=['Token', 'POS', 'NER'], skip_blank_lines=False)\n",
    "\n",
    "# Display the first few rows\n",
    "print(data.head(20))"
   ]
  },
  {
   "cell_type": "code",
   "execution_count": 144,
   "metadata": {},
   "outputs": [
    {
     "data": {
      "text/plain": [
       "(53438, 3)"
      ]
     },
     "execution_count": 144,
     "metadata": {},
     "output_type": "execute_result"
    }
   ],
   "source": [
    "data.shape"
   ]
  },
  {
   "cell_type": "markdown",
   "metadata": {},
   "source": [
    "### Clean and Preprocess the Data"
   ]
  },
  {
   "cell_type": "code",
   "execution_count": 145,
   "metadata": {},
   "outputs": [
    {
     "data": {
      "text/plain": [
       "Token    4054\n",
       "POS      8112\n",
       "NER      8114\n",
       "dtype: int64"
      ]
     },
     "execution_count": 145,
     "metadata": {},
     "output_type": "execute_result"
    }
   ],
   "source": [
    "data.isna().sum()"
   ]
  },
  {
   "cell_type": "code",
   "execution_count": 146,
   "metadata": {},
   "outputs": [
    {
     "name": "stdout",
     "output_type": "stream",
     "text": [
      "Number of sentences in the raw dataset: 4054\n"
     ]
    }
   ],
   "source": [
    "# Count the number of unique sentences\n",
    "# A sentence is identified by rows where Token, POS and NER are NaN\n",
    "blank_rows = data[data['Token'].isna() & data['POS'].isna() & data['NER'].isna()].shape[0]\n",
    "\n",
    "print(f\"Number of sentences in the raw dataset: {blank_rows}\")"
   ]
  },
  {
   "cell_type": "code",
   "execution_count": 147,
   "metadata": {},
   "outputs": [
    {
     "data": {
      "text/plain": [
       "Token       0\n",
       "POS      4058\n",
       "NER      4060\n",
       "dtype: int64"
      ]
     },
     "execution_count": 147,
     "metadata": {},
     "output_type": "execute_result"
    }
   ],
   "source": [
    "data_cleaned = data.dropna(how='all')\n",
    "data_cleaned.reset_index(drop=True, inplace=True)\n",
    "\n",
    "missing_values = data_cleaned.isna().sum()\n",
    "missing_values"
   ]
  },
  {
   "cell_type": "code",
   "execution_count": 148,
   "metadata": {},
   "outputs": [
    {
     "data": {
      "text/plain": [
       "4058"
      ]
     },
     "execution_count": 148,
     "metadata": {},
     "output_type": "execute_result"
    }
   ],
   "source": [
    "num_sentences = data_cleaned[data_cleaned['POS'].isna() & data_cleaned['NER'].isna()].shape[0]\n",
    "num_sentences"
   ]
  },
  {
   "cell_type": "code",
   "execution_count": 149,
   "metadata": {},
   "outputs": [
    {
     "name": "stderr",
     "output_type": "stream",
     "text": [
      "c:\\Users\\UTSHAB\\AppData\\Local\\Programs\\Python\\Python37\\lib\\site-packages\\ipykernel_launcher.py:2: SettingWithCopyWarning: \n",
      "A value is trying to be set on a copy of a slice from a DataFrame.\n",
      "Try using .loc[row_indexer,col_indexer] = value instead\n",
      "\n",
      "See the caveats in the documentation: https://pandas.pydata.org/pandas-docs/stable/user_guide/indexing.html#returning-a-view-versus-a-copy\n",
      "  \n"
     ]
    }
   ],
   "source": [
    "# Initialize the 'Sentence #' column\n",
    "data_cleaned['Sentence #'] = None\n",
    "\n",
    "# Counter for sentence numbers\n",
    "sentence_counter = 0\n",
    "\n",
    "# Iterate over the rows\n",
    "for index, row in data_cleaned.iterrows():\n",
    "    if pd.isna(row['POS']) and pd.isna(row['NER']):\n",
    "        sentence_counter += 1  # Increment counter at the start of a new sentence\n",
    "    else:\n",
    "        data_cleaned.at[index, 'Sentence #'] = sentence_counter\n",
    "\n",
    "# Reorder columns to have 'Sentence #' first\n",
    "data_cleaned = data_cleaned[['Sentence #', 'Token', 'POS', 'NER']]"
   ]
  },
  {
   "cell_type": "code",
   "execution_count": 150,
   "metadata": {},
   "outputs": [
    {
     "data": {
      "text/html": [
       "<div>\n",
       "<style scoped>\n",
       "    .dataframe tbody tr th:only-of-type {\n",
       "        vertical-align: middle;\n",
       "    }\n",
       "\n",
       "    .dataframe tbody tr th {\n",
       "        vertical-align: top;\n",
       "    }\n",
       "\n",
       "    .dataframe thead th {\n",
       "        text-align: right;\n",
       "    }\n",
       "</style>\n",
       "<table border=\"1\" class=\"dataframe\">\n",
       "  <thead>\n",
       "    <tr style=\"text-align: right;\">\n",
       "      <th></th>\n",
       "      <th>Sentence #</th>\n",
       "      <th>Token</th>\n",
       "      <th>POS</th>\n",
       "      <th>NER</th>\n",
       "    </tr>\n",
       "  </thead>\n",
       "  <tbody>\n",
       "    <tr>\n",
       "      <th>0</th>\n",
       "      <td>None</td>\n",
       "      <td>শনিবার (২৭ আগস্ট) রাতে পটুয়াখালী সদর থানার ভা...</td>\n",
       "      <td>NaN</td>\n",
       "      <td>NaN</td>\n",
       "    </tr>\n",
       "    <tr>\n",
       "      <th>1</th>\n",
       "      <td>1</td>\n",
       "      <td>শনিবার</td>\n",
       "      <td>NNP</td>\n",
       "      <td>B-D&amp;T</td>\n",
       "    </tr>\n",
       "    <tr>\n",
       "      <th>2</th>\n",
       "      <td>1</td>\n",
       "      <td>(২৭</td>\n",
       "      <td>PUNCT</td>\n",
       "      <td>B-OTH</td>\n",
       "    </tr>\n",
       "    <tr>\n",
       "      <th>3</th>\n",
       "      <td>1</td>\n",
       "      <td>আগস্ট)</td>\n",
       "      <td>NNP</td>\n",
       "      <td>B-D&amp;T</td>\n",
       "    </tr>\n",
       "    <tr>\n",
       "      <th>4</th>\n",
       "      <td>1</td>\n",
       "      <td>রাতে</td>\n",
       "      <td>NNC</td>\n",
       "      <td>B-D&amp;T</td>\n",
       "    </tr>\n",
       "    <tr>\n",
       "      <th>5</th>\n",
       "      <td>1</td>\n",
       "      <td>পটুয়াখালী</td>\n",
       "      <td>NNP</td>\n",
       "      <td>B-GPE</td>\n",
       "    </tr>\n",
       "    <tr>\n",
       "      <th>6</th>\n",
       "      <td>1</td>\n",
       "      <td>সদর</td>\n",
       "      <td>NNC</td>\n",
       "      <td>I-GPE</td>\n",
       "    </tr>\n",
       "    <tr>\n",
       "      <th>7</th>\n",
       "      <td>1</td>\n",
       "      <td>থানার</td>\n",
       "      <td>NNC</td>\n",
       "      <td>I-GPE</td>\n",
       "    </tr>\n",
       "    <tr>\n",
       "      <th>8</th>\n",
       "      <td>1</td>\n",
       "      <td>ভারপ্রাপ্ত</td>\n",
       "      <td>ADJ</td>\n",
       "      <td>B-PER</td>\n",
       "    </tr>\n",
       "    <tr>\n",
       "      <th>9</th>\n",
       "      <td>1</td>\n",
       "      <td>কর্মকর্তা</td>\n",
       "      <td>NNC</td>\n",
       "      <td>I-PER</td>\n",
       "    </tr>\n",
       "    <tr>\n",
       "      <th>10</th>\n",
       "      <td>1</td>\n",
       "      <td>(ওসি)</td>\n",
       "      <td>PUNCT</td>\n",
       "      <td>B-OTH</td>\n",
       "    </tr>\n",
       "    <tr>\n",
       "      <th>11</th>\n",
       "      <td>1</td>\n",
       "      <td>মো.</td>\n",
       "      <td>NNP</td>\n",
       "      <td>B-PER</td>\n",
       "    </tr>\n",
       "    <tr>\n",
       "      <th>12</th>\n",
       "      <td>1</td>\n",
       "      <td>মনিরুজ্জামান</td>\n",
       "      <td>NNP</td>\n",
       "      <td>I-PER</td>\n",
       "    </tr>\n",
       "    <tr>\n",
       "      <th>13</th>\n",
       "      <td>1</td>\n",
       "      <td>এ</td>\n",
       "      <td>DET</td>\n",
       "      <td>B-OTH</td>\n",
       "    </tr>\n",
       "    <tr>\n",
       "      <th>14</th>\n",
       "      <td>1</td>\n",
       "      <td>তথ্য</td>\n",
       "      <td>NNC</td>\n",
       "      <td>B-OTH</td>\n",
       "    </tr>\n",
       "    <tr>\n",
       "      <th>15</th>\n",
       "      <td>1</td>\n",
       "      <td>নিশ্চিত</td>\n",
       "      <td>ADJ</td>\n",
       "      <td>B-OTH</td>\n",
       "    </tr>\n",
       "    <tr>\n",
       "      <th>16</th>\n",
       "      <td>1</td>\n",
       "      <td>করেছেন।</td>\n",
       "      <td>VF</td>\n",
       "      <td>B-OTH</td>\n",
       "    </tr>\n",
       "    <tr>\n",
       "      <th>17</th>\n",
       "      <td>None</td>\n",
       "      <td>বায়ুদূষণ ও স্মার্ট ফোন ছেলেমেয়ে উভয়ের প্রজনন ক...</td>\n",
       "      <td>NaN</td>\n",
       "      <td>NaN</td>\n",
       "    </tr>\n",
       "    <tr>\n",
       "      <th>18</th>\n",
       "      <td>2</td>\n",
       "      <td>বায়ুদূষণ</td>\n",
       "      <td>NNC</td>\n",
       "      <td>B-OTH</td>\n",
       "    </tr>\n",
       "    <tr>\n",
       "      <th>19</th>\n",
       "      <td>2</td>\n",
       "      <td>ও</td>\n",
       "      <td>CONJ</td>\n",
       "      <td>B-OTH</td>\n",
       "    </tr>\n",
       "  </tbody>\n",
       "</table>\n",
       "</div>"
      ],
      "text/plain": [
       "   Sentence #                                              Token    POS    NER\n",
       "0        None  শনিবার (২৭ আগস্ট) রাতে পটুয়াখালী সদর থানার ভা...    NaN    NaN\n",
       "1           1                                             শনিবার    NNP  B-D&T\n",
       "2           1                                                (২৭  PUNCT  B-OTH\n",
       "3           1                                             আগস্ট)    NNP  B-D&T\n",
       "4           1                                               রাতে    NNC  B-D&T\n",
       "5           1                                         পটুয়াখালী    NNP  B-GPE\n",
       "6           1                                                সদর    NNC  I-GPE\n",
       "7           1                                              থানার    NNC  I-GPE\n",
       "8           1                                         ভারপ্রাপ্ত    ADJ  B-PER\n",
       "9           1                                          কর্মকর্তা    NNC  I-PER\n",
       "10          1                                              (ওসি)  PUNCT  B-OTH\n",
       "11          1                                               মো.    NNP  B-PER\n",
       "12          1                                       মনিরুজ্জামান    NNP  I-PER\n",
       "13          1                                                  এ    DET  B-OTH\n",
       "14          1                                               তথ্য    NNC  B-OTH\n",
       "15          1                                            নিশ্চিত    ADJ  B-OTH\n",
       "16          1                                            করেছেন।     VF  B-OTH\n",
       "17       None  বায়ুদূষণ ও স্মার্ট ফোন ছেলেমেয়ে উভয়ের প্রজনন ক...    NaN    NaN\n",
       "18          2                                           বায়ুদূষণ    NNC  B-OTH\n",
       "19          2                                                  ও   CONJ  B-OTH"
      ]
     },
     "execution_count": 150,
     "metadata": {},
     "output_type": "execute_result"
    }
   ],
   "source": [
    "data_cleaned.head(20)"
   ]
  },
  {
   "cell_type": "code",
   "execution_count": 151,
   "metadata": {},
   "outputs": [
    {
     "data": {
      "text/html": [
       "<div>\n",
       "<style scoped>\n",
       "    .dataframe tbody tr th:only-of-type {\n",
       "        vertical-align: middle;\n",
       "    }\n",
       "\n",
       "    .dataframe tbody tr th {\n",
       "        vertical-align: top;\n",
       "    }\n",
       "\n",
       "    .dataframe thead th {\n",
       "        text-align: right;\n",
       "    }\n",
       "</style>\n",
       "<table border=\"1\" class=\"dataframe\">\n",
       "  <thead>\n",
       "    <tr style=\"text-align: right;\">\n",
       "      <th></th>\n",
       "      <th>Sentence #</th>\n",
       "      <th>Token</th>\n",
       "      <th>POS</th>\n",
       "      <th>NER</th>\n",
       "    </tr>\n",
       "  </thead>\n",
       "  <tbody>\n",
       "    <tr>\n",
       "      <th>0</th>\n",
       "      <td>None</td>\n",
       "      <td>শনিবার (২৭ আগস্ট) রাতে পটুয়াখালী সদর থানার ভা...</td>\n",
       "      <td>NaN</td>\n",
       "      <td>NaN</td>\n",
       "    </tr>\n",
       "    <tr>\n",
       "      <th>17</th>\n",
       "      <td>None</td>\n",
       "      <td>বায়ুদূষণ ও স্মার্ট ফোন ছেলেমেয়ে উভয়ের প্রজনন ক...</td>\n",
       "      <td>NaN</td>\n",
       "      <td>NaN</td>\n",
       "    </tr>\n",
       "    <tr>\n",
       "      <th>29</th>\n",
       "      <td>None</td>\n",
       "      <td>ছাত্র রাজনীতির বর্তমান অবস্থার শুরু হয়েছিলো ...</td>\n",
       "      <td>NaN</td>\n",
       "      <td>NaN</td>\n",
       "    </tr>\n",
       "    <tr>\n",
       "      <th>40</th>\n",
       "      <td>None</td>\n",
       "      <td>শাকিল রাজধানীর ৩০০ ফিট, দিয়াবাড়ি ও পূর্বাচল ...</td>\n",
       "      <td>NaN</td>\n",
       "      <td>NaN</td>\n",
       "    </tr>\n",
       "    <tr>\n",
       "      <th>57</th>\n",
       "      <td>None</td>\n",
       "      <td>সম্প্রতি ক্লাবের নবীন ব্যবস্থাপনা প্রশিক্ষণার্...</td>\n",
       "      <td>NaN</td>\n",
       "      <td>NaN</td>\n",
       "    </tr>\n",
       "  </tbody>\n",
       "</table>\n",
       "</div>"
      ],
      "text/plain": [
       "   Sentence #                                              Token  POS  NER\n",
       "0        None  শনিবার (২৭ আগস্ট) রাতে পটুয়াখালী সদর থানার ভা...  NaN  NaN\n",
       "17       None  বায়ুদূষণ ও স্মার্ট ফোন ছেলেমেয়ে উভয়ের প্রজনন ক...  NaN  NaN\n",
       "29       None  ছাত্র রাজনীতির বর্তমান অবস্থার শুরু হয়েছিলো ...  NaN  NaN\n",
       "40       None  শাকিল রাজধানীর ৩০০ ফিট, দিয়াবাড়ি ও পূর্বাচল ...  NaN  NaN\n",
       "57       None  সম্প্রতি ক্লাবের নবীন ব্যবস্থাপনা প্রশিক্ষণার্...  NaN  NaN"
      ]
     },
     "execution_count": 151,
     "metadata": {},
     "output_type": "execute_result"
    }
   ],
   "source": [
    "# Display rows where 'POS' or 'NER' are NaN\n",
    "rows_with_missing_tags = data_cleaned[data_cleaned['POS'].isna() | data_cleaned['NER'].isna()]\n",
    "rows_with_missing_tags.head(5)"
   ]
  },
  {
   "cell_type": "code",
   "execution_count": 152,
   "metadata": {},
   "outputs": [
    {
     "data": {
      "text/plain": [
       "Sentence #    0\n",
       "Token         0\n",
       "POS           0\n",
       "NER           0\n",
       "dtype: int64"
      ]
     },
     "execution_count": 152,
     "metadata": {},
     "output_type": "execute_result"
    }
   ],
   "source": [
    "# Fill missing values in 'POS' and 'NER' with 'UNKNOWN'\n",
    "data_cleaned = data_cleaned.dropna(subset=['POS', 'NER'])\n",
    "\n",
    "missing_values_filled = data_cleaned.isna().sum()\n",
    "missing_values_filled"
   ]
  },
  {
   "cell_type": "code",
   "execution_count": 153,
   "metadata": {},
   "outputs": [
    {
     "data": {
      "text/html": [
       "<div>\n",
       "<style scoped>\n",
       "    .dataframe tbody tr th:only-of-type {\n",
       "        vertical-align: middle;\n",
       "    }\n",
       "\n",
       "    .dataframe tbody tr th {\n",
       "        vertical-align: top;\n",
       "    }\n",
       "\n",
       "    .dataframe thead th {\n",
       "        text-align: right;\n",
       "    }\n",
       "</style>\n",
       "<table border=\"1\" class=\"dataframe\">\n",
       "  <thead>\n",
       "    <tr style=\"text-align: right;\">\n",
       "      <th></th>\n",
       "      <th>Sentence #</th>\n",
       "      <th>Token</th>\n",
       "      <th>POS</th>\n",
       "      <th>NER</th>\n",
       "    </tr>\n",
       "  </thead>\n",
       "  <tbody>\n",
       "    <tr>\n",
       "      <th>1</th>\n",
       "      <td>1</td>\n",
       "      <td>শনিবার</td>\n",
       "      <td>NNP</td>\n",
       "      <td>B-D&amp;T</td>\n",
       "    </tr>\n",
       "    <tr>\n",
       "      <th>2</th>\n",
       "      <td>1</td>\n",
       "      <td>(২৭</td>\n",
       "      <td>PUNCT</td>\n",
       "      <td>B-OTH</td>\n",
       "    </tr>\n",
       "    <tr>\n",
       "      <th>3</th>\n",
       "      <td>1</td>\n",
       "      <td>আগস্ট)</td>\n",
       "      <td>NNP</td>\n",
       "      <td>B-D&amp;T</td>\n",
       "    </tr>\n",
       "    <tr>\n",
       "      <th>4</th>\n",
       "      <td>1</td>\n",
       "      <td>রাতে</td>\n",
       "      <td>NNC</td>\n",
       "      <td>B-D&amp;T</td>\n",
       "    </tr>\n",
       "    <tr>\n",
       "      <th>5</th>\n",
       "      <td>1</td>\n",
       "      <td>পটুয়াখালী</td>\n",
       "      <td>NNP</td>\n",
       "      <td>B-GPE</td>\n",
       "    </tr>\n",
       "  </tbody>\n",
       "</table>\n",
       "</div>"
      ],
      "text/plain": [
       "  Sentence #       Token    POS    NER\n",
       "1          1      শনিবার    NNP  B-D&T\n",
       "2          1         (২৭  PUNCT  B-OTH\n",
       "3          1      আগস্ট)    NNP  B-D&T\n",
       "4          1        রাতে    NNC  B-D&T\n",
       "5          1  পটুয়াখালী    NNP  B-GPE"
      ]
     },
     "execution_count": 153,
     "metadata": {},
     "output_type": "execute_result"
    }
   ],
   "source": [
    "data_cleaned.head()"
   ]
  },
  {
   "cell_type": "code",
   "execution_count": 154,
   "metadata": {},
   "outputs": [
    {
     "data": {
      "text/plain": [
       "(45324, 4)"
      ]
     },
     "execution_count": 154,
     "metadata": {},
     "output_type": "execute_result"
    }
   ],
   "source": [
    "data_cleaned.shape"
   ]
  },
  {
   "cell_type": "markdown",
   "metadata": {},
   "source": [
    "### More Exploratory Analysis"
   ]
  },
  {
   "cell_type": "code",
   "execution_count": 155,
   "metadata": {},
   "outputs": [
    {
     "name": "stdout",
     "output_type": "stream",
     "text": [
      "number of unique words in the dataset = 16247\n",
      "number of unique POS tags = 15\n",
      "number of unique NER tags = 21\n"
     ]
    }
   ],
   "source": [
    "print(f\"number of unique words in the dataset = {len(data_cleaned['Token'].unique())}\")\n",
    "print(f\"number of unique POS tags = {len(data_cleaned['POS'].unique())}\")\n",
    "print(f\"number of unique NER tags = {len(data_cleaned['NER'].unique())}\")"
   ]
  },
  {
   "cell_type": "code",
   "execution_count": 156,
   "metadata": {},
   "outputs": [
    {
     "name": "stdout",
     "output_type": "stream",
     "text": [
      "Top 20 Tokens:\n",
      "ও           442\n",
      "বলেন,       321\n",
      "থেকে        285\n",
      "এ           268\n",
      "করে         251\n",
      "করা         228\n",
      "এই          215\n",
      "এবং         174\n",
      "জন্য        168\n",
      "তিনি        160\n",
      "এক          159\n",
      "একটি        155\n",
      "হয়েছে।     130\n",
      "করতে        129\n",
      ":           126\n",
      "বাংলাদেশ    110\n",
      "না          109\n",
      "হবে।        106\n",
      "মধ্যে       105\n",
      "হয়।        103\n",
      "Name: Token, dtype: int64\n"
     ]
    }
   ],
   "source": [
    "# Distribution of tokens\n",
    "token_distribution = data_cleaned['Token'].value_counts()\n",
    "print(\"Top 20 Tokens:\")\n",
    "print(token_distribution.head(20))"
   ]
  },
  {
   "cell_type": "code",
   "execution_count": 157,
   "metadata": {},
   "outputs": [
    {
     "data": {
      "text/plain": [
       "৩)            1\n",
       "প্রয়াত       1\n",
       "স্টেডিয়ামে    1\n",
       "পিয়াসা।      1\n",
       "আম-৪          1\n",
       "Name: Token, dtype: int64"
      ]
     },
     "execution_count": 157,
     "metadata": {},
     "output_type": "execute_result"
    }
   ],
   "source": [
    "token_distribution.tail(5)"
   ]
  },
  {
   "cell_type": "code",
   "execution_count": 158,
   "metadata": {},
   "outputs": [
    {
     "name": "stdout",
     "output_type": "stream",
     "text": [
      "POS Tag Distribution:\n",
      "NNC      17803\n",
      "NNP       7544\n",
      "ADJ       4581\n",
      "VF        4417\n",
      "QF        1971\n",
      "PP        1866\n",
      "VNF       1602\n",
      "ADV       1461\n",
      "PRO       1329\n",
      "CONJ       947\n",
      "PUNCT      859\n",
      "DET        773\n",
      "PART        85\n",
      "OTH         67\n",
      "INTJ        19\n",
      "Name: POS, dtype: int64\n"
     ]
    }
   ],
   "source": [
    "# Distribution of POS tags\n",
    "pos_distribution = data_cleaned['POS'].value_counts()\n",
    "print(\"POS Tag Distribution:\")\n",
    "print(pos_distribution)"
   ]
  },
  {
   "cell_type": "code",
   "execution_count": 159,
   "metadata": {},
   "outputs": [
    {
     "name": "stdout",
     "output_type": "stream",
     "text": [
      "NER Tag Distribution:\n",
      "B-OTH      30932\n",
      "B-PER       3565\n",
      "B-ORG       1575\n",
      "I-PER       1426\n",
      "B-NUM       1314\n",
      "I-ORG       1151\n",
      "B-GPE        997\n",
      "B-D&T        996\n",
      "I-D&T        787\n",
      "B-EVENT      551\n",
      "B-LOC        460\n",
      "B-UNIT       301\n",
      "I-NUM        277\n",
      "I-EVENT      253\n",
      "B-MISC       249\n",
      "I-LOC        232\n",
      "B-T&T        106\n",
      "I-T&T         52\n",
      "I-GPE         51\n",
      "I-MISC        37\n",
      "I-UNIT        12\n",
      "Name: NER, dtype: int64\n"
     ]
    }
   ],
   "source": [
    "# Distribution of NER tags\n",
    "ner_distribution = data_cleaned['NER'].value_counts()\n",
    "print(\"NER Tag Distribution:\")\n",
    "print(ner_distribution)"
   ]
  },
  {
   "cell_type": "code",
   "execution_count": 160,
   "metadata": {},
   "outputs": [
    {
     "name": "stdout",
     "output_type": "stream",
     "text": [
      "Infrequent POS Tags:\n",
      "Index([], dtype='object')\n",
      "Infrequent NER Tags:\n",
      "Index([], dtype='object')\n"
     ]
    }
   ],
   "source": [
    "# Define a threshold for infrequent tags (e.g., less than a certain count)\n",
    "threshold = 5\n",
    "\n",
    "# Identify infrequent POS tags\n",
    "infrequent_pos_tags = pos_distribution[pos_distribution < threshold].index\n",
    "\n",
    "# Identify infrequent NER tags\n",
    "infrequent_ner_tags = ner_distribution[ner_distribution < threshold].index\n",
    "\n",
    "print(\"Infrequent POS Tags:\")\n",
    "print(infrequent_pos_tags)\n",
    "\n",
    "print(\"Infrequent NER Tags:\")\n",
    "print(infrequent_ner_tags)\n"
   ]
  },
  {
   "cell_type": "code",
   "execution_count": 161,
   "metadata": {},
   "outputs": [
    {
     "data": {
      "text/html": [
       "<div>\n",
       "<style scoped>\n",
       "    .dataframe tbody tr th:only-of-type {\n",
       "        vertical-align: middle;\n",
       "    }\n",
       "\n",
       "    .dataframe tbody tr th {\n",
       "        vertical-align: top;\n",
       "    }\n",
       "\n",
       "    .dataframe thead th {\n",
       "        text-align: right;\n",
       "    }\n",
       "</style>\n",
       "<table border=\"1\" class=\"dataframe\">\n",
       "  <thead>\n",
       "    <tr style=\"text-align: right;\">\n",
       "      <th></th>\n",
       "      <th>Sentence #</th>\n",
       "      <th>Token</th>\n",
       "      <th>POS</th>\n",
       "      <th>NER</th>\n",
       "    </tr>\n",
       "  </thead>\n",
       "  <tbody>\n",
       "    <tr>\n",
       "      <th>0</th>\n",
       "      <td>1</td>\n",
       "      <td>শনিবার</td>\n",
       "      <td>NNP</td>\n",
       "      <td>B-D&amp;T</td>\n",
       "    </tr>\n",
       "    <tr>\n",
       "      <th>1</th>\n",
       "      <td>1</td>\n",
       "      <td>(২৭</td>\n",
       "      <td>PUNCT</td>\n",
       "      <td>B-OTH</td>\n",
       "    </tr>\n",
       "    <tr>\n",
       "      <th>2</th>\n",
       "      <td>1</td>\n",
       "      <td>আগস্ট)</td>\n",
       "      <td>NNP</td>\n",
       "      <td>B-D&amp;T</td>\n",
       "    </tr>\n",
       "    <tr>\n",
       "      <th>3</th>\n",
       "      <td>1</td>\n",
       "      <td>রাতে</td>\n",
       "      <td>NNC</td>\n",
       "      <td>B-D&amp;T</td>\n",
       "    </tr>\n",
       "    <tr>\n",
       "      <th>4</th>\n",
       "      <td>1</td>\n",
       "      <td>পটুয়াখালী</td>\n",
       "      <td>NNP</td>\n",
       "      <td>B-GPE</td>\n",
       "    </tr>\n",
       "  </tbody>\n",
       "</table>\n",
       "</div>"
      ],
      "text/plain": [
       "  Sentence #       Token    POS    NER\n",
       "0          1      শনিবার    NNP  B-D&T\n",
       "1          1         (২৭  PUNCT  B-OTH\n",
       "2          1      আগস্ট)    NNP  B-D&T\n",
       "3          1        রাতে    NNC  B-D&T\n",
       "4          1  পটুয়াখালী    NNP  B-GPE"
      ]
     },
     "execution_count": 161,
     "metadata": {},
     "output_type": "execute_result"
    }
   ],
   "source": [
    "# Remove rows with infrequent POS or NER tags\n",
    "data_cleaned = data_cleaned[~data_cleaned['POS'].isin(infrequent_pos_tags) & ~data_cleaned['NER'].isin(infrequent_ner_tags)]\n",
    "data_cleaned.reset_index(drop=True, inplace=True)\n",
    "data_cleaned.head(5)"
   ]
  },
  {
   "cell_type": "code",
   "execution_count": 162,
   "metadata": {},
   "outputs": [
    {
     "name": "stdout",
     "output_type": "stream",
     "text": [
      "\n",
      "Token Distribution Summary:\n",
      "count    16247.000000\n",
      "mean         2.789684\n",
      "std          9.016175\n",
      "min          1.000000\n",
      "25%          1.000000\n",
      "50%          1.000000\n",
      "75%          2.000000\n",
      "max        442.000000\n",
      "Name: Token, dtype: float64\n",
      "\n",
      "POS Tag Distribution Summary:\n",
      "count       15.000000\n",
      "mean      3021.600000\n",
      "std       4578.532622\n",
      "min         19.000000\n",
      "25%        816.000000\n",
      "50%       1461.000000\n",
      "75%       3194.000000\n",
      "max      17803.000000\n",
      "Name: POS, dtype: float64\n",
      "\n",
      "NER Tag Distribution Summary:\n",
      "count       21.000000\n",
      "mean      2158.285714\n",
      "std       6643.519467\n",
      "min         12.000000\n",
      "25%        232.000000\n",
      "50%        460.000000\n",
      "75%       1151.000000\n",
      "max      30932.000000\n",
      "Name: NER, dtype: float64\n"
     ]
    }
   ],
   "source": [
    "# Summary of distributions\n",
    "print(\"\\nToken Distribution Summary:\")\n",
    "print(token_distribution.describe())\n",
    "\n",
    "print(\"\\nPOS Tag Distribution Summary:\")\n",
    "print(pos_distribution.describe())\n",
    "\n",
    "print(\"\\nNER Tag Distribution Summary:\")\n",
    "print(ner_distribution.describe())"
   ]
  },
  {
   "cell_type": "code",
   "execution_count": 163,
   "metadata": {},
   "outputs": [
    {
     "data": {
      "text/plain": [
       "(45324, 4)"
      ]
     },
     "execution_count": 163,
     "metadata": {},
     "output_type": "execute_result"
    }
   ],
   "source": [
    "data_cleaned.shape"
   ]
  },
  {
   "cell_type": "code",
   "execution_count": 164,
   "metadata": {},
   "outputs": [],
   "source": [
    "import seaborn as sns\n",
    "import matplotlib.pyplot as plt"
   ]
  },
  {
   "cell_type": "code",
   "execution_count": 165,
   "metadata": {},
   "outputs": [
    {
     "data": {
      "image/png": "[encoded data removed]",
      "text/plain": [
       "<Figure size 432x288 with 1 Axes>"
      ]
     },
     "metadata": {
      "needs_background": "light"
     },
     "output_type": "display_data"
    }
   ],
   "source": [
    "sns.countplot(data=data_cleaned, x='POS', hue = 'POS', dodge=False).legend_.remove()\n",
    "plt.xticks(rotation=30)\n",
    "plt.show()"
   ]
  },
  {
   "cell_type": "code",
   "execution_count": 166,
   "metadata": {},
   "outputs": [
    {
     "data": {
      "image/png": "[encoded data removed]",
      "text/plain": [
       "<Figure size 432x288 with 1 Axes>"
      ]
     },
     "metadata": {
      "needs_background": "light"
     },
     "output_type": "display_data"
    }
   ],
   "source": [
    "sns.countplot(data=data_cleaned, x='NER', hue = 'NER', dodge=False).legend_.remove()\n",
    "plt.xticks(rotation=30)\n",
    "plt.show()"
   ]
  },
  {
   "cell_type": "markdown",
   "metadata": {},
   "source": [
    "### Tokenize and Pad Sequences"
   ]
  },
  {
   "cell_type": "code",
   "execution_count": 167,
   "metadata": {},
   "outputs": [],
   "source": [
    "# from bnlp import NLTKTokenizer\n",
    "\n",
    "# bnltk = NLTKTokenizer()\n",
    "\n",
    "# text = \"আমি ভাত খাই। সে বাজারে যায়। তিনি কি সত্যিই ভালো মানুষ?\"\n",
    "# word_tokens = bnltk.word_tokenize(text)\n",
    "# sentence_tokens = bnltk.sentence_tokenize(text)\n",
    "# print(word_tokens)\n",
    "# print(sentence_tokens)"
   ]
  },
  {
   "cell_type": "code",
   "execution_count": 168,
   "metadata": {},
   "outputs": [
    {
     "data": {
      "text/plain": [
       "16248"
      ]
     },
     "execution_count": 168,
     "metadata": {},
     "output_type": "execute_result"
    }
   ],
   "source": [
    "words = list(set(data_cleaned['Token'].values))\n",
    "# put padding end token at the end\n",
    "words.append('ENDPAD')\n",
    "nbr_words = len(words)\n",
    "nbr_words"
   ]
  },
  {
   "cell_type": "code",
   "execution_count": 169,
   "metadata": {},
   "outputs": [
    {
     "data": {
      "text/plain": [
       "15"
      ]
     },
     "execution_count": 169,
     "metadata": {},
     "output_type": "execute_result"
    }
   ],
   "source": [
    "poss = list(set(data_cleaned['POS'].values))\n",
    "nbr_pos = len(poss)\n",
    "nbr_pos"
   ]
  },
  {
   "cell_type": "code",
   "execution_count": 170,
   "metadata": {},
   "outputs": [
    {
     "data": {
      "text/plain": [
       "21"
      ]
     },
     "execution_count": 170,
     "metadata": {},
     "output_type": "execute_result"
    }
   ],
   "source": [
    "ners = list(set(data_cleaned['NER'].values))\n",
    "nbr_ners = len(ners)\n",
    "nbr_ners"
   ]
  },
  {
   "cell_type": "code",
   "execution_count": 172,
   "metadata": {},
   "outputs": [],
   "source": [
    "# # Check lengths of sequences\n",
    "# print(f\"Token sequence length: {sequences.shape[1]}\")\n",
    "# print(f\"POS sequence length: {pos_sequences.shape[1]}\")\n",
    "# print(f\"NER sequence length: {ner_sequences.shape[1]}\")\n",
    "\n",
    "# # Verify that all sequences have the same length\n",
    "# assert sequences.shape[1] == pos_sequences.shape[1] == ner_sequences.shape[1], \"Sequences have different lengths!\""
   ]
  },
  {
   "cell_type": "code",
   "execution_count": 185,
   "metadata": {},
   "outputs": [],
   "source": [
    "def combine_word_ner_pos(data):\n",
    "    \"\"\"\n",
    "    Input (Pandas DataFrame): containing the dataset we want to group by sentence\n",
    "    Output (2D list): a 2D list where wach inner list corresponds to sentence and has tuples like so (word, pos, ner)\n",
    "    \"\"\"\n",
    "    # create the list of tuples (word, pos, tag)\n",
    "    tuples_fun =  lambda s:[(word, pos, ner) for word, pos, ner in zip(s['Token'].values.tolist(), s['POS'].values.tolist(), s['NER'].values.tolist())]\n",
    "    # group tuples by sentence to create the second dimension\n",
    "    combination = data.groupby('Sentence #').apply(tuples_fun).tolist()\n",
    "    \n",
    "    return combination"
   ]
  },
  {
   "cell_type": "code",
   "execution_count": 186,
   "metadata": {},
   "outputs": [
    {
     "data": {
      "text/plain": [
       "[[('শনিবার', 'NNP', 'B-D&T'),\n",
       "  ('(২৭', 'PUNCT', 'B-OTH'),\n",
       "  ('আগস্ট)', 'NNP', 'B-D&T'),\n",
       "  ('রাতে', 'NNC', 'B-D&T'),\n",
       "  ('পটুয়াখালী', 'NNP', 'B-GPE'),\n",
       "  ('সদর', 'NNC', 'I-GPE'),\n",
       "  ('থানার', 'NNC', 'I-GPE'),\n",
       "  ('ভারপ্রাপ্ত', 'ADJ', 'B-PER'),\n",
       "  ('কর্মকর্তা', 'NNC', 'I-PER'),\n",
       "  ('(ওসি)', 'PUNCT', 'B-OTH'),\n",
       "  ('মো.', 'NNP', 'B-PER'),\n",
       "  ('মনিরুজ্জামান', 'NNP', 'I-PER'),\n",
       "  ('এ', 'DET', 'B-OTH'),\n",
       "  ('তথ্য', 'NNC', 'B-OTH'),\n",
       "  ('নিশ্চিত', 'ADJ', 'B-OTH'),\n",
       "  ('করেছেন।', 'VF', 'B-OTH')],\n",
       " [('বায়ুদূষণ', 'NNC', 'B-OTH'),\n",
       "  ('ও', 'CONJ', 'B-OTH'),\n",
       "  ('স্মার্ট', 'NNC', 'B-OTH'),\n",
       "  ('ফোন', 'NNC', 'B-OTH'),\n",
       "  ('ছেলেমেয়ে', 'NNC', 'B-PER'),\n",
       "  ('উভয়ের', 'PRO', 'B-OTH'),\n",
       "  ('প্রজনন', 'NNC', 'B-OTH'),\n",
       "  ('ক্ষমতা', 'NNC', 'B-OTH'),\n",
       "  ('হ্রাস', 'NNC', 'B-OTH'),\n",
       "  ('করে', 'VNF', 'B-OTH'),\n",
       "  ('দিচ্ছে।', 'VF', 'B-OTH')],\n",
       " [('ছাত্র', 'NNC', 'B-OTH'),\n",
       "  ('রাজনীতির', 'NNC', 'B-OTH'),\n",
       "  ('বর্তমান', 'ADJ', 'B-OTH'),\n",
       "  ('অবস্থার', 'NNC', 'B-OTH'),\n",
       "  ('শুরু', 'NNC', 'B-OTH'),\n",
       "  ('হয়েছিলো', 'VF', 'B-OTH'),\n",
       "  ('স্বৈরশাসক', 'NNC', 'B-PER'),\n",
       "  ('এরশাদের', 'NNP', 'B-PER'),\n",
       "  ('হাত', 'NNC', 'B-OTH'),\n",
       "  ('ধরে।', 'PP', 'B-OTH')],\n",
       " [('শাকিল', 'NNP', 'B-PER'),\n",
       "  ('রাজধানীর', 'NNC', 'B-OTH'),\n",
       "  ('৩০০', 'QF', 'B-LOC'),\n",
       "  ('ফিট,', 'NNC', 'I-LOC'),\n",
       "  ('দিয়াবাড়ি', 'NNP', 'B-LOC'),\n",
       "  ('ও', 'CONJ', 'B-OTH'),\n",
       "  ('পূর্বাচল', 'NNP', 'B-LOC'),\n",
       "  ('এলাকায়', 'NNC', 'B-OTH'),\n",
       "  ('ছিনতাইয়ের', 'NNC', 'B-OTH'),\n",
       "  ('জন্য', 'PP', 'B-OTH'),\n",
       "  ('মেয়েদের', 'NNC', 'B-PER'),\n",
       "  ('নিয়ে', 'VNF', 'B-OTH'),\n",
       "  ('যেতেন', 'VF', 'B-OTH'),\n",
       "  ('বলে', 'PP', 'B-OTH'),\n",
       "  ('জানিয়েছে', 'VF', 'B-OTH'),\n",
       "  ('ডিবি।', 'NNP', 'B-ORG')],\n",
       " [('সম্প্রতি', 'ADV', 'B-OTH'),\n",
       "  ('ক্লাবের', 'NNC', 'B-ORG'),\n",
       "  ('নবীন', 'ADJ', 'B-OTH'),\n",
       "  ('ব্যবস্থাপনা', 'NNC', 'B-OTH'),\n",
       "  ('প্রশিক্ষণার্থী', 'NNC', 'B-PER'),\n",
       "  ('ও', 'CONJ', 'B-OTH'),\n",
       "  ('প্রশিক্ষণার্থী', 'NNC', 'B-PER'),\n",
       "  ('সহযোগীদের', 'NNC', 'B-PER'),\n",
       "  ('নিয়ে', 'PP', 'B-OTH'),\n",
       "  ('অনুষ্ঠিত', 'ADJ', 'B-OTH'),\n",
       "  ('হলো', 'VF', 'B-OTH'),\n",
       "  ('ওরিয়েন্টশন', 'NNC', 'B-EVENT'),\n",
       "  ('প্রোগ্রাম।', 'NNC', 'I-EVENT')]]"
      ]
     },
     "execution_count": 186,
     "metadata": {},
     "output_type": "execute_result"
    }
   ],
   "source": [
    "# apply the function on the dataset\n",
    "combination = combine_word_ner_pos(data_cleaned)\n",
    "combination[:5]"
   ]
  },
  {
   "cell_type": "markdown",
   "metadata": {},
   "source": [
    "#### Building the vocabulary"
   ]
  },
  {
   "cell_type": "code",
   "execution_count": 187,
   "metadata": {},
   "outputs": [
    {
     "name": "stdout",
     "output_type": "stream",
     "text": [
      "['সমন্বিত', 'পাঠায়', 'শেপের', 'বালিকার', 'আই-এর']\n",
      "['ADV', 'NNP', 'PP', 'VNF', 'QF', 'PART', 'NNC', 'OTH', 'PUNCT', 'ADJ', 'PRO', 'CONJ', 'DET', 'INTJ', 'VF']\n",
      "['B-MISC', 'I-MISC', 'B-OTH', 'I-LOC', 'B-ORG']\n"
     ]
    }
   ],
   "source": [
    "\n",
    "words_vocab = {word: i+1 for i, word in enumerate(words)}\n",
    "ners_vocab = {ner: i+1 for i, ner in enumerate(ners)}\n",
    "pos_vocab = {pos: i+1 for i, pos in enumerate(poss)}\n",
    "\n",
    "print(list(words_vocab)[:5])\n",
    "print(list(pos_vocab))\n",
    "print(list(ners_vocab)[:5])"
   ]
  },
  {
   "cell_type": "code",
   "execution_count": 188,
   "metadata": {},
   "outputs": [
    {
     "data": {
      "image/png": "[encoded data removed]",
      "text/plain": [
       "<Figure size 432x288 with 1 Axes>"
      ]
     },
     "metadata": {
      "needs_background": "light"
     },
     "output_type": "display_data"
    }
   ],
   "source": [
    "# Calculate the lengths of the sentences\n",
    "sentence_lengths = [len(c) for c in combination]\n",
    "\n",
    "# Create the box plot\n",
    "sns.boxplot(y=sentence_lengths)\n",
    "\n",
    "# Set plot labels\n",
    "plt.xlabel('Sentences')\n",
    "plt.ylabel('Length')\n",
    "plt.title('Box Plot of Sentence Lengths')\n",
    "\n",
    "# Show the plot\n",
    "plt.show()"
   ]
  },
  {
   "cell_type": "markdown",
   "metadata": {},
   "source": [
    "We will take it as maximum length (25, disregarding the outliers) to take into consideration the longer sentences as well - and pad any shorter ones."
   ]
  },
  {
   "cell_type": "code",
   "execution_count": 191,
   "metadata": {},
   "outputs": [
    {
     "data": {
      "text/plain": [
       "('ENDPAD', 16248)"
      ]
     },
     "execution_count": 191,
     "metadata": {},
     "output_type": "execute_result"
    }
   ],
   "source": [
    "list(words_vocab.items())[nbr_words-1]"
   ]
  },
  {
   "cell_type": "code",
   "execution_count": 195,
   "metadata": {},
   "outputs": [
    {
     "data": {
      "text/plain": [
       "('VF', 15)"
      ]
     },
     "execution_count": 195,
     "metadata": {},
     "output_type": "execute_result"
    }
   ],
   "source": [
    "list(pos_vocab.items())[nbr_pos-1]"
   ]
  },
  {
   "cell_type": "code",
   "execution_count": 192,
   "metadata": {},
   "outputs": [
    {
     "data": {
      "text/plain": [
       "{'ADJ': 10,\n",
       " 'ADV': 1,\n",
       " 'CONJ': 12,\n",
       " 'DET': 13,\n",
       " 'INTJ': 14,\n",
       " 'NNC': 7,\n",
       " 'NNP': 2,\n",
       " 'OTH': 8,\n",
       " 'PART': 6,\n",
       " 'PP': 3,\n",
       " 'PRO': 11,\n",
       " 'PUNCT': 9,\n",
       " 'QF': 5,\n",
       " 'VF': 15,\n",
       " 'VNF': 4}"
      ]
     },
     "execution_count": 192,
     "metadata": {},
     "output_type": "execute_result"
    }
   ],
   "source": [
    "pos_vocab"
   ]
  },
  {
   "cell_type": "code",
   "execution_count": 198,
   "metadata": {},
   "outputs": [],
   "source": [
    "from keras_preprocessing.sequence import pad_sequences\n",
    "# define maximum sentence length\n",
    "max_len = 25\n",
    "\n",
    "# creating the features set\n",
    "# getting nbr representation for each word\n",
    "x = [[words_vocab[tuple[0]] for tuple in c] for c in combination]\n",
    "# padding the sentences so they would all be 25 words (padding value: 'ENDPAD')\n",
    "x = pad_sequences(maxlen=max_len, sequences = x, padding='post', value = nbr_words-1)\n",
    "\n",
    "# creating the target set\n",
    "# getting nbr representation for each pos\n",
    "y = [[pos_vocab[tuple[1]] for tuple in c] for c in combination]\n",
    "# padding the sentences so they would all be the same length (padding value O - other)\n",
    "y = pad_sequences(maxlen=max_len, sequences=y, padding='post', value = nbr_pos-1)"
   ]
  },
  {
   "cell_type": "code",
   "execution_count": 199,
   "metadata": {},
   "outputs": [
    {
     "name": "stdout",
     "output_type": "stream",
     "text": [
      "feature set:  [[  194  5725 15557 15148  9282 10402  8778  2021  3851  3000   656  5084\n",
      "   9966  7788 12764  9620 16247 16247 16247 16247 16247 16247 16247 16247\n",
      "  16247]\n",
      " [ 3274  5939 10426 14106   805 15091   619  3236  2914   654 14328 16247\n",
      "  16247 16247 16247 16247 16247 16247 16247 16247 16247 16247 16247 16247\n",
      "  16247]]\n",
      "labels:  [[ 2  9  2  7  2  7  7 10  7  9  2  2 13  7 10 15 14 14 14 14 14 14 14 14\n",
      "  14]\n",
      " [ 7 12  7  7  7 11  7  7  7  4 15 14 14 14 14 14 14 14 14 14 14 14 14 14\n",
      "  14]]\n"
     ]
    }
   ],
   "source": [
    "# take a look at the x and y sets\n",
    "print('feature set: ',x[:2])\n",
    "print('labels: ', y[:2])"
   ]
  },
  {
   "cell_type": "markdown",
   "metadata": {},
   "source": [
    "### Train-Test"
   ]
  },
  {
   "cell_type": "code",
   "execution_count": 200,
   "metadata": {},
   "outputs": [],
   "source": [
    "from sklearn.model_selection import train_test_split\n",
    "\n",
    "train_x, test_x, train_y, test_y = train_test_split(x, y, test_size=0.2, random_state=1)"
   ]
  },
  {
   "cell_type": "code",
   "execution_count": 201,
   "metadata": {},
   "outputs": [
    {
     "name": "stdout",
     "output_type": "stream",
     "text": [
      "train_x size: (3246, 25)\n",
      "train_y size: (3246, 25)\n",
      "test_x size: (812, 25)\n",
      "test_y size: (812, 25)\n"
     ]
    }
   ],
   "source": [
    "print(f'train_x size: {train_x.shape}')\n",
    "print(f'train_y size: {train_y.shape}')\n",
    "print(f'test_x size: {test_x.shape}')\n",
    "print(f'test_y size: {test_y.shape}')"
   ]
  },
  {
   "cell_type": "code",
   "execution_count": 203,
   "metadata": {},
   "outputs": [],
   "source": [
    "import numpy as np\n",
    "import pickle\n",
    "import os\n",
    "\n",
    "os.makedirs('processed_data', exist_ok=True)\n",
    "\n",
    "# Save the arrays\n",
    "np.save('./processed_data/train_x.npy', train_x)\n",
    "np.save('./processed_data/test_x.npy', test_x)\n",
    "np.save('./processed_data/train_y.npy', train_y)\n",
    "np.save('./processed_data/test_y.npy', test_y)\n",
    "\n",
    "# Save the vocab dictionaries\n",
    "with open('./processed_data/words_vocab.pkl', 'wb') as f:\n",
    "    pickle.dump(words_vocab, f)\n",
    "\n",
    "with open('./processed_data/pos_vocab.pkl', 'wb') as f:\n",
    "    pickle.dump(pos_vocab, f)\n",
    "\n",
    "with open('./processed_data/ners_vocab.pkl', 'wb') as f:\n",
    "    pickle.dump(ners_vocab, f)\n",
    "\n",
    "# Save the words, poss, and ners lists\n",
    "with open('processed_data/words.pkl', 'wb') as f:\n",
    "    pickle.dump(words, f)\n",
    "\n",
    "with open('processed_data/poss.pkl', 'wb') as f:\n",
    "    pickle.dump(poss, f)\n",
    "\n",
    "with open('processed_data/ners.pkl', 'wb') as f:\n",
    "    pickle.dump(ners, f)"
   ]
  },
  {
   "cell_type": "code",
   "execution_count": null,
   "metadata": {},
   "outputs": [],
   "source": []
  }
 ],
 "metadata": {
  "kernelspec": {
   "display_name": "Python 3",
   "language": "python",
   "name": "python3"
  },
  "language_info": {
   "codemirror_mode": {
    "name": "ipython",
    "version": 3
   },
   "file_extension": ".py",
   "mimetype": "text/x-python",
   "name": "python",
   "nbconvert_exporter": "python",
   "pygments_lexer": "ipython3",
   "version": "3.7.9"
  }
 },
 "nbformat": 4,
 "nbformat_minor": 2
}
