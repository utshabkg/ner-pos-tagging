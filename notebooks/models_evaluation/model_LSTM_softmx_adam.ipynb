{
 "cells": [
  {
   "cell_type": "markdown",
   "metadata": {},
   "source": [
    "### Load Processed Data"
   ]
  },
  {
   "cell_type": "code",
   "execution_count": 1,
   "metadata": {},
   "outputs": [],
   "source": [
    "import numpy as np\n",
    "import pickle\n",
    "\n",
    "# Load the arrays\n",
    "train_x = np.load('../analysis-preprocessing/processed_data/train_x.npy')\n",
    "test_x = np.load('../analysis-preprocessing/processed_data/test_x.npy')\n",
    "train_y_pos = np.load('../analysis-preprocessing/processed_data/train_y_pos.npy')\n",
    "test_y_pos = np.load('../analysis-preprocessing/processed_data/test_y_pos.npy')\n",
    "train_y_ner = np.load('../analysis-preprocessing/processed_data/train_y_ner.npy')\n",
    "test_y_ner = np.load('../analysis-preprocessing/processed_data/test_y_ner.npy')\n",
    "\n",
    "\n",
    "# Load the vocab dictionaries\n",
    "with open('../analysis-preprocessing/processed_data/words_vocab.pkl', 'rb') as f:\n",
    "    words_vocab = pickle.load(f)\n",
    "\n",
    "with open('../analysis-preprocessing/processed_data/pos_vocab.pkl', 'rb') as f:\n",
    "    pos_vocab = pickle.load(f)\n",
    "\n",
    "with open('../analysis-preprocessing/processed_data/ners_vocab.pkl', 'rb') as f:\n",
    "    ners_vocab = pickle.load(f)\n",
    "\n",
    "# Load the words, poss, and ners lists\n",
    "with open('../analysis-preprocessing/processed_data/words.pkl', 'rb') as f:\n",
    "    words = pickle.load(f)\n",
    "\n",
    "with open('../analysis-preprocessing/processed_data/poss.pkl', 'rb') as f:\n",
    "    poss = pickle.load(f)\n",
    "\n",
    "with open('../analysis-preprocessing/processed_data/ners.pkl', 'rb') as f:\n",
    "    ners = pickle.load(f)\n",
    "\n",
    "# Define the number of unique words, POS tags, and NER tags\n",
    "nbr_words = len(words_vocab)\n",
    "nbr_pos = len(pos_vocab)\n",
    "nbr_ners = len(ners_vocab)\n",
    "\n",
    "# Define maximum sentence length\n",
    "max_len = 25\n"
   ]
  },
  {
   "cell_type": "markdown",
   "metadata": {},
   "source": [
    "### Building the model"
   ]
  },
  {
   "cell_type": "code",
   "execution_count": 2,
   "metadata": {},
   "outputs": [
    {
     "name": "stdout",
     "output_type": "stream",
     "text": [
      "WARNING:tensorflow:From c:\\Users\\UTSHAB\\anaconda3\\envs\\end-to-end-nlp-practice\\lib\\site-packages\\keras\\src\\losses.py:2976: The name tf.losses.sparse_softmax_cross_entropy is deprecated. Please use tf.compat.v1.losses.sparse_softmax_cross_entropy instead.\n",
      "\n"
     ]
    }
   ],
   "source": [
    "# import classes\n",
    "import tensorflow as tf\n",
    "import random\n",
    "from keras.layers import Dense, Embedding, LSTM, Input\n",
    "from keras.models import Model\n",
    "from keras.callbacks import EarlyStopping"
   ]
  },
  {
   "cell_type": "code",
   "execution_count": 3,
   "metadata": {},
   "outputs": [],
   "source": [
    "# Set the seed for reproducibility\n",
    "seed = 42\n",
    "random.seed(seed)\n",
    "np.random.seed(seed)\n",
    "tf.random.set_seed(seed)"
   ]
  },
  {
   "cell_type": "code",
   "execution_count": 4,
   "metadata": {},
   "outputs": [
    {
     "name": "stdout",
     "output_type": "stream",
     "text": [
      "WARNING:tensorflow:From c:\\Users\\UTSHAB\\anaconda3\\envs\\end-to-end-nlp-practice\\lib\\site-packages\\keras\\src\\backend.py:277: The name tf.reset_default_graph is deprecated. Please use tf.compat.v1.reset_default_graph instead.\n",
      "\n"
     ]
    }
   ],
   "source": [
    "from keras import backend as K\n",
    "\n",
    "# Clear previous session\n",
    "K.clear_session()"
   ]
  },
  {
   "cell_type": "code",
   "execution_count": 5,
   "metadata": {},
   "outputs": [
    {
     "name": "stdout",
     "output_type": "stream",
     "text": [
      "vocab size = 14510\n",
      "embedding size = 25\n",
      "number of possible pos labels = 15\n",
      "number of possible ner labels = 21\n"
     ]
    }
   ],
   "source": [
    "print(f'vocab size = {len(words_vocab)}')\n",
    "print(f'embedding size = {max_len}')\n",
    "print(f'number of possible pos labels = {len(pos_vocab)}')\n",
    "print(f'number of possible ner labels = {len(ners_vocab)}')"
   ]
  },
  {
   "cell_type": "markdown",
   "metadata": {},
   "source": [
    "### Test-Validation Split"
   ]
  },
  {
   "cell_type": "code",
   "execution_count": 6,
   "metadata": {},
   "outputs": [],
   "source": [
    "from sklearn.model_selection import train_test_split\n",
    "val_x, test_x, val_y_pos, test_y_pos, val_y_ner, test_y_ner = train_test_split(\n",
    "    test_x, test_y_pos, test_y_ner, test_size=0.5, random_state=seed\n",
    ")"
   ]
  },
  {
   "cell_type": "code",
   "execution_count": 7,
   "metadata": {},
   "outputs": [
    {
     "name": "stdout",
     "output_type": "stream",
     "text": [
      "Train X shape: (3246, 25)\n",
      "Validation X shape: (406, 25)\n",
      "Test X shape: (406, 25)\n",
      "Train Y POS shape: (3246, 25)\n",
      "Validation Y POS shape: (406, 25)\n",
      "Test Y POS shape: (406, 25)\n",
      "Train Y NER shape: (3246, 25)\n",
      "Validation Y NER shape: (406, 25)\n",
      "Test Y NER shape: (406, 25)\n"
     ]
    }
   ],
   "source": [
    "# Print shapes to verify splits\n",
    "print(f\"Train X shape: {np.array(train_x).shape}\")\n",
    "print(f\"Validation X shape: {np.array(val_x).shape}\")\n",
    "print(f\"Test X shape: {np.array(test_x).shape}\")\n",
    "print(f\"Train Y POS shape: {np.array(train_y_pos).shape}\")\n",
    "print(f\"Validation Y POS shape: {np.array(val_y_pos).shape}\")\n",
    "print(f\"Test Y POS shape: {np.array(test_y_pos).shape}\")\n",
    "print(f\"Train Y NER shape: {np.array(train_y_ner).shape}\")\n",
    "print(f\"Validation Y NER shape: {np.array(val_y_ner).shape}\")\n",
    "print(f\"Test Y NER shape: {np.array(test_y_ner).shape}\")"
   ]
  },
  {
   "cell_type": "code",
   "execution_count": 8,
   "metadata": {},
   "outputs": [
    {
     "name": "stdout",
     "output_type": "stream",
     "text": [
      "Unique POS labels: [ 0  1  2  3  4  5  6  7  8  9 10 11 12 13 14]\n",
      "Unique NER labels: [ 0  1  2  3  4  5  6  7  8  9 10 11 12 13 14 15 16 17 18 19 20]\n",
      "Number of POS classes: 15\n",
      "Number of NER classes: 21\n"
     ]
    }
   ],
   "source": [
    "print(f\"Unique POS labels: {np.unique(np.concatenate(train_y_pos))}\")\n",
    "print(f\"Unique NER labels: {np.unique(np.concatenate(train_y_ner))}\")\n",
    "\n",
    "print(f\"Number of POS classes: {nbr_pos}\")\n",
    "print(f\"Number of NER classes: {nbr_ners}\")"
   ]
  },
  {
   "cell_type": "markdown",
   "metadata": {},
   "source": [
    "### Model"
   ]
  },
  {
   "cell_type": "code",
   "execution_count": 9,
   "metadata": {},
   "outputs": [],
   "source": [
    "from sklearn.utils.class_weight import compute_class_weight\n",
    "\n",
    "# Compute class weights for POS\n",
    "class_weights_pos = compute_class_weight(\n",
    "    class_weight='balanced',\n",
    "    classes=np.arange(nbr_pos),\n",
    "    y=np.concatenate(train_y_pos)\n",
    ")\n",
    "class_weights_pos = dict(enumerate(class_weights_pos))\n",
    "\n",
    "# Compute class weights for NER\n",
    "class_weights_ner = compute_class_weight(\n",
    "    class_weight='balanced',\n",
    "    classes=np.arange(nbr_ners),\n",
    "    y=np.concatenate(train_y_ner)\n",
    ")\n",
    "class_weights_ner = dict(enumerate(class_weights_ner))"
   ]
  },
  {
   "cell_type": "code",
   "execution_count": 10,
   "metadata": {},
   "outputs": [],
   "source": [
    "# Define the model\n",
    "input_layer = Input(shape=(max_len,))\n",
    "embedding_layer = Embedding(input_dim=nbr_words, output_dim=25, input_length=max_len)(input_layer)\n",
    "lstm_layer = LSTM(units=100, activation='tanh', return_sequences=True, recurrent_dropout=0.1)(embedding_layer)"
   ]
  },
  {
   "cell_type": "code",
   "execution_count": 11,
   "metadata": {},
   "outputs": [],
   "source": [
    "# Output layers for POS and NER\n",
    "pos_output = Dense(nbr_pos, activation='softmax', name='pos_output')(lstm_layer)\n",
    "ner_output = Dense(nbr_ners, activation='softmax', name='ner_output')(lstm_layer)"
   ]
  },
  {
   "cell_type": "code",
   "execution_count": 12,
   "metadata": {},
   "outputs": [
    {
     "name": "stdout",
     "output_type": "stream",
     "text": [
      "WARNING:tensorflow:From c:\\Users\\UTSHAB\\anaconda3\\envs\\end-to-end-nlp-practice\\lib\\site-packages\\keras\\src\\optimizers\\__init__.py:309: The name tf.train.Optimizer is deprecated. Please use tf.compat.v1.train.Optimizer instead.\n",
      "\n",
      "Model: \"model\"\n",
      "__________________________________________________________________________________________________\n",
      " Layer (type)                Output Shape                 Param #   Connected to                  \n",
      "==================================================================================================\n",
      " input_1 (InputLayer)        [(None, 25)]                 0         []                            \n",
      "                                                                                                  \n",
      " embedding (Embedding)       (None, 25, 25)               362750    ['input_1[0][0]']             \n",
      "                                                                                                  \n",
      " lstm (LSTM)                 (None, 25, 100)              50400     ['embedding[0][0]']           \n",
      "                                                                                                  \n",
      " pos_output (Dense)          (None, 25, 15)               1515      ['lstm[0][0]']                \n",
      "                                                                                                  \n",
      " ner_output (Dense)          (None, 25, 21)               2121      ['lstm[0][0]']                \n",
      "                                                                                                  \n",
      "==================================================================================================\n",
      "Total params: 416786 (1.59 MB)\n",
      "Trainable params: 416786 (1.59 MB)\n",
      "Non-trainable params: 0 (0.00 Byte)\n",
      "__________________________________________________________________________________________________\n",
      "None\n"
     ]
    }
   ],
   "source": [
    "# Define the model with two outputs\n",
    "model = Model(inputs=input_layer, outputs=[pos_output, ner_output])\n",
    "\n",
    "# Compile the model\n",
    "model.compile(optimizer=\"adam\",\n",
    "              loss={\"pos_output\": \"sparse_categorical_crossentropy\", \"ner_output\": \"sparse_categorical_crossentropy\"},\n",
    "              metrics={\"pos_output\": \"accuracy\", \"ner_output\": \"accuracy\"})\n",
    "\n",
    "print(model.summary())"
   ]
  },
  {
   "cell_type": "code",
   "execution_count": 13,
   "metadata": {},
   "outputs": [],
   "source": [
    "# # Example of ensuring labels are correctly encoded\n",
    "# def encode_labels(labels, vocab_size):\n",
    "#     \"\"\"Ensure all label values are within the range [0, vocab_size-1].\"\"\"\n",
    "#     encoded_labels = np.clip(labels, 0, vocab_size - 1)\n",
    "#     return encoded_labels\n",
    "\n",
    "# # Apply this function to your labels\n",
    "# train_y_pos = encode_labels(train_y_pos, nbr_pos)\n",
    "# train_y_ner = encode_labels(train_y_ner, nbr_ners)\n",
    "# test_y_pos = encode_labels(test_y_pos, nbr_pos)\n",
    "# test_y_ner = encode_labels(test_y_ner, nbr_ners)"
   ]
  },
  {
   "cell_type": "code",
   "execution_count": 14,
   "metadata": {},
   "outputs": [],
   "source": [
    "# Define early stopping\n",
    "early_stopping = EarlyStopping(monitor='val_ner_output_accuracy', min_delta=0, patience=10, verbose=1, mode='max')"
   ]
  },
  {
   "cell_type": "code",
   "execution_count": 15,
   "metadata": {},
   "outputs": [
    {
     "name": "stdout",
     "output_type": "stream",
     "text": [
      "Epoch 1/100\n",
      "WARNING:tensorflow:From c:\\Users\\UTSHAB\\anaconda3\\envs\\end-to-end-nlp-practice\\lib\\site-packages\\keras\\src\\engine\\base_layer_utils.py:384: The name tf.executing_eagerly_outside_functions is deprecated. Please use tf.compat.v1.executing_eagerly_outside_functions instead.\n",
      "\n",
      "WARNING:tensorflow:From c:\\Users\\UTSHAB\\anaconda3\\envs\\end-to-end-nlp-practice\\lib\\site-packages\\keras\\src\\utils\\tf_utils.py:492: The name tf.ragged.RaggedTensorValue is deprecated. Please use tf.compat.v1.ragged.RaggedTensorValue instead.\n",
      "\n",
      "102/102 [==============================] - 6s 29ms/step - loss: 2.9560 - pos_output_loss: 1.4914 - ner_output_loss: 1.4645 - pos_output_accuracy: 0.5836 - ner_output_accuracy: 0.6641 - val_loss: 2.1861 - val_pos_output_loss: 1.1754 - val_ner_output_loss: 1.0107 - val_pos_output_accuracy: 0.6925 - val_ner_output_accuracy: 0.8040\n",
      "Epoch 2/100\n",
      "102/102 [==============================] - 2s 20ms/step - loss: 1.8993 - pos_output_loss: 1.0389 - ner_output_loss: 0.8603 - pos_output_accuracy: 0.7193 - ner_output_accuracy: 0.8374 - val_loss: 1.8013 - val_pos_output_loss: 1.0052 - val_ner_output_loss: 0.7961 - val_pos_output_accuracy: 0.7187 - val_ner_output_accuracy: 0.8460\n",
      "Epoch 3/100\n",
      "102/102 [==============================] - 2s 20ms/step - loss: 1.6551 - pos_output_loss: 0.9323 - ner_output_loss: 0.7228 - pos_output_accuracy: 0.7290 - ner_output_accuracy: 0.8582 - val_loss: 1.6593 - val_pos_output_loss: 0.9449 - val_ner_output_loss: 0.7144 - val_pos_output_accuracy: 0.7259 - val_ner_output_accuracy: 0.8545\n",
      "Epoch 4/100\n",
      "102/102 [==============================] - 2s 20ms/step - loss: 1.5399 - pos_output_loss: 0.8842 - ner_output_loss: 0.6558 - pos_output_accuracy: 0.7332 - ner_output_accuracy: 0.8587 - val_loss: 1.5759 - val_pos_output_loss: 0.9116 - val_ner_output_loss: 0.6643 - val_pos_output_accuracy: 0.7278 - val_ner_output_accuracy: 0.8545\n",
      "Epoch 5/100\n",
      "102/102 [==============================] - 2s 20ms/step - loss: 1.4345 - pos_output_loss: 0.8378 - ner_output_loss: 0.5967 - pos_output_accuracy: 0.7419 - ner_output_accuracy: 0.8587 - val_loss: 1.4971 - val_pos_output_loss: 0.8734 - val_ner_output_loss: 0.6237 - val_pos_output_accuracy: 0.7328 - val_ner_output_accuracy: 0.8548\n",
      "Epoch 6/100\n",
      "102/102 [==============================] - 2s 19ms/step - loss: 1.3268 - pos_output_loss: 0.7827 - ner_output_loss: 0.5441 - pos_output_accuracy: 0.7592 - ner_output_accuracy: 0.8609 - val_loss: 1.3893 - val_pos_output_loss: 0.8112 - val_ner_output_loss: 0.5781 - val_pos_output_accuracy: 0.7501 - val_ner_output_accuracy: 0.8570\n",
      "Epoch 7/100\n",
      "102/102 [==============================] - 2s 19ms/step - loss: 1.1775 - pos_output_loss: 0.6931 - ner_output_loss: 0.4844 - pos_output_accuracy: 0.7802 - ner_output_accuracy: 0.8682 - val_loss: 1.2298 - val_pos_output_loss: 0.7083 - val_ner_output_loss: 0.5215 - val_pos_output_accuracy: 0.7731 - val_ner_output_accuracy: 0.8648\n",
      "Epoch 8/100\n",
      "102/102 [==============================] - 2s 20ms/step - loss: 0.9890 - pos_output_loss: 0.5710 - ner_output_loss: 0.4181 - pos_output_accuracy: 0.8162 - ner_output_accuracy: 0.8807 - val_loss: 1.0918 - val_pos_output_loss: 0.6085 - val_ner_output_loss: 0.4833 - val_pos_output_accuracy: 0.8071 - val_ner_output_accuracy: 0.8726\n",
      "Epoch 9/100\n",
      "102/102 [==============================] - 2s 19ms/step - loss: 0.8109 - pos_output_loss: 0.4498 - ner_output_loss: 0.3611 - pos_output_accuracy: 0.8615 - ner_output_accuracy: 0.8950 - val_loss: 0.9646 - val_pos_output_loss: 0.5186 - val_ner_output_loss: 0.4460 - val_pos_output_accuracy: 0.8428 - val_ner_output_accuracy: 0.8823\n",
      "Epoch 10/100\n",
      "102/102 [==============================] - 2s 19ms/step - loss: 0.6570 - pos_output_loss: 0.3417 - ner_output_loss: 0.3154 - pos_output_accuracy: 0.9016 - ner_output_accuracy: 0.9089 - val_loss: 0.8874 - val_pos_output_loss: 0.4589 - val_ner_output_loss: 0.4285 - val_pos_output_accuracy: 0.8660 - val_ner_output_accuracy: 0.8887\n",
      "Epoch 11/100\n",
      "102/102 [==============================] - 2s 20ms/step - loss: 0.5367 - pos_output_loss: 0.2610 - ner_output_loss: 0.2757 - pos_output_accuracy: 0.9309 - ner_output_accuracy: 0.9219 - val_loss: 0.8317 - val_pos_output_loss: 0.4219 - val_ner_output_loss: 0.4098 - val_pos_output_accuracy: 0.8821 - val_ner_output_accuracy: 0.8982\n",
      "Epoch 12/100\n",
      "102/102 [==============================] - 2s 20ms/step - loss: 0.4466 - pos_output_loss: 0.2043 - ner_output_loss: 0.2423 - pos_output_accuracy: 0.9494 - ner_output_accuracy: 0.9326 - val_loss: 0.7986 - val_pos_output_loss: 0.3969 - val_ner_output_loss: 0.4016 - val_pos_output_accuracy: 0.8900 - val_ner_output_accuracy: 0.9020\n",
      "Epoch 13/100\n",
      "102/102 [==============================] - 2s 24ms/step - loss: 0.3771 - pos_output_loss: 0.1635 - ner_output_loss: 0.2136 - pos_output_accuracy: 0.9624 - ner_output_accuracy: 0.9417 - val_loss: 0.7925 - val_pos_output_loss: 0.3860 - val_ner_output_loss: 0.4065 - val_pos_output_accuracy: 0.8941 - val_ner_output_accuracy: 0.9061\n",
      "Epoch 14/100\n",
      "102/102 [==============================] - 2s 22ms/step - loss: 0.3224 - pos_output_loss: 0.1331 - ner_output_loss: 0.1893 - pos_output_accuracy: 0.9704 - ner_output_accuracy: 0.9483 - val_loss: 0.7691 - val_pos_output_loss: 0.3759 - val_ner_output_loss: 0.3932 - val_pos_output_accuracy: 0.9007 - val_ner_output_accuracy: 0.9070\n",
      "Epoch 15/100\n",
      "102/102 [==============================] - 3s 25ms/step - loss: 0.2775 - pos_output_loss: 0.1109 - ner_output_loss: 0.1667 - pos_output_accuracy: 0.9748 - ner_output_accuracy: 0.9544 - val_loss: 0.7718 - val_pos_output_loss: 0.3735 - val_ner_output_loss: 0.3984 - val_pos_output_accuracy: 0.9020 - val_ner_output_accuracy: 0.9105\n",
      "Epoch 16/100\n",
      "102/102 [==============================] - 2s 23ms/step - loss: 0.2407 - pos_output_loss: 0.0941 - ner_output_loss: 0.1466 - pos_output_accuracy: 0.9784 - ner_output_accuracy: 0.9600 - val_loss: 0.7613 - val_pos_output_loss: 0.3693 - val_ner_output_loss: 0.3921 - val_pos_output_accuracy: 0.9034 - val_ner_output_accuracy: 0.9089\n",
      "Epoch 17/100\n",
      "102/102 [==============================] - 3s 25ms/step - loss: 0.2096 - pos_output_loss: 0.0819 - ner_output_loss: 0.1277 - pos_output_accuracy: 0.9802 - ner_output_accuracy: 0.9660 - val_loss: 0.7771 - val_pos_output_loss: 0.3781 - val_ner_output_loss: 0.3989 - val_pos_output_accuracy: 0.9054 - val_ner_output_accuracy: 0.9117\n",
      "Epoch 18/100\n",
      "102/102 [==============================] - 3s 26ms/step - loss: 0.1826 - pos_output_loss: 0.0709 - ner_output_loss: 0.1117 - pos_output_accuracy: 0.9830 - ner_output_accuracy: 0.9702 - val_loss: 0.7713 - val_pos_output_loss: 0.3785 - val_ner_output_loss: 0.3928 - val_pos_output_accuracy: 0.9081 - val_ner_output_accuracy: 0.9143\n",
      "Epoch 19/100\n",
      "102/102 [==============================] - 2s 25ms/step - loss: 0.1607 - pos_output_loss: 0.0633 - ner_output_loss: 0.0974 - pos_output_accuracy: 0.9841 - ner_output_accuracy: 0.9741 - val_loss: 0.7807 - val_pos_output_loss: 0.3856 - val_ner_output_loss: 0.3951 - val_pos_output_accuracy: 0.9070 - val_ner_output_accuracy: 0.9138\n",
      "Epoch 20/100\n",
      "102/102 [==============================] - 3s 25ms/step - loss: 0.1407 - pos_output_loss: 0.0556 - ner_output_loss: 0.0851 - pos_output_accuracy: 0.9861 - ner_output_accuracy: 0.9781 - val_loss: 0.7915 - val_pos_output_loss: 0.3958 - val_ner_output_loss: 0.3957 - val_pos_output_accuracy: 0.9064 - val_ner_output_accuracy: 0.9160\n",
      "Epoch 21/100\n",
      "102/102 [==============================] - 2s 22ms/step - loss: 0.1256 - pos_output_loss: 0.0508 - ner_output_loss: 0.0748 - pos_output_accuracy: 0.9868 - ner_output_accuracy: 0.9812 - val_loss: 0.7998 - val_pos_output_loss: 0.4068 - val_ner_output_loss: 0.3930 - val_pos_output_accuracy: 0.9083 - val_ner_output_accuracy: 0.9152\n",
      "Epoch 22/100\n",
      "102/102 [==============================] - 2s 22ms/step - loss: 0.1127 - pos_output_loss: 0.0460 - ner_output_loss: 0.0667 - pos_output_accuracy: 0.9881 - ner_output_accuracy: 0.9837 - val_loss: 0.8086 - val_pos_output_loss: 0.4058 - val_ner_output_loss: 0.4029 - val_pos_output_accuracy: 0.9076 - val_ner_output_accuracy: 0.9177\n",
      "Epoch 23/100\n",
      "102/102 [==============================] - 3s 25ms/step - loss: 0.1007 - pos_output_loss: 0.0418 - ner_output_loss: 0.0589 - pos_output_accuracy: 0.9893 - ner_output_accuracy: 0.9860 - val_loss: 0.8229 - val_pos_output_loss: 0.4256 - val_ner_output_loss: 0.3974 - val_pos_output_accuracy: 0.9082 - val_ner_output_accuracy: 0.9154\n",
      "Epoch 24/100\n",
      "102/102 [==============================] - 2s 22ms/step - loss: 0.0917 - pos_output_loss: 0.0384 - ner_output_loss: 0.0533 - pos_output_accuracy: 0.9902 - ner_output_accuracy: 0.9875 - val_loss: 0.8277 - val_pos_output_loss: 0.4170 - val_ner_output_loss: 0.4107 - val_pos_output_accuracy: 0.9089 - val_ner_output_accuracy: 0.9179\n",
      "Epoch 25/100\n",
      "102/102 [==============================] - 2s 22ms/step - loss: 0.0832 - pos_output_loss: 0.0352 - ner_output_loss: 0.0480 - pos_output_accuracy: 0.9909 - ner_output_accuracy: 0.9888 - val_loss: 0.8405 - val_pos_output_loss: 0.4295 - val_ner_output_loss: 0.4110 - val_pos_output_accuracy: 0.9085 - val_ner_output_accuracy: 0.9186\n",
      "Epoch 26/100\n",
      "102/102 [==============================] - 2s 22ms/step - loss: 0.0758 - pos_output_loss: 0.0325 - ner_output_loss: 0.0433 - pos_output_accuracy: 0.9917 - ner_output_accuracy: 0.9903 - val_loss: 0.8626 - val_pos_output_loss: 0.4471 - val_ner_output_loss: 0.4155 - val_pos_output_accuracy: 0.9087 - val_ner_output_accuracy: 0.9184\n",
      "Epoch 27/100\n",
      "102/102 [==============================] - 2s 23ms/step - loss: 0.0696 - pos_output_loss: 0.0301 - ner_output_loss: 0.0395 - pos_output_accuracy: 0.9923 - ner_output_accuracy: 0.9911 - val_loss: 0.8912 - val_pos_output_loss: 0.4593 - val_ner_output_loss: 0.4319 - val_pos_output_accuracy: 0.9110 - val_ner_output_accuracy: 0.9201\n",
      "Epoch 28/100\n",
      "102/102 [==============================] - 2s 23ms/step - loss: 0.0638 - pos_output_loss: 0.0278 - ner_output_loss: 0.0360 - pos_output_accuracy: 0.9931 - ner_output_accuracy: 0.9921 - val_loss: 0.8861 - val_pos_output_loss: 0.4616 - val_ner_output_loss: 0.4245 - val_pos_output_accuracy: 0.9098 - val_ner_output_accuracy: 0.9196\n",
      "Epoch 29/100\n",
      "102/102 [==============================] - 2s 23ms/step - loss: 0.0592 - pos_output_loss: 0.0257 - ner_output_loss: 0.0335 - pos_output_accuracy: 0.9933 - ner_output_accuracy: 0.9921 - val_loss: 0.8997 - val_pos_output_loss: 0.4651 - val_ner_output_loss: 0.4346 - val_pos_output_accuracy: 0.9089 - val_ner_output_accuracy: 0.9171\n",
      "Epoch 30/100\n",
      "102/102 [==============================] - 2s 24ms/step - loss: 0.0546 - pos_output_loss: 0.0239 - ner_output_loss: 0.0306 - pos_output_accuracy: 0.9941 - ner_output_accuracy: 0.9933 - val_loss: 0.9281 - val_pos_output_loss: 0.4788 - val_ner_output_loss: 0.4493 - val_pos_output_accuracy: 0.9056 - val_ner_output_accuracy: 0.9195\n",
      "Epoch 31/100\n",
      "102/102 [==============================] - 2s 23ms/step - loss: 0.0506 - pos_output_loss: 0.0222 - ner_output_loss: 0.0284 - pos_output_accuracy: 0.9945 - ner_output_accuracy: 0.9939 - val_loss: 0.9259 - val_pos_output_loss: 0.4957 - val_ner_output_loss: 0.4302 - val_pos_output_accuracy: 0.9083 - val_ner_output_accuracy: 0.9159\n",
      "Epoch 32/100\n",
      "102/102 [==============================] - 2s 23ms/step - loss: 0.0474 - pos_output_loss: 0.0208 - ner_output_loss: 0.0267 - pos_output_accuracy: 0.9948 - ner_output_accuracy: 0.9942 - val_loss: 0.9554 - val_pos_output_loss: 0.5029 - val_ner_output_loss: 0.4525 - val_pos_output_accuracy: 0.9095 - val_ner_output_accuracy: 0.9191\n",
      "Epoch 33/100\n",
      "102/102 [==============================] - 2s 23ms/step - loss: 0.0441 - pos_output_loss: 0.0197 - ner_output_loss: 0.0244 - pos_output_accuracy: 0.9951 - ner_output_accuracy: 0.9946 - val_loss: 0.9561 - val_pos_output_loss: 0.5056 - val_ner_output_loss: 0.4505 - val_pos_output_accuracy: 0.9070 - val_ner_output_accuracy: 0.9152\n",
      "Epoch 34/100\n",
      "102/102 [==============================] - 2s 23ms/step - loss: 0.0409 - pos_output_loss: 0.0184 - ner_output_loss: 0.0225 - pos_output_accuracy: 0.9956 - ner_output_accuracy: 0.9950 - val_loss: 0.9693 - val_pos_output_loss: 0.5054 - val_ner_output_loss: 0.4639 - val_pos_output_accuracy: 0.9076 - val_ner_output_accuracy: 0.9187\n",
      "Epoch 35/100\n",
      "102/102 [==============================] - 2s 24ms/step - loss: 0.0379 - pos_output_loss: 0.0168 - ner_output_loss: 0.0211 - pos_output_accuracy: 0.9957 - ner_output_accuracy: 0.9955 - val_loss: 0.9745 - val_pos_output_loss: 0.5147 - val_ner_output_loss: 0.4598 - val_pos_output_accuracy: 0.9090 - val_ner_output_accuracy: 0.9197\n",
      "Epoch 36/100\n",
      "102/102 [==============================] - 2s 22ms/step - loss: 0.0357 - pos_output_loss: 0.0161 - ner_output_loss: 0.0196 - pos_output_accuracy: 0.9961 - ner_output_accuracy: 0.9958 - val_loss: 1.0094 - val_pos_output_loss: 0.5338 - val_ner_output_loss: 0.4756 - val_pos_output_accuracy: 0.9048 - val_ner_output_accuracy: 0.9156\n",
      "Epoch 37/100\n",
      "102/102 [==============================] - 2s 24ms/step - loss: 0.0336 - pos_output_loss: 0.0153 - ner_output_loss: 0.0183 - pos_output_accuracy: 0.9962 - ner_output_accuracy: 0.9959 - val_loss: 1.0127 - val_pos_output_loss: 0.5399 - val_ner_output_loss: 0.4728 - val_pos_output_accuracy: 0.9076 - val_ner_output_accuracy: 0.9178\n",
      "Epoch 37: early stopping\n"
     ]
    }
   ],
   "source": [
    "# Train the model\n",
    "history = model.fit(train_x, \n",
    "                    {\"pos_output\": train_y_pos, \"ner_output\": train_y_ner},\n",
    "                    validation_data=(val_x, {\"pos_output\": val_y_pos, \"ner_output\": val_y_ner}),\n",
    "                    batch_size=32,\n",
    "                    epochs=100,\n",
    "                    callbacks=[early_stopping],\n",
    "                    class_weight=None #{\"pos_output\": class_weights_pos, \"ner_output\": class_weights_ner}\n",
    "                )"
   ]
  },
  {
   "cell_type": "code",
   "execution_count": 16,
   "metadata": {},
   "outputs": [
    {
     "data": {
      "text/plain": [
       "dict_keys(['loss', 'pos_output_loss', 'ner_output_loss', 'pos_output_accuracy', 'ner_output_accuracy', 'val_loss', 'val_pos_output_loss', 'val_ner_output_loss', 'val_pos_output_accuracy', 'val_ner_output_accuracy'])"
      ]
     },
     "execution_count": 16,
     "metadata": {},
     "output_type": "execute_result"
    }
   ],
   "source": [
    "history.history.keys()"
   ]
  },
  {
   "cell_type": "code",
   "execution_count": 17,
   "metadata": {},
   "outputs": [
    {
     "data": {
      "image/png": "[encoded data removed]",
      "text/plain": [
       "<Figure size 1200x600 with 2 Axes>"
      ]
     },
     "metadata": {},
     "output_type": "display_data"
    },
    {
     "data": {
      "image/png": "[encoded data removed]",
      "text/plain": [
       "<Figure size 1200x600 with 2 Axes>"
      ]
     },
     "metadata": {},
     "output_type": "display_data"
    }
   ],
   "source": [
    "import matplotlib.pyplot as plt\n",
    "\n",
    "# Extract training and validation metrics from the history object\n",
    "history_dict = history.history\n",
    "\n",
    "# Plot accuracy\n",
    "plt.figure(figsize=(12, 6))\n",
    "\n",
    "# Plot POS Accuracy\n",
    "plt.subplot(1, 2, 1)\n",
    "plt.plot(history_dict['pos_output_accuracy'], label='Train POS Accuracy')\n",
    "plt.plot(history_dict['val_pos_output_accuracy'], label='Val POS Accuracy')\n",
    "plt.title('POS Tagging Accuracy')\n",
    "plt.xlabel('Epochs')\n",
    "plt.ylabel('Accuracy')\n",
    "plt.legend()\n",
    "\n",
    "# Plot NER Accuracy\n",
    "plt.subplot(1, 2, 2)\n",
    "plt.plot(history_dict['ner_output_accuracy'], label='Train NER Accuracy')\n",
    "plt.plot(history_dict['val_ner_output_accuracy'], label='Val NER Accuracy')\n",
    "plt.title('NER Accuracy')\n",
    "plt.xlabel('Epochs')\n",
    "plt.ylabel('Accuracy')\n",
    "plt.legend()\n",
    "\n",
    "plt.tight_layout()\n",
    "plt.show()\n",
    "\n",
    "# Plot loss\n",
    "plt.figure(figsize=(12, 6))\n",
    "\n",
    "# Plot POS Loss\n",
    "plt.subplot(1, 2, 1)\n",
    "plt.plot(history_dict['pos_output_loss'], label='Train POS Loss')\n",
    "plt.plot(history_dict['val_pos_output_loss'], label='Val POS Loss')\n",
    "plt.title('POS Tagging Loss')\n",
    "plt.xlabel('Epochs')\n",
    "plt.ylabel('Loss')\n",
    "plt.legend()\n",
    "\n",
    "# Plot NER Loss\n",
    "plt.subplot(1, 2, 2)\n",
    "plt.plot(history_dict['ner_output_loss'], label='Train NER Loss')\n",
    "plt.plot(history_dict['val_ner_output_loss'], label='Val NER Loss')\n",
    "plt.title('NER Loss')\n",
    "plt.xlabel('Epochs')\n",
    "plt.ylabel('Loss')\n",
    "plt.legend()\n",
    "\n",
    "plt.tight_layout()\n",
    "plt.show()\n"
   ]
  },
  {
   "cell_type": "markdown",
   "metadata": {},
   "source": [
    "### Evaluate the model"
   ]
  },
  {
   "cell_type": "code",
   "execution_count": 18,
   "metadata": {},
   "outputs": [
    {
     "name": "stdout",
     "output_type": "stream",
     "text": [
      "4/4 [==============================] - 0s 9ms/step - loss: 0.9369 - pos_output_loss: 0.4754 - ner_output_loss: 0.4615 - pos_output_accuracy: 0.9177 - ner_output_accuracy: 0.9187\n",
      "Test Loss: 0.9369004964828491\n",
      "Test POS Loss: 0.4754413068294525\n",
      "Test NER Loss: 0.4614591896533966\n",
      "Test POS Accuracy: 0.9177339673042297\n",
      "Test NER Accuracy: 0.9187192320823669\n"
     ]
    }
   ],
   "source": [
    "# Evaluate the model on the test data\n",
    "test_loss, test_pos_loss, test_ner_loss, test_pos_accuracy, test_ner_accuracy = model.evaluate(test_x, {\"pos_output\": test_y_pos, \"ner_output\": test_y_ner}, batch_size=128)\n",
    "print(f\"Test Loss: {test_loss}\")\n",
    "print(f\"Test POS Loss: {test_pos_loss}\")\n",
    "print(f\"Test NER Loss: {test_ner_loss}\")\n",
    "print(f\"Test POS Accuracy: {test_pos_accuracy}\")\n",
    "print(f\"Test NER Accuracy: {test_ner_accuracy}\")"
   ]
  },
  {
   "cell_type": "code",
   "execution_count": 19,
   "metadata": {},
   "outputs": [
    {
     "name": "stdout",
     "output_type": "stream",
     "text": [
      "13/13 [==============================] - 0s 5ms/step\n"
     ]
    }
   ],
   "source": [
    "from sklearn.metrics import classification_report, accuracy_score\n",
    "# Make predictions on the test set\n",
    "predictions = model.predict(test_x)\n",
    "\n",
    "# Extract predictions for POS and NER based on their positions\n",
    "pred_pos = np.argmax(predictions[0], axis=-1)\n",
    "pred_ner = np.argmax(predictions[1], axis=-1)\n",
    "\n",
    "# Convert test_y to the appropriate format\n",
    "true_pos = np.array(test_y_pos)\n",
    "true_ner = np.array(test_y_ner)\n",
    "\n",
    "# Flatten the arrays for metric calculation\n",
    "pred_pos_flat = pred_pos.flatten()\n",
    "true_pos_flat = true_pos.flatten()\n",
    "pred_ner_flat = pred_ner.flatten()\n",
    "true_ner_flat = true_ner.flatten()\n",
    "\n",
    "# Remove padding values from the flattened arrays for metrics calculation\n",
    "valid_pos_indices = true_pos_flat != nbr_pos-1\n",
    "valid_ner_indices = true_ner_flat != nbr_ners-1\n",
    "\n",
    "# Filter out the padding values\n",
    "true_pos_filtered = true_pos_flat[valid_pos_indices]\n",
    "pred_pos_filtered = pred_pos_flat[valid_pos_indices]\n",
    "true_ner_filtered = true_ner_flat[valid_ner_indices]\n",
    "pred_ner_filtered = pred_ner_flat[valid_ner_indices]"
   ]
  },
  {
   "cell_type": "code",
   "execution_count": 20,
   "metadata": {},
   "outputs": [
    {
     "name": "stdout",
     "output_type": "stream",
     "text": [
      "POS Tagging Metrics:\n",
      "Accuracy: 0.8147405922957025\n",
      "\n",
      "Classification Report:\n",
      "               precision    recall  f1-score   support\n",
      "\n",
      "         OTH       0.80      0.44      0.57         9\n",
      "          VF       0.97      0.87      0.91       419\n",
      "          PP       0.88      0.90      0.89       171\n",
      "         DET       0.86      0.94      0.90        81\n",
      "         PRO       0.94      0.89      0.91       123\n",
      "         VNF       0.91      0.73      0.81       147\n",
      "         ADV       0.86      0.71      0.78       145\n",
      "         NNC       0.81      0.87      0.84      1770\n",
      "         NNP       0.66      0.72      0.69       772\n",
      "          QF       0.95      0.85      0.90       177\n",
      "        PART       0.67      0.40      0.50         5\n",
      "         ADJ       0.82      0.67      0.74       489\n",
      "        CONJ       0.93      0.92      0.92        97\n",
      "       PUNCT       1.00      0.79      0.88        86\n",
      "        INTJ       0.00      0.00      0.00         0\n",
      "\n",
      "    accuracy                           0.81      4491\n",
      "   macro avg       0.80      0.71      0.75      4491\n",
      "weighted avg       0.82      0.81      0.82      4491\n",
      "\n"
     ]
    }
   ],
   "source": [
    "# Calculate metrics for POS\n",
    "pos_accuracy = accuracy_score(true_pos_filtered, pred_pos_filtered)\n",
    "pos_classification_report = classification_report(true_pos_filtered, pred_pos_filtered, target_names=list(pos_vocab.keys()), zero_division=0)\n",
    "print(\"POS Tagging Metrics:\")\n",
    "print(f\"Accuracy: {pos_accuracy}\")\n",
    "print(f\"\\nClassification Report:\\n {pos_classification_report}\")"
   ]
  },
  {
   "cell_type": "code",
   "execution_count": 21,
   "metadata": {},
   "outputs": [
    {
     "name": "stdout",
     "output_type": "stream",
     "text": [
      "NER Tagging Metrics:\n",
      "Accuracy: 0.8181209551439411\n",
      "\n",
      "Classification Report:\n",
      "               precision    recall  f1-score   support\n",
      "\n",
      "           0       0.52      0.47      0.49       159\n",
      "           1       0.75      0.55      0.63       382\n",
      "           2       0.78      0.55      0.65        94\n",
      "           4       0.56      0.39      0.46        23\n",
      "           5       0.00      0.00      0.00         8\n",
      "           6       0.88      0.94      0.91      3050\n",
      "           7       1.00      0.70      0.82        23\n",
      "           8       0.66      0.57      0.62       162\n",
      "           9       0.35      0.46      0.40        26\n",
      "          10       0.00      0.00      0.00         0\n",
      "          11       0.00      0.00      0.00         3\n",
      "          12       0.48      0.41      0.45       104\n",
      "          13       0.87      0.85      0.86        96\n",
      "          14       0.45      0.78      0.57        23\n",
      "          15       0.91      0.81      0.86       126\n",
      "          16       0.83      0.90      0.86        60\n",
      "          17       0.24      0.15      0.18        53\n",
      "          18       0.53      0.49      0.51        65\n",
      "          19       0.21      0.12      0.16        24\n",
      "          20       0.00      0.00      0.00         0\n",
      "\n",
      "    accuracy                           0.82      4481\n",
      "   macro avg       0.50      0.46      0.47      4481\n",
      "weighted avg       0.81      0.82      0.81      4481\n",
      "\n"
     ]
    }
   ],
   "source": [
    "# Calculate metrics for NER\n",
    "ner_accuracy = accuracy_score(true_ner_filtered, pred_ner_filtered)\n",
    "ner_classification_report = classification_report(true_ner_filtered, pred_ner_filtered, zero_division=0)\n",
    "\n",
    "print(\"NER Tagging Metrics:\")\n",
    "print(f\"Accuracy: {ner_accuracy}\")\n",
    "print(f\"\\nClassification Report:\\n {ner_classification_report}\")"
   ]
  },
  {
   "cell_type": "code",
   "execution_count": 22,
   "metadata": {},
   "outputs": [
    {
     "name": "stderr",
     "output_type": "stream",
     "text": [
      "c:\\Users\\UTSHAB\\anaconda3\\envs\\end-to-end-nlp-practice\\lib\\site-packages\\keras\\src\\engine\\training.py:3103: UserWarning: You are saving your model as an HDF5 file via `model.save()`. This file format is considered legacy. We recommend using instead the native Keras format, e.g. `model.save('my_model.keras')`.\n",
      "  saving_api.save_model(\n"
     ]
    }
   ],
   "source": [
    "model.save(\"../models_evaluation/models/base_model.h5\")"
   ]
  },
  {
   "cell_type": "markdown",
   "metadata": {},
   "source": [
    "### Hyperparameters Tuning"
   ]
  },
  {
   "cell_type": "code",
   "execution_count": 16,
   "metadata": {},
   "outputs": [],
   "source": [
    "import keras_tuner as kt\n",
    "from keras.callbacks import ModelCheckpoint"
   ]
  },
  {
   "cell_type": "code",
   "execution_count": 17,
   "metadata": {},
   "outputs": [],
   "source": [
    "def build_model(hp):\n",
    "    input_layer = Input(shape=(max_len,))\n",
    "    \n",
    "    # Hyperparameters for embedding\n",
    "    embedding_dim = hp.Int('embedding_dim', min_value=10, max_value=50, step=10, default=25)\n",
    "    embedding_layer = Embedding(input_dim=nbr_words, output_dim=embedding_dim, input_length=max_len)(input_layer)\n",
    "    \n",
    "    # Hyperparameters for LSTM\n",
    "    lstm_units = hp.Int('lstm_units', min_value=50, max_value=200, step=50, default=100)\n",
    "    recurrent_dropout = hp.Float('recurrent_dropout', min_value=0.1, max_value=0.5, step=0.1, default=0.1)\n",
    "    lstm_layer = LSTM(units=lstm_units, activation='tanh', return_sequences=True, recurrent_dropout=recurrent_dropout)(embedding_layer)\n",
    "    \n",
    "    # Output layers for POS and NER\n",
    "    pos_output = Dense(nbr_pos, activation='softmax', name='pos_output')(lstm_layer)\n",
    "    ner_output = Dense(nbr_ners, activation='softmax', name='ner_output')(lstm_layer)\n",
    "    \n",
    "    # Define the model with two outputs\n",
    "    model = Model(inputs=input_layer, outputs=[pos_output, ner_output])\n",
    "    \n",
    "    # Compile the model with learning rate hyperparameter\n",
    "    learning_rate = hp.Float('learning_rate', min_value=1e-5, max_value=1e-2, sampling='log', default=1e-3)\n",
    "    model.compile(optimizer=tf.keras.optimizers.Adam(learning_rate=learning_rate),\n",
    "                  loss={\"pos_output\": \"sparse_categorical_crossentropy\", \"ner_output\": \"sparse_categorical_crossentropy\"},\n",
    "                  metrics={\"pos_output\": \"accuracy\", \"ner_output\": \"accuracy\"})\n",
    "    \n",
    "    return model"
   ]
  },
  {
   "cell_type": "code",
   "execution_count": 18,
   "metadata": {},
   "outputs": [],
   "source": [
    "# Define the checkpoint callback\n",
    "checkpoint = ModelCheckpoint(\n",
    "    '../models/best_model.h5',  # Path where the model will be saved\n",
    "    monitor='val_ner_output_accuracy',  # Metric to monitor\n",
    "    save_best_only=True,  # Save only the best model\n",
    "    mode='max',  # Mode for monitoring (maximize accuracy)\n",
    "    verbose=1  # Verbosity mode\n",
    ")\n"
   ]
  },
  {
   "cell_type": "code",
   "execution_count": 19,
   "metadata": {},
   "outputs": [],
   "source": [
    "early_stopping = EarlyStopping(\n",
    "    monitor='val_ner_output_accuracy',  # Metric to monitor\n",
    "    patience=5,  # Number of epochs with no improvement after which training will be stopped\n",
    "    verbose=1,  # Verbosity mode\n",
    "    mode='max',  # Mode for monitoring (maximize accuracy)\n",
    "    restore_best_weights=True  # Restore model weights from the epoch with the best value of the monitored metric\n",
    ")"
   ]
  },
  {
   "cell_type": "code",
   "execution_count": 20,
   "metadata": {},
   "outputs": [],
   "source": [
    "# Define the objective for the tuner\n",
    "objective = kt.Objective(\"val_ner_output_accuracy\", direction=\"max\")"
   ]
  },
  {
   "cell_type": "code",
   "execution_count": 21,
   "metadata": {},
   "outputs": [],
   "source": [
    "from keras_tuner import Hyperband\n",
    "from keras_tuner.tuners import BayesianOptimization\n",
    "\n",
    "# # Define the hyperparameter tuner\n",
    "# tuner = Hyperband(\n",
    "#     build_model,  # Function to build the model\n",
    "#     objective=objective,  # Specify the objective with direction\n",
    "#     max_epochs=100,\n",
    "#     hyperband_iterations=10,\n",
    "#     directory='../models',  # Main directory for tuning results\n",
    "#     project_name='hyperparameter_tuning'  # Project subdirectory\n",
    "# )\n",
    "tuner = BayesianOptimization(\n",
    "    build_model,  # Function to build the model\n",
    "    objective=objective,  # Specify the objective with direction\n",
    "    max_trials=50,  # Number of trials to run\n",
    "    executions_per_trial=3,  # Number of executions per trial\n",
    "    directory='../models',  # Main directory for tuning results\n",
    "    project_name='bayesian_optimization'  # Project subdirectory\n",
    ")"
   ]
  },
  {
   "cell_type": "code",
   "execution_count": 22,
   "metadata": {},
   "outputs": [
    {
     "name": "stdout",
     "output_type": "stream",
     "text": [
      "Trial 50 Complete [00h 03m 13s]\n",
      "val_ner_output_accuracy: 0.9225287238756815\n",
      "\n",
      "Best val_ner_output_accuracy So Far: 0.9284072319666544\n",
      "Total elapsed time: 03h 55m 23s\n"
     ]
    }
   ],
   "source": [
    "# Run the hyperparameter search\n",
    "tuner.search(\n",
    "    train_x, \n",
    "    {\"pos_output\": train_y_pos, \"ner_output\": train_y_ner},\n",
    "    validation_data=(val_x, {\"pos_output\": val_y_pos, \"ner_output\": val_y_ner}),\n",
    "    batch_size=32,\n",
    "    epochs=50,\n",
    "    callbacks=[checkpoint, early_stopping]  # Add the checkpoint callback here\n",
    ")"
   ]
  },
  {
   "cell_type": "code",
   "execution_count": 23,
   "metadata": {},
   "outputs": [
    {
     "name": "stdout",
     "output_type": "stream",
     "text": [
      "Best Hyperparameters:\n",
      "Embedding Dimension: 40\n",
      "LSTM Units: 200\n",
      "Recurrent Dropout: 0.5\n",
      "Learning Rate: 0.01\n"
     ]
    }
   ],
   "source": [
    "# Get the best hyperparameters\n",
    "best_hps = tuner.get_best_hyperparameters(num_trials=1)[0]\n",
    "\n",
    "print(\"Best Hyperparameters:\")\n",
    "print(f\"Embedding Dimension: {best_hps.get('embedding_dim')}\")\n",
    "print(f\"LSTM Units: {best_hps.get('lstm_units')}\")\n",
    "print(f\"Recurrent Dropout: {best_hps.get('recurrent_dropout')}\")\n",
    "print(f\"Learning Rate: {best_hps.get('learning_rate')}\")"
   ]
  },
  {
   "cell_type": "code",
   "execution_count": 24,
   "metadata": {},
   "outputs": [
    {
     "name": "stdout",
     "output_type": "stream",
     "text": [
      "Parameters have been saved to '../models/parameters_track/parameters_bayesian_1.txt'.\n"
     ]
    }
   ],
   "source": [
    "# Save metrics to a text file\n",
    "with open('../models/parameters_track/parameters_bayesian.txt', 'w') as file:\n",
    "    # Write POS metrics\n",
    "    file.write(\"Best Hyperparameters:\\n\")\n",
    "    file.write(f\"Embedding Dimension: {best_hps.get('embedding_dim')}\\n\")\n",
    "    file.write(f\"LSTM Units: {best_hps.get('lstm_units')}\\n\")\n",
    "    file.write(f\"Recurrent Dropout: {best_hps.get('recurrent_dropout')}\\n\")\n",
    "    file.write(f\"Learning Rate: {best_hps.get('learning_rate')}\\n\")\n",
    "\n",
    "print(\"Parameters have been saved to '../models/parameters_track/parameters_bayesian_1.txt'.\")"
   ]
  },
  {
   "cell_type": "code",
   "execution_count": 25,
   "metadata": {},
   "outputs": [],
   "source": [
    "# # Save metrics to a text file\n",
    "# with open('../reports/score_2_resampling.txt', 'w') as file:\n",
    "#     # Write POS metrics\n",
    "#     file.write(\"POS Tagging Metrics:\\n\")\n",
    "#     file.write(f\"Accuracy: {pos_accuracy}\\n\\n\")\n",
    "#     file.write(\"Classification Report:\\n\")\n",
    "#     file.write(pos_classification_report)\n",
    "    \n",
    "#     # Write NER metrics\n",
    "#     file.write(\"\\nNER Tagging Metrics:\\n\")\n",
    "#     file.write(f\"Accuracy: {ner_accuracy}\\n\\n\")\n",
    "#     file.write(\"Classification Report:\\n\")\n",
    "#     file.write(ner_classification_report)\n",
    "\n",
    "# print(\"Metrics have been saved to '../reports/metrics.txt'.\")"
   ]
  },
  {
   "cell_type": "code",
   "execution_count": null,
   "metadata": {},
   "outputs": [],
   "source": []
  }
 ],
 "metadata": {
  "kernelspec": {
   "display_name": "Python 3",
   "language": "python",
   "name": "python3"
  },
  "language_info": {
   "codemirror_mode": {
    "name": "ipython",
    "version": 3
   },
   "file_extension": ".py",
   "mimetype": "text/x-python",
   "name": "python",
   "nbconvert_exporter": "python",
   "pygments_lexer": "ipython3",
   "version": "3.10.14"
  }
 },
 "nbformat": 4,
 "nbformat_minor": 2
}
