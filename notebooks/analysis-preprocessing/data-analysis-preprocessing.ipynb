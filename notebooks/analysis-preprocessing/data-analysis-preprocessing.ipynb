{
 "cells": [
  {
   "cell_type": "markdown",
   "metadata": {},
   "source": [
    "### Load the Dataset"
   ]
  },
  {
   "cell_type": "code",
   "execution_count": 9,
   "metadata": {},
   "outputs": [
    {
     "name": "stdout",
     "output_type": "stream",
     "text": [
      "                                                Token    POS    NER\n",
      "0   শনিবার (২৭ আগস্ট) রাতে পটুয়াখালী সদর থানার ভা...    NaN    NaN\n",
      "1                                              শনিবার    NNP  B-D&T\n",
      "2                                                 (২৭  PUNCT  B-OTH\n",
      "3                                              আগস্ট)    NNP  B-D&T\n",
      "4                                                রাতে    NNC  B-D&T\n",
      "5                                          পটুয়াখালী    NNP  B-GPE\n",
      "6                                                 সদর    NNC  I-GPE\n",
      "7                                               থানার    NNC  I-GPE\n",
      "8                                          ভারপ্রাপ্ত    ADJ  B-PER\n",
      "9                                           কর্মকর্তা    NNC  I-PER\n",
      "10                                              (ওসি)  PUNCT  B-OTH\n",
      "11                                               মো.    NNP  B-PER\n",
      "12                                       মনিরুজ্জামান    NNP  I-PER\n",
      "13                                                  এ    DET  B-OTH\n",
      "14                                               তথ্য    NNC  B-OTH\n",
      "15                                            নিশ্চিত    ADJ  B-OTH\n",
      "16                                            করেছেন।     VF  B-OTH\n",
      "17                                                NaN    NaN    NaN\n",
      "18  বায়ুদূষণ ও স্মার্ট ফোন ছেলেমেয়ে উভয়ের প্রজনন ক...    NaN    NaN\n",
      "19                                           বায়ুদূষণ    NNC  B-OTH\n"
     ]
    }
   ],
   "source": [
    "import pandas as pd\n",
    "\n",
    "# Load the dataset\n",
    "file_path = '../../dataset/data.tsv'\n",
    "data = pd.read_csv(file_path, sep='\\t', header=None, names=['Token', 'POS', 'NER'], skip_blank_lines=False)\n",
    "\n",
    "# Display the first few rows\n",
    "print(data.head(20))"
   ]
  },
  {
   "cell_type": "code",
   "execution_count": 10,
   "metadata": {},
   "outputs": [
    {
     "data": {
      "text/plain": [
       "(53438, 3)"
      ]
     },
     "execution_count": 10,
     "metadata": {},
     "output_type": "execute_result"
    }
   ],
   "source": [
    "data.shape"
   ]
  },
  {
   "cell_type": "markdown",
   "metadata": {},
   "source": [
    "### Clean and Preprocess the Data"
   ]
  },
  {
   "cell_type": "code",
   "execution_count": 11,
   "metadata": {},
   "outputs": [
    {
     "data": {
      "text/plain": [
       "0    শনিবার (২৭ আগস্ট) রাতে পটুয়াখালী সদর থানার ভা...\n",
       "1                                               শনিবার\n",
       "2                                                  (২৭\n",
       "Name: Token, dtype: object"
      ]
     },
     "execution_count": 11,
     "metadata": {},
     "output_type": "execute_result"
    }
   ],
   "source": [
    "data['Token'].head(3)"
   ]
  },
  {
   "cell_type": "code",
   "execution_count": 12,
   "metadata": {},
   "outputs": [],
   "source": [
    "# Tokenize and clean tokens (words + noise)\n",
    "from bnlp import BasicTokenizer\n",
    "basic_tokenizer = BasicTokenizer()\n",
    "data['Token'] = data['Token'].apply(lambda x: basic_tokenizer.tokenize(x) if isinstance(x, str) else x)"
   ]
  },
  {
   "cell_type": "code",
   "execution_count": 13,
   "metadata": {},
   "outputs": [
    {
     "data": {
      "text/plain": [
       "0    [শনিবার, (, ২৭, আগস্ট, ), রাতে, পটুয়াখালী, সদ...\n",
       "1                                             [শনিবার]\n",
       "2                                              [(, ২৭]\n",
       "Name: Token, dtype: object"
      ]
     },
     "execution_count": 13,
     "metadata": {},
     "output_type": "execute_result"
    }
   ],
   "source": [
    "data['Token'].head(3)"
   ]
  },
  {
   "cell_type": "code",
   "execution_count": 15,
   "metadata": {},
   "outputs": [],
   "source": [
    "def process_tokens(tokens):\n",
    "    if isinstance(tokens, list):\n",
    "        if len(tokens) == 2:\n",
    "            return tokens[0]\n",
    "        else:\n",
    "            return ' '.join(tokens)  # Detokenize\n",
    "    return tokens"
   ]
  },
  {
   "cell_type": "code",
   "execution_count": 14,
   "metadata": {},
   "outputs": [
    {
     "data": {
      "text/plain": [
       "0    শনিবার ( ২৭ আগস্ট ) রাতে পটুয়াখালী সদর থানার ...\n",
       "1                                               শনিবার\n",
       "2                                                    (\n",
       "Name: Token, dtype: object"
      ]
     },
     "execution_count": 14,
     "metadata": {},
     "output_type": "execute_result"
    }
   ],
   "source": [
    "data['Token'] = data['Token'].apply(process_tokens)\n",
    "data['Token'].head(3)"
   ]
  },
  {
   "cell_type": "code",
   "execution_count": 16,
   "metadata": {},
   "outputs": [
    {
     "data": {
      "text/plain": [
       "Token    4054\n",
       "POS      8112\n",
       "NER      8114\n",
       "dtype: int64"
      ]
     },
     "execution_count": 16,
     "metadata": {},
     "output_type": "execute_result"
    }
   ],
   "source": [
    "data.isna().sum()"
   ]
  },
  {
   "cell_type": "code",
   "execution_count": 17,
   "metadata": {},
   "outputs": [
    {
     "name": "stdout",
     "output_type": "stream",
     "text": [
      "Number of sentences in the raw dataset: 4054\n"
     ]
    }
   ],
   "source": [
    "# Count the number of unique sentences\n",
    "# A sentence is identified by rows where Token, POS and NER are NaN\n",
    "blank_rows = data[data['Token'].isna() & data['POS'].isna() & data['NER'].isna()].shape[0]\n",
    "\n",
    "print(f\"Number of sentences in the raw dataset: {blank_rows}\")"
   ]
  },
  {
   "cell_type": "code",
   "execution_count": 18,
   "metadata": {},
   "outputs": [
    {
     "data": {
      "text/plain": [
       "Token       0\n",
       "POS      4058\n",
       "NER      4060\n",
       "dtype: int64"
      ]
     },
     "execution_count": 18,
     "metadata": {},
     "output_type": "execute_result"
    }
   ],
   "source": [
    "data_cleaned = data.dropna(how='all')\n",
    "data_cleaned.reset_index(drop=True, inplace=True)\n",
    "\n",
    "missing_values = data_cleaned.isna().sum()\n",
    "missing_values"
   ]
  },
  {
   "cell_type": "code",
   "execution_count": 19,
   "metadata": {},
   "outputs": [
    {
     "data": {
      "text/plain": [
       "4058"
      ]
     },
     "execution_count": 19,
     "metadata": {},
     "output_type": "execute_result"
    }
   ],
   "source": [
    "num_sentences = data_cleaned[data_cleaned['POS'].isna() & data_cleaned['NER'].isna()].shape[0]\n",
    "num_sentences"
   ]
  },
  {
   "cell_type": "code",
   "execution_count": 20,
   "metadata": {},
   "outputs": [],
   "source": [
    "# Initialize the 'Sentence #' column\n",
    "data_cleaned['Sentence #'] = None\n",
    "\n",
    "# Counter for sentence numbers\n",
    "sentence_counter = 0\n",
    "\n",
    "# Iterate over the rows\n",
    "for index, row in data_cleaned.iterrows():\n",
    "    if pd.isna(row['POS']) and pd.isna(row['NER']):\n",
    "        sentence_counter += 1  # Increment counter at the start of a new sentence\n",
    "    else:\n",
    "        data_cleaned.at[index, 'Sentence #'] = sentence_counter\n",
    "\n",
    "# Reorder columns to have 'Sentence #' first\n",
    "data_cleaned = data_cleaned[['Sentence #', 'Token', 'POS', 'NER']]"
   ]
  },
  {
   "cell_type": "code",
   "execution_count": 21,
   "metadata": {},
   "outputs": [
    {
     "data": {
      "text/html": [
       "<div>\n",
       "<style scoped>\n",
       "    .dataframe tbody tr th:only-of-type {\n",
       "        vertical-align: middle;\n",
       "    }\n",
       "\n",
       "    .dataframe tbody tr th {\n",
       "        vertical-align: top;\n",
       "    }\n",
       "\n",
       "    .dataframe thead th {\n",
       "        text-align: right;\n",
       "    }\n",
       "</style>\n",
       "<table border=\"1\" class=\"dataframe\">\n",
       "  <thead>\n",
       "    <tr style=\"text-align: right;\">\n",
       "      <th></th>\n",
       "      <th>Sentence #</th>\n",
       "      <th>Token</th>\n",
       "      <th>POS</th>\n",
       "      <th>NER</th>\n",
       "    </tr>\n",
       "  </thead>\n",
       "  <tbody>\n",
       "    <tr>\n",
       "      <th>0</th>\n",
       "      <td>None</td>\n",
       "      <td>শনিবার ( ২৭ আগস্ট ) রাতে পটুয়াখালী সদর থানার ...</td>\n",
       "      <td>NaN</td>\n",
       "      <td>NaN</td>\n",
       "    </tr>\n",
       "    <tr>\n",
       "      <th>1</th>\n",
       "      <td>1</td>\n",
       "      <td>শনিবার</td>\n",
       "      <td>NNP</td>\n",
       "      <td>B-D&amp;T</td>\n",
       "    </tr>\n",
       "    <tr>\n",
       "      <th>2</th>\n",
       "      <td>1</td>\n",
       "      <td>(</td>\n",
       "      <td>PUNCT</td>\n",
       "      <td>B-OTH</td>\n",
       "    </tr>\n",
       "    <tr>\n",
       "      <th>3</th>\n",
       "      <td>1</td>\n",
       "      <td>আগস্ট</td>\n",
       "      <td>NNP</td>\n",
       "      <td>B-D&amp;T</td>\n",
       "    </tr>\n",
       "    <tr>\n",
       "      <th>4</th>\n",
       "      <td>1</td>\n",
       "      <td>রাতে</td>\n",
       "      <td>NNC</td>\n",
       "      <td>B-D&amp;T</td>\n",
       "    </tr>\n",
       "    <tr>\n",
       "      <th>5</th>\n",
       "      <td>1</td>\n",
       "      <td>পটুয়াখালী</td>\n",
       "      <td>NNP</td>\n",
       "      <td>B-GPE</td>\n",
       "    </tr>\n",
       "    <tr>\n",
       "      <th>6</th>\n",
       "      <td>1</td>\n",
       "      <td>সদর</td>\n",
       "      <td>NNC</td>\n",
       "      <td>I-GPE</td>\n",
       "    </tr>\n",
       "    <tr>\n",
       "      <th>7</th>\n",
       "      <td>1</td>\n",
       "      <td>থানার</td>\n",
       "      <td>NNC</td>\n",
       "      <td>I-GPE</td>\n",
       "    </tr>\n",
       "    <tr>\n",
       "      <th>8</th>\n",
       "      <td>1</td>\n",
       "      <td>ভারপ্রাপ্ত</td>\n",
       "      <td>ADJ</td>\n",
       "      <td>B-PER</td>\n",
       "    </tr>\n",
       "    <tr>\n",
       "      <th>9</th>\n",
       "      <td>1</td>\n",
       "      <td>কর্মকর্তা</td>\n",
       "      <td>NNC</td>\n",
       "      <td>I-PER</td>\n",
       "    </tr>\n",
       "    <tr>\n",
       "      <th>10</th>\n",
       "      <td>1</td>\n",
       "      <td>( ওসি )</td>\n",
       "      <td>PUNCT</td>\n",
       "      <td>B-OTH</td>\n",
       "    </tr>\n",
       "    <tr>\n",
       "      <th>11</th>\n",
       "      <td>1</td>\n",
       "      <td>মো.</td>\n",
       "      <td>NNP</td>\n",
       "      <td>B-PER</td>\n",
       "    </tr>\n",
       "    <tr>\n",
       "      <th>12</th>\n",
       "      <td>1</td>\n",
       "      <td>মনিরুজ্জামান</td>\n",
       "      <td>NNP</td>\n",
       "      <td>I-PER</td>\n",
       "    </tr>\n",
       "    <tr>\n",
       "      <th>13</th>\n",
       "      <td>1</td>\n",
       "      <td>এ</td>\n",
       "      <td>DET</td>\n",
       "      <td>B-OTH</td>\n",
       "    </tr>\n",
       "    <tr>\n",
       "      <th>14</th>\n",
       "      <td>1</td>\n",
       "      <td>তথ্য</td>\n",
       "      <td>NNC</td>\n",
       "      <td>B-OTH</td>\n",
       "    </tr>\n",
       "    <tr>\n",
       "      <th>15</th>\n",
       "      <td>1</td>\n",
       "      <td>নিশ্চিত</td>\n",
       "      <td>ADJ</td>\n",
       "      <td>B-OTH</td>\n",
       "    </tr>\n",
       "    <tr>\n",
       "      <th>16</th>\n",
       "      <td>1</td>\n",
       "      <td>করেছেন</td>\n",
       "      <td>VF</td>\n",
       "      <td>B-OTH</td>\n",
       "    </tr>\n",
       "    <tr>\n",
       "      <th>17</th>\n",
       "      <td>None</td>\n",
       "      <td>বায়ুদূষণ ও স্মার্ট ফোন ছেলেমেয়ে উভয়ের প্রজনন ক...</td>\n",
       "      <td>NaN</td>\n",
       "      <td>NaN</td>\n",
       "    </tr>\n",
       "    <tr>\n",
       "      <th>18</th>\n",
       "      <td>2</td>\n",
       "      <td>বায়ুদূষণ</td>\n",
       "      <td>NNC</td>\n",
       "      <td>B-OTH</td>\n",
       "    </tr>\n",
       "    <tr>\n",
       "      <th>19</th>\n",
       "      <td>2</td>\n",
       "      <td>ও</td>\n",
       "      <td>CONJ</td>\n",
       "      <td>B-OTH</td>\n",
       "    </tr>\n",
       "  </tbody>\n",
       "</table>\n",
       "</div>"
      ],
      "text/plain": [
       "   Sentence #                                              Token    POS    NER\n",
       "0        None  শনিবার ( ২৭ আগস্ট ) রাতে পটুয়াখালী সদর থানার ...    NaN    NaN\n",
       "1           1                                             শনিবার    NNP  B-D&T\n",
       "2           1                                                  (  PUNCT  B-OTH\n",
       "3           1                                              আগস্ট    NNP  B-D&T\n",
       "4           1                                               রাতে    NNC  B-D&T\n",
       "5           1                                         পটুয়াখালী    NNP  B-GPE\n",
       "6           1                                                সদর    NNC  I-GPE\n",
       "7           1                                              থানার    NNC  I-GPE\n",
       "8           1                                         ভারপ্রাপ্ত    ADJ  B-PER\n",
       "9           1                                          কর্মকর্তা    NNC  I-PER\n",
       "10          1                                            ( ওসি )  PUNCT  B-OTH\n",
       "11          1                                               মো.    NNP  B-PER\n",
       "12          1                                       মনিরুজ্জামান    NNP  I-PER\n",
       "13          1                                                  এ    DET  B-OTH\n",
       "14          1                                               তথ্য    NNC  B-OTH\n",
       "15          1                                            নিশ্চিত    ADJ  B-OTH\n",
       "16          1                                             করেছেন     VF  B-OTH\n",
       "17       None  বায়ুদূষণ ও স্মার্ট ফোন ছেলেমেয়ে উভয়ের প্রজনন ক...    NaN    NaN\n",
       "18          2                                           বায়ুদূষণ    NNC  B-OTH\n",
       "19          2                                                  ও   CONJ  B-OTH"
      ]
     },
     "execution_count": 21,
     "metadata": {},
     "output_type": "execute_result"
    }
   ],
   "source": [
    "data_cleaned.head(20)"
   ]
  },
  {
   "cell_type": "code",
   "execution_count": 22,
   "metadata": {},
   "outputs": [
    {
     "data": {
      "text/html": [
       "<div>\n",
       "<style scoped>\n",
       "    .dataframe tbody tr th:only-of-type {\n",
       "        vertical-align: middle;\n",
       "    }\n",
       "\n",
       "    .dataframe tbody tr th {\n",
       "        vertical-align: top;\n",
       "    }\n",
       "\n",
       "    .dataframe thead th {\n",
       "        text-align: right;\n",
       "    }\n",
       "</style>\n",
       "<table border=\"1\" class=\"dataframe\">\n",
       "  <thead>\n",
       "    <tr style=\"text-align: right;\">\n",
       "      <th></th>\n",
       "      <th>Sentence #</th>\n",
       "      <th>Token</th>\n",
       "      <th>POS</th>\n",
       "      <th>NER</th>\n",
       "    </tr>\n",
       "  </thead>\n",
       "  <tbody>\n",
       "    <tr>\n",
       "      <th>0</th>\n",
       "      <td>None</td>\n",
       "      <td>শনিবার ( ২৭ আগস্ট ) রাতে পটুয়াখালী সদর থানার ...</td>\n",
       "      <td>NaN</td>\n",
       "      <td>NaN</td>\n",
       "    </tr>\n",
       "    <tr>\n",
       "      <th>17</th>\n",
       "      <td>None</td>\n",
       "      <td>বায়ুদূষণ ও স্মার্ট ফোন ছেলেমেয়ে উভয়ের প্রজনন ক...</td>\n",
       "      <td>NaN</td>\n",
       "      <td>NaN</td>\n",
       "    </tr>\n",
       "    <tr>\n",
       "      <th>29</th>\n",
       "      <td>None</td>\n",
       "      <td>ছাত্র রাজনীতির বর্তমান অবস্থার শুরু হয়েছিলো ...</td>\n",
       "      <td>NaN</td>\n",
       "      <td>NaN</td>\n",
       "    </tr>\n",
       "    <tr>\n",
       "      <th>40</th>\n",
       "      <td>None</td>\n",
       "      <td>শাকিল রাজধানীর ৩০০ ফিট , দিয়াবাড়ি ও পূর্বাচল...</td>\n",
       "      <td>NaN</td>\n",
       "      <td>NaN</td>\n",
       "    </tr>\n",
       "    <tr>\n",
       "      <th>57</th>\n",
       "      <td>None</td>\n",
       "      <td>সম্প্রতি ক্লাবের নবীন ব্যবস্থাপনা প্রশিক্ষণার্...</td>\n",
       "      <td>NaN</td>\n",
       "      <td>NaN</td>\n",
       "    </tr>\n",
       "  </tbody>\n",
       "</table>\n",
       "</div>"
      ],
      "text/plain": [
       "   Sentence #                                              Token  POS  NER\n",
       "0        None  শনিবার ( ২৭ আগস্ট ) রাতে পটুয়াখালী সদর থানার ...  NaN  NaN\n",
       "17       None  বায়ুদূষণ ও স্মার্ট ফোন ছেলেমেয়ে উভয়ের প্রজনন ক...  NaN  NaN\n",
       "29       None  ছাত্র রাজনীতির বর্তমান অবস্থার শুরু হয়েছিলো ...  NaN  NaN\n",
       "40       None  শাকিল রাজধানীর ৩০০ ফিট , দিয়াবাড়ি ও পূর্বাচল...  NaN  NaN\n",
       "57       None  সম্প্রতি ক্লাবের নবীন ব্যবস্থাপনা প্রশিক্ষণার্...  NaN  NaN"
      ]
     },
     "execution_count": 22,
     "metadata": {},
     "output_type": "execute_result"
    }
   ],
   "source": [
    "# Display rows where 'POS' and 'NER' are NaN\n",
    "rows_with_missing_tags = data_cleaned[data_cleaned['POS'].isna() & data_cleaned['NER'].isna()]\n",
    "rows_with_missing_tags.head(5)"
   ]
  },
  {
   "cell_type": "code",
   "execution_count": 23,
   "metadata": {},
   "outputs": [
    {
     "data": {
      "text/plain": [
       "(4058, 4)"
      ]
     },
     "execution_count": 23,
     "metadata": {},
     "output_type": "execute_result"
    }
   ],
   "source": [
    "rows_with_missing_tags.shape"
   ]
  },
  {
   "cell_type": "code",
   "execution_count": 24,
   "metadata": {},
   "outputs": [
    {
     "data": {
      "text/plain": [
       "(4060, 4)"
      ]
     },
     "execution_count": 24,
     "metadata": {},
     "output_type": "execute_result"
    }
   ],
   "source": [
    "data_cleaned[data_cleaned['POS'].isna() | data_cleaned['NER'].isna()].shape"
   ]
  },
  {
   "cell_type": "code",
   "execution_count": 25,
   "metadata": {},
   "outputs": [
    {
     "data": {
      "text/html": [
       "<div>\n",
       "<style scoped>\n",
       "    .dataframe tbody tr th:only-of-type {\n",
       "        vertical-align: middle;\n",
       "    }\n",
       "\n",
       "    .dataframe tbody tr th {\n",
       "        vertical-align: top;\n",
       "    }\n",
       "\n",
       "    .dataframe thead th {\n",
       "        text-align: right;\n",
       "    }\n",
       "</style>\n",
       "<table border=\"1\" class=\"dataframe\">\n",
       "  <thead>\n",
       "    <tr style=\"text-align: right;\">\n",
       "      <th></th>\n",
       "      <th>Sentence #</th>\n",
       "      <th>Token</th>\n",
       "      <th>POS</th>\n",
       "      <th>NER</th>\n",
       "    </tr>\n",
       "  </thead>\n",
       "  <tbody>\n",
       "    <tr>\n",
       "      <th>6746</th>\n",
       "      <td>561</td>\n",
       "      <td>১৯৯৫</td>\n",
       "      <td>প্রথম বাঙালি মুসলমান চিত্রাভিনেত্রী বনানী চৌধু...</td>\n",
       "      <td>NaN</td>\n",
       "    </tr>\n",
       "    <tr>\n",
       "      <th>30298</th>\n",
       "      <td>2493</td>\n",
       "      <td>১৯২৮</td>\n",
       "      <td>তুরস্ক আরবি হরফের ব্যবহার নিষিদ্ধ করে তার পরিব...</td>\n",
       "      <td>NaN</td>\n",
       "    </tr>\n",
       "  </tbody>\n",
       "</table>\n",
       "</div>"
      ],
      "text/plain": [
       "      Sentence # Token                                                POS  NER\n",
       "6746         561  ১৯৯৫  প্রথম বাঙালি মুসলমান চিত্রাভিনেত্রী বনানী চৌধু...  NaN\n",
       "30298       2493  ১৯২৮  তুরস্ক আরবি হরফের ব্যবহার নিষিদ্ধ করে তার পরিব...  NaN"
      ]
     },
     "execution_count": 25,
     "metadata": {},
     "output_type": "execute_result"
    }
   ],
   "source": [
    "result = data_cleaned[(data_cleaned['POS'].isna() | data_cleaned['NER'].isna()) & ~(data_cleaned['POS'].isna() & data_cleaned['NER'].isna())]\n",
    "result"
   ]
  },
  {
   "cell_type": "code",
   "execution_count": 26,
   "metadata": {},
   "outputs": [
    {
     "data": {
      "text/plain": [
       "Sentence #    0\n",
       "Token         0\n",
       "POS           0\n",
       "NER           0\n",
       "dtype: int64"
      ]
     },
     "execution_count": 26,
     "metadata": {},
     "output_type": "execute_result"
    }
   ],
   "source": [
    "# Remove rows with missing values\n",
    "data_cleaned = data_cleaned.dropna(subset=['POS', 'NER'])\n",
    "\n",
    "missing_values_filled = data_cleaned.isna().sum()\n",
    "missing_values_filled"
   ]
  },
  {
   "cell_type": "code",
   "execution_count": 27,
   "metadata": {},
   "outputs": [
    {
     "data": {
      "text/html": [
       "<div>\n",
       "<style scoped>\n",
       "    .dataframe tbody tr th:only-of-type {\n",
       "        vertical-align: middle;\n",
       "    }\n",
       "\n",
       "    .dataframe tbody tr th {\n",
       "        vertical-align: top;\n",
       "    }\n",
       "\n",
       "    .dataframe thead th {\n",
       "        text-align: right;\n",
       "    }\n",
       "</style>\n",
       "<table border=\"1\" class=\"dataframe\">\n",
       "  <thead>\n",
       "    <tr style=\"text-align: right;\">\n",
       "      <th></th>\n",
       "      <th>Sentence #</th>\n",
       "      <th>Token</th>\n",
       "      <th>POS</th>\n",
       "      <th>NER</th>\n",
       "    </tr>\n",
       "  </thead>\n",
       "  <tbody>\n",
       "    <tr>\n",
       "      <th>1</th>\n",
       "      <td>1</td>\n",
       "      <td>শনিবার</td>\n",
       "      <td>NNP</td>\n",
       "      <td>B-D&amp;T</td>\n",
       "    </tr>\n",
       "    <tr>\n",
       "      <th>2</th>\n",
       "      <td>1</td>\n",
       "      <td>(</td>\n",
       "      <td>PUNCT</td>\n",
       "      <td>B-OTH</td>\n",
       "    </tr>\n",
       "    <tr>\n",
       "      <th>3</th>\n",
       "      <td>1</td>\n",
       "      <td>আগস্ট</td>\n",
       "      <td>NNP</td>\n",
       "      <td>B-D&amp;T</td>\n",
       "    </tr>\n",
       "    <tr>\n",
       "      <th>4</th>\n",
       "      <td>1</td>\n",
       "      <td>রাতে</td>\n",
       "      <td>NNC</td>\n",
       "      <td>B-D&amp;T</td>\n",
       "    </tr>\n",
       "    <tr>\n",
       "      <th>5</th>\n",
       "      <td>1</td>\n",
       "      <td>পটুয়াখালী</td>\n",
       "      <td>NNP</td>\n",
       "      <td>B-GPE</td>\n",
       "    </tr>\n",
       "  </tbody>\n",
       "</table>\n",
       "</div>"
      ],
      "text/plain": [
       "  Sentence #       Token    POS    NER\n",
       "1          1      শনিবার    NNP  B-D&T\n",
       "2          1           (  PUNCT  B-OTH\n",
       "3          1       আগস্ট    NNP  B-D&T\n",
       "4          1        রাতে    NNC  B-D&T\n",
       "5          1  পটুয়াখালী    NNP  B-GPE"
      ]
     },
     "execution_count": 27,
     "metadata": {},
     "output_type": "execute_result"
    }
   ],
   "source": [
    "data_cleaned.head()"
   ]
  },
  {
   "cell_type": "code",
   "execution_count": 28,
   "metadata": {},
   "outputs": [
    {
     "data": {
      "text/plain": [
       "(45324, 4)"
      ]
     },
     "execution_count": 28,
     "metadata": {},
     "output_type": "execute_result"
    }
   ],
   "source": [
    "data_cleaned.shape"
   ]
  },
  {
   "cell_type": "markdown",
   "metadata": {},
   "source": [
    "### More Exploratory Analysis"
   ]
  },
  {
   "cell_type": "code",
   "execution_count": 29,
   "metadata": {},
   "outputs": [
    {
     "name": "stdout",
     "output_type": "stream",
     "text": [
      "number of unique words in the dataset = 14509\n",
      "number of unique POS tags = 15\n",
      "number of unique NER tags = 21\n"
     ]
    }
   ],
   "source": [
    "print(f\"number of unique words in the dataset = {len(data_cleaned['Token'].unique())}\")\n",
    "print(f\"number of unique POS tags = {len(data_cleaned['POS'].unique())}\")\n",
    "print(f\"number of unique NER tags = {len(data_cleaned['NER'].unique())}\")"
   ]
  },
  {
   "cell_type": "code",
   "execution_count": 30,
   "metadata": {},
   "outputs": [
    {
     "name": "stdout",
     "output_type": "stream",
     "text": [
      "Top 20 Tokens:\n",
      "Token\n",
      "ও         442\n",
      "বলেন      346\n",
      "করে       321\n",
      "থেকে      298\n",
      "এ         269\n",
      "করা       234\n",
      "না        225\n",
      "এই        216\n",
      "‘         188\n",
      "হয়েছে    186\n",
      "তিনি      177\n",
      "জন্য      174\n",
      "এবং       174\n",
      "হবে       165\n",
      "এক        159\n",
      "একটি      157\n",
      "হয়       152\n",
      "(         151\n",
      "করেন      143\n",
      "করতে      132\n",
      "Name: count, dtype: int64\n"
     ]
    }
   ],
   "source": [
    "# Distribution of tokens\n",
    "token_distribution = data_cleaned['Token'].value_counts()\n",
    "print(\"Top 20 Tokens:\")\n",
    "print(token_distribution.head(20))"
   ]
  },
  {
   "cell_type": "code",
   "execution_count": 31,
   "metadata": {},
   "outputs": [
    {
     "data": {
      "text/plain": [
       "Token\n",
       "বানো               1\n",
       "মৃত্যুবার্ষিকীতে    1\n",
       "রায়কে              1\n",
       "কিশোর              1\n",
       "গুরুত্বারোপ        1\n",
       "Name: count, dtype: int64"
      ]
     },
     "execution_count": 31,
     "metadata": {},
     "output_type": "execute_result"
    }
   ],
   "source": [
    "token_distribution.tail(5)"
   ]
  },
  {
   "cell_type": "code",
   "execution_count": 32,
   "metadata": {},
   "outputs": [
    {
     "name": "stdout",
     "output_type": "stream",
     "text": [
      "POS Tag Distribution:\n",
      "POS\n",
      "NNC      17803\n",
      "NNP       7544\n",
      "ADJ       4581\n",
      "VF        4417\n",
      "QF        1971\n",
      "PP        1866\n",
      "VNF       1602\n",
      "ADV       1461\n",
      "PRO       1329\n",
      "CONJ       947\n",
      "PUNCT      859\n",
      "DET        773\n",
      "PART        85\n",
      "OTH         67\n",
      "INTJ        19\n",
      "Name: count, dtype: int64\n"
     ]
    }
   ],
   "source": [
    "# Distribution of POS tags\n",
    "pos_distribution = data_cleaned['POS'].value_counts()\n",
    "print(\"POS Tag Distribution:\")\n",
    "print(pos_distribution)"
   ]
  },
  {
   "cell_type": "code",
   "execution_count": 33,
   "metadata": {},
   "outputs": [
    {
     "name": "stdout",
     "output_type": "stream",
     "text": [
      "NER Tag Distribution:\n",
      "NER\n",
      "B-OTH      30932\n",
      "B-PER       3565\n",
      "B-ORG       1575\n",
      "I-PER       1426\n",
      "B-NUM       1314\n",
      "I-ORG       1151\n",
      "B-GPE        997\n",
      "B-D&T        996\n",
      "I-D&T        787\n",
      "B-EVENT      551\n",
      "B-LOC        460\n",
      "B-UNIT       301\n",
      "I-NUM        277\n",
      "I-EVENT      253\n",
      "B-MISC       249\n",
      "I-LOC        232\n",
      "B-T&T        106\n",
      "I-T&T         52\n",
      "I-GPE         51\n",
      "I-MISC        37\n",
      "I-UNIT        12\n",
      "Name: count, dtype: int64\n"
     ]
    }
   ],
   "source": [
    "# Distribution of NER tags\n",
    "ner_distribution = data_cleaned['NER'].value_counts()\n",
    "print(\"NER Tag Distribution:\")\n",
    "print(ner_distribution)"
   ]
  },
  {
   "cell_type": "code",
   "execution_count": 34,
   "metadata": {},
   "outputs": [
    {
     "name": "stdout",
     "output_type": "stream",
     "text": [
      "Infrequent POS Tags:\n",
      "Index([], dtype='object', name='POS')\n",
      "Infrequent NER Tags:\n",
      "Index([], dtype='object', name='NER')\n"
     ]
    }
   ],
   "source": [
    "# Define a threshold for infrequent tags (e.g., less than a certain count)\n",
    "threshold = 5\n",
    "\n",
    "# Identify infrequent POS tags\n",
    "infrequent_pos_tags = pos_distribution[pos_distribution < threshold].index\n",
    "\n",
    "# Identify infrequent NER tags\n",
    "infrequent_ner_tags = ner_distribution[ner_distribution < threshold].index\n",
    "\n",
    "print(\"Infrequent POS Tags:\")\n",
    "print(infrequent_pos_tags)\n",
    "\n",
    "print(\"Infrequent NER Tags:\")\n",
    "print(infrequent_ner_tags)\n"
   ]
  },
  {
   "cell_type": "code",
   "execution_count": 35,
   "metadata": {},
   "outputs": [
    {
     "data": {
      "text/html": [
       "<div>\n",
       "<style scoped>\n",
       "    .dataframe tbody tr th:only-of-type {\n",
       "        vertical-align: middle;\n",
       "    }\n",
       "\n",
       "    .dataframe tbody tr th {\n",
       "        vertical-align: top;\n",
       "    }\n",
       "\n",
       "    .dataframe thead th {\n",
       "        text-align: right;\n",
       "    }\n",
       "</style>\n",
       "<table border=\"1\" class=\"dataframe\">\n",
       "  <thead>\n",
       "    <tr style=\"text-align: right;\">\n",
       "      <th></th>\n",
       "      <th>Sentence #</th>\n",
       "      <th>Token</th>\n",
       "      <th>POS</th>\n",
       "      <th>NER</th>\n",
       "    </tr>\n",
       "  </thead>\n",
       "  <tbody>\n",
       "    <tr>\n",
       "      <th>0</th>\n",
       "      <td>1</td>\n",
       "      <td>শনিবার</td>\n",
       "      <td>NNP</td>\n",
       "      <td>B-D&amp;T</td>\n",
       "    </tr>\n",
       "    <tr>\n",
       "      <th>1</th>\n",
       "      <td>1</td>\n",
       "      <td>(</td>\n",
       "      <td>PUNCT</td>\n",
       "      <td>B-OTH</td>\n",
       "    </tr>\n",
       "    <tr>\n",
       "      <th>2</th>\n",
       "      <td>1</td>\n",
       "      <td>আগস্ট</td>\n",
       "      <td>NNP</td>\n",
       "      <td>B-D&amp;T</td>\n",
       "    </tr>\n",
       "    <tr>\n",
       "      <th>3</th>\n",
       "      <td>1</td>\n",
       "      <td>রাতে</td>\n",
       "      <td>NNC</td>\n",
       "      <td>B-D&amp;T</td>\n",
       "    </tr>\n",
       "    <tr>\n",
       "      <th>4</th>\n",
       "      <td>1</td>\n",
       "      <td>পটুয়াখালী</td>\n",
       "      <td>NNP</td>\n",
       "      <td>B-GPE</td>\n",
       "    </tr>\n",
       "  </tbody>\n",
       "</table>\n",
       "</div>"
      ],
      "text/plain": [
       "  Sentence #       Token    POS    NER\n",
       "0          1      শনিবার    NNP  B-D&T\n",
       "1          1           (  PUNCT  B-OTH\n",
       "2          1       আগস্ট    NNP  B-D&T\n",
       "3          1        রাতে    NNC  B-D&T\n",
       "4          1  পটুয়াখালী    NNP  B-GPE"
      ]
     },
     "execution_count": 35,
     "metadata": {},
     "output_type": "execute_result"
    }
   ],
   "source": [
    "# Remove rows with infrequent POS or NER tags\n",
    "data_cleaned = data_cleaned[~data_cleaned['POS'].isin(infrequent_pos_tags) & ~data_cleaned['NER'].isin(infrequent_ner_tags)]\n",
    "data_cleaned.reset_index(drop=True, inplace=True)\n",
    "data_cleaned.head(5)"
   ]
  },
  {
   "cell_type": "code",
   "execution_count": 36,
   "metadata": {},
   "outputs": [
    {
     "name": "stdout",
     "output_type": "stream",
     "text": [
      "\n",
      "Token Distribution Summary:\n",
      "count    14509.000000\n",
      "mean         3.123854\n",
      "std         10.579131\n",
      "min          1.000000\n",
      "25%          1.000000\n",
      "50%          1.000000\n",
      "75%          2.000000\n",
      "max        442.000000\n",
      "Name: count, dtype: float64\n",
      "\n",
      "POS Tag Distribution Summary:\n",
      "count       15.000000\n",
      "mean      3021.600000\n",
      "std       4578.532622\n",
      "min         19.000000\n",
      "25%        816.000000\n",
      "50%       1461.000000\n",
      "75%       3194.000000\n",
      "max      17803.000000\n",
      "Name: count, dtype: float64\n",
      "\n",
      "NER Tag Distribution Summary:\n",
      "count       21.000000\n",
      "mean      2158.285714\n",
      "std       6643.519467\n",
      "min         12.000000\n",
      "25%        232.000000\n",
      "50%        460.000000\n",
      "75%       1151.000000\n",
      "max      30932.000000\n",
      "Name: count, dtype: float64\n"
     ]
    }
   ],
   "source": [
    "# Summary of distributions\n",
    "print(\"\\nToken Distribution Summary:\")\n",
    "print(token_distribution.describe())\n",
    "\n",
    "print(\"\\nPOS Tag Distribution Summary:\")\n",
    "print(pos_distribution.describe())\n",
    "\n",
    "print(\"\\nNER Tag Distribution Summary:\")\n",
    "print(ner_distribution.describe())"
   ]
  },
  {
   "cell_type": "code",
   "execution_count": 37,
   "metadata": {},
   "outputs": [
    {
     "data": {
      "text/plain": [
       "(45324, 4)"
      ]
     },
     "execution_count": 37,
     "metadata": {},
     "output_type": "execute_result"
    }
   ],
   "source": [
    "data_cleaned.shape"
   ]
  },
  {
   "cell_type": "code",
   "execution_count": 38,
   "metadata": {},
   "outputs": [],
   "source": [
    "import seaborn as sns\n",
    "import matplotlib.pyplot as plt"
   ]
  },
  {
   "cell_type": "code",
   "execution_count": 42,
   "metadata": {},
   "outputs": [
    {
     "data": {
      "image/png": "[encoded data removed]",
      "text/plain": [
       "<Figure size 640x480 with 1 Axes>"
      ]
     },
     "metadata": {},
     "output_type": "display_data"
    }
   ],
   "source": [
    "sns.countplot(data=data_cleaned, x='POS', hue = 'POS', dodge=False).legend_\n",
    "plt.xticks(rotation=30)\n",
    "plt.show()"
   ]
  },
  {
   "cell_type": "code",
   "execution_count": 44,
   "metadata": {},
   "outputs": [
    {
     "data": {
      "image/png": "[encoded data removed]",
      "text/plain": [
       "<Figure size 640x480 with 1 Axes>"
      ]
     },
     "metadata": {},
     "output_type": "display_data"
    }
   ],
   "source": [
    "sns.countplot(data=data_cleaned, x='NER', hue = 'NER', dodge=False).legend_\n",
    "plt.xticks(rotation=30)\n",
    "plt.show()"
   ]
  },
  {
   "cell_type": "markdown",
   "metadata": {},
   "source": [
    "### Tokenize and Pad Sequences"
   ]
  },
  {
   "cell_type": "code",
   "execution_count": 45,
   "metadata": {},
   "outputs": [],
   "source": [
    "# from bnlp import NLTKTokenizer\n",
    "\n",
    "# bnltk = NLTKTokenizer()\n",
    "\n",
    "# text = \"আমি ভাত খাই। সে বাজারে যায়। তিনি কি সত্যিই ভালো মানুষ?\"\n",
    "# word_tokens = bnltk.word_tokenize(text)\n",
    "# sentence_tokens = bnltk.sentence_tokenize(text)\n",
    "# print(word_tokens)\n",
    "# print(sentence_tokens)"
   ]
  },
  {
   "cell_type": "code",
   "execution_count": 46,
   "metadata": {},
   "outputs": [
    {
     "data": {
      "text/plain": [
       "14510"
      ]
     },
     "execution_count": 46,
     "metadata": {},
     "output_type": "execute_result"
    }
   ],
   "source": [
    "words = list(set(data_cleaned['Token'].values))\n",
    "# put padding end token at the end\n",
    "words.append('ENDPAD')\n",
    "nbr_words = len(words)\n",
    "nbr_words"
   ]
  },
  {
   "cell_type": "code",
   "execution_count": 47,
   "metadata": {},
   "outputs": [
    {
     "data": {
      "text/plain": [
       "15"
      ]
     },
     "execution_count": 47,
     "metadata": {},
     "output_type": "execute_result"
    }
   ],
   "source": [
    "poss = list(set(data_cleaned['POS'].values))\n",
    "nbr_pos = len(poss)\n",
    "nbr_pos"
   ]
  },
  {
   "cell_type": "code",
   "execution_count": 48,
   "metadata": {},
   "outputs": [
    {
     "data": {
      "text/plain": [
       "21"
      ]
     },
     "execution_count": 48,
     "metadata": {},
     "output_type": "execute_result"
    }
   ],
   "source": [
    "ners = list(set(data_cleaned['NER'].values))\n",
    "nbr_ners = len(ners)\n",
    "nbr_ners"
   ]
  },
  {
   "cell_type": "code",
   "execution_count": 49,
   "metadata": {},
   "outputs": [],
   "source": [
    "# # Check lengths of sequences\n",
    "# print(f\"Token sequence length: {sequences.shape[1]}\")\n",
    "# print(f\"POS sequence length: {pos_sequences.shape[1]}\")\n",
    "# print(f\"NER sequence length: {ner_sequences.shape[1]}\")\n",
    "\n",
    "# # Verify that all sequences have the same length\n",
    "# assert sequences.shape[1] == pos_sequences.shape[1] == ner_sequences.shape[1], \"Sequences have different lengths!\""
   ]
  },
  {
   "cell_type": "code",
   "execution_count": 50,
   "metadata": {},
   "outputs": [],
   "source": [
    "def combine_word_ner_pos(data):\n",
    "    \"\"\"\n",
    "    Input (Pandas DataFrame): containing the dataset we want to group by sentence\n",
    "    Output (2D list): a 2D list where wach inner list corresponds to sentence and has tuples like so (word, pos, ner)\n",
    "    \"\"\"\n",
    "    # create the list of tuples (word, pos, tag)\n",
    "    tuples_fun =  lambda s:[(word, pos, ner) for word, pos, ner in zip(s['Token'].values.tolist(), s['POS'].values.tolist(), s['NER'].values.tolist())]\n",
    "    # group tuples by sentence to create the second dimension\n",
    "    combination = data.groupby('Sentence #').apply(tuples_fun).tolist()\n",
    "    \n",
    "    return combination"
   ]
  },
  {
   "cell_type": "code",
   "execution_count": 51,
   "metadata": {},
   "outputs": [
    {
     "data": {
      "text/plain": [
       "[[('শনিবার', 'NNP', 'B-D&T'),\n",
       "  ('(', 'PUNCT', 'B-OTH'),\n",
       "  ('আগস্ট', 'NNP', 'B-D&T'),\n",
       "  ('রাতে', 'NNC', 'B-D&T'),\n",
       "  ('পটুয়াখালী', 'NNP', 'B-GPE'),\n",
       "  ('সদর', 'NNC', 'I-GPE'),\n",
       "  ('থানার', 'NNC', 'I-GPE'),\n",
       "  ('ভারপ্রাপ্ত', 'ADJ', 'B-PER'),\n",
       "  ('কর্মকর্তা', 'NNC', 'I-PER'),\n",
       "  ('( ওসি )', 'PUNCT', 'B-OTH'),\n",
       "  ('মো.', 'NNP', 'B-PER'),\n",
       "  ('মনিরুজ্জামান', 'NNP', 'I-PER'),\n",
       "  ('এ', 'DET', 'B-OTH'),\n",
       "  ('তথ্য', 'NNC', 'B-OTH'),\n",
       "  ('নিশ্চিত', 'ADJ', 'B-OTH'),\n",
       "  ('করেছেন', 'VF', 'B-OTH')],\n",
       " [('বায়ুদূষণ', 'NNC', 'B-OTH'),\n",
       "  ('ও', 'CONJ', 'B-OTH'),\n",
       "  ('স্মার্ট', 'NNC', 'B-OTH'),\n",
       "  ('ফোন', 'NNC', 'B-OTH'),\n",
       "  ('ছেলেমেয়ে', 'NNC', 'B-PER'),\n",
       "  ('উভয়ের', 'PRO', 'B-OTH'),\n",
       "  ('প্রজনন', 'NNC', 'B-OTH'),\n",
       "  ('ক্ষমতা', 'NNC', 'B-OTH'),\n",
       "  ('হ্রাস', 'NNC', 'B-OTH'),\n",
       "  ('করে', 'VNF', 'B-OTH'),\n",
       "  ('দিচ্ছে', 'VF', 'B-OTH')],\n",
       " [('ছাত্র', 'NNC', 'B-OTH'),\n",
       "  ('রাজনীতির', 'NNC', 'B-OTH'),\n",
       "  ('বর্তমান', 'ADJ', 'B-OTH'),\n",
       "  ('অবস্থার', 'NNC', 'B-OTH'),\n",
       "  ('শুরু', 'NNC', 'B-OTH'),\n",
       "  ('হয়েছিলো', 'VF', 'B-OTH'),\n",
       "  ('স্বৈরশাসক', 'NNC', 'B-PER'),\n",
       "  ('এরশাদের', 'NNP', 'B-PER'),\n",
       "  ('হাত', 'NNC', 'B-OTH'),\n",
       "  ('ধরে', 'PP', 'B-OTH')],\n",
       " [('শাকিল', 'NNP', 'B-PER'),\n",
       "  ('রাজধানীর', 'NNC', 'B-OTH'),\n",
       "  ('৩০০', 'QF', 'B-LOC'),\n",
       "  ('ফিট', 'NNC', 'I-LOC'),\n",
       "  ('দিয়াবাড়ি', 'NNP', 'B-LOC'),\n",
       "  ('ও', 'CONJ', 'B-OTH'),\n",
       "  ('পূর্বাচল', 'NNP', 'B-LOC'),\n",
       "  ('এলাকায়', 'NNC', 'B-OTH'),\n",
       "  ('ছিনতাইয়ের', 'NNC', 'B-OTH'),\n",
       "  ('জন্য', 'PP', 'B-OTH'),\n",
       "  ('মেয়েদের', 'NNC', 'B-PER'),\n",
       "  ('নিয়ে', 'VNF', 'B-OTH'),\n",
       "  ('যেতেন', 'VF', 'B-OTH'),\n",
       "  ('বলে', 'PP', 'B-OTH'),\n",
       "  ('জানিয়েছে', 'VF', 'B-OTH'),\n",
       "  ('ডিবি', 'NNP', 'B-ORG')],\n",
       " [('সম্প্রতি', 'ADV', 'B-OTH'),\n",
       "  ('ক্লাবের', 'NNC', 'B-ORG'),\n",
       "  ('নবীন', 'ADJ', 'B-OTH'),\n",
       "  ('ব্যবস্থাপনা', 'NNC', 'B-OTH'),\n",
       "  ('প্রশিক্ষণার্থী', 'NNC', 'B-PER'),\n",
       "  ('ও', 'CONJ', 'B-OTH'),\n",
       "  ('প্রশিক্ষণার্থী', 'NNC', 'B-PER'),\n",
       "  ('সহযোগীদের', 'NNC', 'B-PER'),\n",
       "  ('নিয়ে', 'PP', 'B-OTH'),\n",
       "  ('অনুষ্ঠিত', 'ADJ', 'B-OTH'),\n",
       "  ('হলো', 'VF', 'B-OTH'),\n",
       "  ('ওরিয়েন্টশন', 'NNC', 'B-EVENT'),\n",
       "  ('প্রোগ্রাম', 'NNC', 'I-EVENT')]]"
      ]
     },
     "execution_count": 51,
     "metadata": {},
     "output_type": "execute_result"
    }
   ],
   "source": [
    "# apply the function on the dataset\n",
    "combination = combine_word_ner_pos(data_cleaned)\n",
    "combination[:5]"
   ]
  },
  {
   "cell_type": "markdown",
   "metadata": {},
   "source": [
    "#### Building the vocabulary"
   ]
  },
  {
   "cell_type": "code",
   "execution_count": 52,
   "metadata": {},
   "outputs": [
    {
     "name": "stdout",
     "output_type": "stream",
     "text": [
      "['সীমান্তবর্তী', 'সিদ্ধহস্ত', 'নাবা', 'চিফ', 'মার্চ']\n",
      "['OTH', 'VF', 'PP', 'DET', 'PRO', 'VNF', 'ADV', 'NNC', 'NNP', 'QF', 'PART', 'ADJ', 'CONJ', 'PUNCT', 'INTJ']\n",
      "['B-ORG', 'B-PER', 'B-GPE', 'I-UNIT', 'B-MISC', 'I-T&T', 'B-OTH', 'I-NUM', 'I-PER', 'I-EVENT', 'I-MISC', 'I-GPE', 'I-ORG', 'B-D&T', 'B-UNIT', 'B-NUM', 'I-D&T', 'B-LOC', 'B-EVENT', 'I-LOC', 'B-T&T']\n"
     ]
    }
   ],
   "source": [
    "\n",
    "words_vocab = {word: i for i, word in enumerate(words)}\n",
    "ners_vocab = {ner: i for i, ner in enumerate(ners)}\n",
    "pos_vocab = {pos: i for i, pos in enumerate(poss)}\n",
    "\n",
    "print(list(words_vocab)[:5])\n",
    "print(list(pos_vocab))\n",
    "print(list(ners_vocab))"
   ]
  },
  {
   "cell_type": "code",
   "execution_count": 53,
   "metadata": {},
   "outputs": [
    {
     "data": {
      "image/png": "[encoded data removed]",
      "text/plain": [
       "<Figure size 640x480 with 1 Axes>"
      ]
     },
     "metadata": {},
     "output_type": "display_data"
    }
   ],
   "source": [
    "# Calculate the lengths of the sentences\n",
    "sentence_lengths = [len(c) for c in combination]\n",
    "\n",
    "# Create the box plot\n",
    "sns.boxplot(y=sentence_lengths)\n",
    "\n",
    "# Set plot labels\n",
    "plt.xlabel('Sentences')\n",
    "plt.ylabel('Length')\n",
    "plt.title('Box Plot of Sentence Lengths')\n",
    "\n",
    "# Show the plot\n",
    "plt.show()"
   ]
  },
  {
   "cell_type": "markdown",
   "metadata": {},
   "source": [
    "We will take it as maximum length (25, disregarding the outliers) to take into consideration the longer sentences as well - and pad any shorter ones."
   ]
  },
  {
   "cell_type": "code",
   "execution_count": 54,
   "metadata": {},
   "outputs": [
    {
     "data": {
      "text/plain": [
       "('ENDPAD', 14509)"
      ]
     },
     "execution_count": 54,
     "metadata": {},
     "output_type": "execute_result"
    }
   ],
   "source": [
    "list(words_vocab.items())[nbr_words-1]"
   ]
  },
  {
   "cell_type": "code",
   "execution_count": 55,
   "metadata": {},
   "outputs": [
    {
     "data": {
      "text/plain": [
       "('INTJ', 14)"
      ]
     },
     "execution_count": 55,
     "metadata": {},
     "output_type": "execute_result"
    }
   ],
   "source": [
    "list(pos_vocab.items())[nbr_pos-1]"
   ]
  },
  {
   "cell_type": "code",
   "execution_count": 56,
   "metadata": {},
   "outputs": [
    {
     "data": {
      "text/plain": [
       "{'OTH': 0,\n",
       " 'VF': 1,\n",
       " 'PP': 2,\n",
       " 'DET': 3,\n",
       " 'PRO': 4,\n",
       " 'VNF': 5,\n",
       " 'ADV': 6,\n",
       " 'NNC': 7,\n",
       " 'NNP': 8,\n",
       " 'QF': 9,\n",
       " 'PART': 10,\n",
       " 'ADJ': 11,\n",
       " 'CONJ': 12,\n",
       " 'PUNCT': 13,\n",
       " 'INTJ': 14}"
      ]
     },
     "execution_count": 56,
     "metadata": {},
     "output_type": "execute_result"
    }
   ],
   "source": [
    "pos_vocab"
   ]
  },
  {
   "cell_type": "code",
   "execution_count": 57,
   "metadata": {},
   "outputs": [],
   "source": [
    "from keras_preprocessing.sequence import pad_sequences\n",
    "# define maximum sentence length\n",
    "max_len = 25\n",
    "\n",
    "# creating the features set\n",
    "# getting nbr representation for each word\n",
    "x = [[words_vocab[tuple[0]] for tuple in c] for c in combination]\n",
    "# padding the sentences so they would all be 25 words (padding value: 'ENDPAD')\n",
    "x = pad_sequences(maxlen=max_len, sequences = x, padding='post', value = nbr_words-1)\n",
    "\n",
    "# creating the target set\n",
    "# getting nbr representation for each pos and ner\n",
    "y_pos = [[pos_vocab[tuple[1]] for tuple in c] for c in combination]\n",
    "y_pos = pad_sequences(maxlen=max_len, sequences=y_pos, padding='post', value = nbr_pos-1)\n",
    "\n",
    "y_ner = [[ners_vocab[tuple[2]] for tuple in c] for c in combination]\n",
    "y_ner = pad_sequences(maxlen=max_len, sequences=y_ner, padding='post', value = nbr_ners-1)"
   ]
  },
  {
   "cell_type": "code",
   "execution_count": 58,
   "metadata": {},
   "outputs": [
    {
     "name": "stdout",
     "output_type": "stream",
     "text": [
      "feature set:  [[11980  6177  9578  5892  9701  6409  9798 14164  3949  5946 10594  3014\n",
      "  12997  2577  5129  8540 14509 14509 14509 14509 14509 14509 14509 14509\n",
      "  14509]\n",
      " [ 7426  3302  7016 14106 10740  5198  1898  2548   919  2215  6422 14509\n",
      "  14509 14509 14509 14509 14509 14509 14509 14509 14509 14509 14509 14509\n",
      "  14509]]\n",
      "pos labels:  [[ 8 13  8  7  8  7  7 11  7 13  8  8  3  7 11  1 14 14 14 14 14 14 14 14\n",
      "  14]\n",
      " [ 7 12  7  7  7  4  7  7  7  5  1 14 14 14 14 14 14 14 14 14 14 14 14 14\n",
      "  14]]\n",
      "ner labels:  [[13  6 13 13  2 11 11  1  8  6  1  8  6  6  6  6 20 20 20 20 20 20 20 20\n",
      "  20]\n",
      " [ 6  6  6  6  1  6  6  6  6  6  6 20 20 20 20 20 20 20 20 20 20 20 20 20\n",
      "  20]]\n"
     ]
    }
   ],
   "source": [
    "# take a look at the x and y sets\n",
    "print('feature set: ',x[:2])\n",
    "print('pos labels: ', y_pos[:2])\n",
    "print('ner labels: ', y_ner[:2])"
   ]
  },
  {
   "cell_type": "markdown",
   "metadata": {},
   "source": [
    "### Handling imbalance\n",
    "\n",
    "Resample on a Per-Sentence Basis:\n",
    "\n",
    "1. Flatten the sequences to get a single array of labels.\n",
    "2. Apply resampling techniques on this flattened array.\n",
    "3. Map the resampled labels back to the original sequence format."
   ]
  },
  {
   "cell_type": "code",
   "execution_count": 64,
   "metadata": {},
   "outputs": [
    {
     "name": "stdout",
     "output_type": "stream",
     "text": [
      "WARNING:tensorflow:From c:\\Users\\UTSHAB\\anaconda3\\envs\\end-to-end-nlp-practice\\lib\\site-packages\\keras\\src\\losses.py:2976: The name tf.losses.sparse_softmax_cross_entropy is deprecated. Please use tf.compat.v1.losses.sparse_softmax_cross_entropy instead.\n",
      "\n"
     ]
    }
   ],
   "source": [
    "import random\n",
    "import numpy as np\n",
    "import tensorflow as tf\n",
    "# Set the seed for reproducibility\n",
    "seed = 42\n",
    "random.seed(seed)\n",
    "np.random.seed(seed)\n",
    "tf.random.set_seed(seed)"
   ]
  },
  {
   "cell_type": "code",
   "execution_count": 65,
   "metadata": {},
   "outputs": [],
   "source": [
    "# from imblearn.over_sampling import SMOTE\n",
    "\n",
    "# # Flatten the label sequences for POS and NER\n",
    "# flattened_y_pos = [label for seq in y_pos for label in seq]\n",
    "# flattened_y_ner = [label for seq in y_ner for label in seq]\n",
    "\n",
    "# # Reshape the input features to match the flattened labels\n",
    "# flattened_x = [item for sublist in x for item in sublist]"
   ]
  },
  {
   "cell_type": "code",
   "execution_count": 66,
   "metadata": {},
   "outputs": [],
   "source": [
    "# # Apply SMOTE\n",
    "# smote = SMOTE(random_state=seed)\n",
    "# x_resampled, y_resampled_pos = smote.fit_resample(np.array(flattened_x).reshape(-1, 1), flattened_y_pos)\n",
    "# _, y_resampled_ner = smote.fit_resample(np.array(flattened_x).reshape(-1, 1), flattened_y_ner)"
   ]
  },
  {
   "cell_type": "code",
   "execution_count": 67,
   "metadata": {},
   "outputs": [],
   "source": [
    "# # Reshape back to original sequence format\n",
    "# def reshape_sequences(data, seq_lengths, num_classes):\n",
    "#     reshaped_data = []\n",
    "#     index = 0\n",
    "#     for length in seq_lengths:\n",
    "#         reshaped_data.append(data[index:index+length])\n",
    "#         index += length\n",
    "#     return reshaped_data\n",
    "\n",
    "# seq_lengths = [len(seq) for seq in x]\n",
    "# x_resampled = reshape_sequences(x_resampled.flatten(), seq_lengths, num_classes=nbr_words)\n",
    "# y_resampled_pos = reshape_sequences(y_resampled_pos, seq_lengths, num_classes=nbr_pos)\n",
    "# y_resampled_ner = reshape_sequences(y_resampled_ner, seq_lengths, num_classes=nbr_ners)"
   ]
  },
  {
   "cell_type": "markdown",
   "metadata": {},
   "source": [
    "### Train-Test (Validation Split will be done before the model definition)"
   ]
  },
  {
   "cell_type": "code",
   "execution_count": 68,
   "metadata": {},
   "outputs": [],
   "source": [
    "from sklearn.model_selection import train_test_split\n",
    "\n",
    "train_x, test_x, train_y_pos, test_y_pos, train_y_ner, test_y_ner = train_test_split(\n",
    "    x, y_pos, y_ner, test_size=0.2, random_state=seed)"
   ]
  },
  {
   "cell_type": "code",
   "execution_count": 69,
   "metadata": {},
   "outputs": [],
   "source": [
    "# from collections import Counter\n",
    "\n",
    "# # Flatten the sequences\n",
    "# flat_y_pos = [label for seq in y_pos for label in seq]\n",
    "# flat_y_ner = [label for seq in y_ner for label in seq]\n",
    "\n",
    "# # Count occurrences\n",
    "# pos_counts = Counter(flat_y_pos)\n",
    "# ner_counts = Counter(flat_y_ner)\n",
    "\n",
    "# # Print class frequencies\n",
    "# print(\"POS Tag Frequencies:\")\n",
    "# for tag, count in pos_counts.items():\n",
    "#     print(f\"{tag}: {count}\")\n",
    "\n",
    "# print(\"\\nNER Tag Frequencies:\")\n",
    "# for tag, count in ner_counts.items():\n",
    "#     print(f\"{tag}: {count}\")"
   ]
  },
  {
   "cell_type": "code",
   "execution_count": 70,
   "metadata": {},
   "outputs": [],
   "source": [
    "# from collections import Counter\n",
    "\n",
    "# # Check distribution of NER tags in each set\n",
    "# def check_distribution(y):\n",
    "#     return Counter(np.concatenate(y))\n",
    "\n",
    "# print(\"Train NER distribution:\", check_distribution(train_y_ner))\n",
    "# print(\"Test NER distribution:\", check_distribution(test_y_ner))\n",
    "\n",
    "\n",
    "# # Check distributions after split\n",
    "# print(\"Test NER distribution:\", check_distribution(test_y_ner))"
   ]
  },
  {
   "cell_type": "code",
   "execution_count": 71,
   "metadata": {},
   "outputs": [
    {
     "name": "stdout",
     "output_type": "stream",
     "text": [
      "Train X shape: (3246, 25)\n",
      "Test X shape: (812, 25)\n",
      "Train Y POS shape: (3246, 25)\n",
      "Test Y POS shape: (812, 25)\n",
      "Train Y NER shape: (3246, 25)\n",
      "Test Y NER shape: (812, 25)\n"
     ]
    }
   ],
   "source": [
    "# Ensure that the shapes match for all arrays\n",
    "print(f\"Train X shape: {train_x.shape}\")\n",
    "print(f\"Test X shape: {test_x.shape}\")\n",
    "print(f\"Train Y POS shape: {train_y_pos.shape}\")\n",
    "print(f\"Test Y POS shape: {test_y_pos.shape}\")\n",
    "print(f\"Train Y NER shape: {train_y_ner.shape}\")\n",
    "print(f\"Test Y NER shape: {test_y_ner.shape}\")"
   ]
  },
  {
   "cell_type": "code",
   "execution_count": 72,
   "metadata": {},
   "outputs": [],
   "source": [
    "import numpy as np\n",
    "import pickle\n",
    "import os\n",
    "\n",
    "os.makedirs('processed_data', exist_ok=True)\n",
    "\n",
    "# Save the arrays\n",
    "np.save('./processed_data/train_x.npy', train_x)\n",
    "np.save('./processed_data/test_x.npy', test_x)\n",
    "np.save('./processed_data/train_y_pos.npy', train_y_pos)\n",
    "np.save('./processed_data/test_y_pos.npy', test_y_pos)\n",
    "np.save('./processed_data/train_y_ner.npy', train_y_ner)\n",
    "np.save('./processed_data/test_y_ner.npy', test_y_ner)\n",
    "\n",
    "# Save the vocab dictionaries\n",
    "with open('./processed_data/words_vocab.pkl', 'wb') as f:\n",
    "    pickle.dump(words_vocab, f)\n",
    "\n",
    "with open('./processed_data/pos_vocab.pkl', 'wb') as f:\n",
    "    pickle.dump(pos_vocab, f)\n",
    "\n",
    "with open('./processed_data/ners_vocab.pkl', 'wb') as f:\n",
    "    pickle.dump(ners_vocab, f)\n",
    "\n",
    "# Save the words, poss, and ners lists\n",
    "with open('processed_data/words.pkl', 'wb') as f:\n",
    "    pickle.dump(words, f)\n",
    "\n",
    "with open('processed_data/poss.pkl', 'wb') as f:\n",
    "    pickle.dump(poss, f)\n",
    "\n",
    "with open('processed_data/ners.pkl', 'wb') as f:\n",
    "    pickle.dump(ners, f)"
   ]
  },
  {
   "cell_type": "code",
   "execution_count": null,
   "metadata": {},
   "outputs": [],
   "source": []
  }
 ],
 "metadata": {
  "kernelspec": {
   "display_name": "Python 3",
   "language": "python",
   "name": "python3"
  },
  "language_info": {
   "codemirror_mode": {
    "name": "ipython",
    "version": 3
   },
   "file_extension": ".py",
   "mimetype": "text/x-python",
   "name": "python",
   "nbconvert_exporter": "python",
   "pygments_lexer": "ipython3",
   "version": "3.10.14"
  }
 },
 "nbformat": 4,
 "nbformat_minor": 2
}
