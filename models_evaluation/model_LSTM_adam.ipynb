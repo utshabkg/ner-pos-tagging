{
 "cells": [
  {
   "cell_type": "markdown",
   "metadata": {},
   "source": [
    "### Load Processed Data"
   ]
  },
  {
   "cell_type": "code",
   "execution_count": 1,
   "metadata": {},
   "outputs": [],
   "source": [
    "import numpy as np\n",
    "import pickle\n",
    "\n",
    "# Load the arrays\n",
    "train_x = np.load('../processed_data/train_x.npy')\n",
    "test_x = np.load('../processed_data/test_x.npy')\n",
    "train_y = np.load('../processed_data/train_y.npy')\n",
    "test_y = np.load('../processed_data/test_y.npy')\n",
    "\n",
    "# Load the vocab dictionaries\n",
    "with open('../processed_data/words_vocab.pkl', 'rb') as f:\n",
    "    words_vocab = pickle.load(f)\n",
    "\n",
    "with open('../processed_data/pos_vocab.pkl', 'rb') as f:\n",
    "    pos_vocab = pickle.load(f)\n",
    "\n",
    "with open('../processed_data/ners_vocab.pkl', 'rb') as f:\n",
    "    ners_vocab = pickle.load(f)\n",
    "\n",
    "# Load the words, poss, and ners lists\n",
    "with open('../processed_data/words.pkl', 'rb') as f:\n",
    "    words = pickle.load(f)\n",
    "\n",
    "with open('../processed_data/poss.pkl', 'rb') as f:\n",
    "    poss = pickle.load(f)\n",
    "\n",
    "with open('../processed_data/ners.pkl', 'rb') as f:\n",
    "    ners = pickle.load(f)\n",
    "\n",
    "# Define the number of unique words, POS tags, and NER tags\n",
    "nbr_words = len(words_vocab)\n",
    "nbr_pos = len(pos_vocab)\n",
    "nbr_ners = len(ners_vocab)\n",
    "\n",
    "# Define maximum sentence length\n",
    "max_len = 25\n"
   ]
  },
  {
   "cell_type": "markdown",
   "metadata": {},
   "source": [
    "### Building the model"
   ]
  },
  {
   "cell_type": "code",
   "execution_count": 2,
   "metadata": {},
   "outputs": [
    {
     "ename": "ModuleNotFoundError",
     "evalue": "No module named 'tensorflow_addons'",
     "output_type": "error",
     "traceback": [
      "\u001b[1;31m---------------------------------------------------------------------------\u001b[0m",
      "\u001b[1;31mModuleNotFoundError\u001b[0m                       Traceback (most recent call last)",
      "\u001b[1;32m<ipython-input-2-b0c209e48051>\u001b[0m in \u001b[0;36m<module>\u001b[1;34m()\u001b[0m\n\u001b[0;32m      3\u001b[0m \u001b[1;32mfrom\u001b[0m \u001b[0mtensorflow\u001b[0m\u001b[1;33m.\u001b[0m\u001b[0mkeras\u001b[0m\u001b[1;33m.\u001b[0m\u001b[0mlayers\u001b[0m \u001b[1;32mimport\u001b[0m \u001b[0mInput\u001b[0m\u001b[1;33m,\u001b[0m \u001b[0mLSTM\u001b[0m\u001b[1;33m,\u001b[0m \u001b[0mEmbedding\u001b[0m\u001b[1;33m,\u001b[0m \u001b[0mDense\u001b[0m\u001b[1;33m,\u001b[0m \u001b[0mTimeDistributed\u001b[0m\u001b[1;33m,\u001b[0m \u001b[0mDropout\u001b[0m\u001b[1;33m,\u001b[0m \u001b[0mBidirectional\u001b[0m\u001b[1;33m\u001b[0m\u001b[1;33m\u001b[0m\u001b[0m\n\u001b[0;32m      4\u001b[0m \u001b[1;32mfrom\u001b[0m \u001b[0mtensorflow\u001b[0m\u001b[1;33m.\u001b[0m\u001b[0mkeras\u001b[0m\u001b[1;33m.\u001b[0m\u001b[0mlayers\u001b[0m \u001b[1;32mimport\u001b[0m \u001b[0mSpatialDropout1D\u001b[0m\u001b[1;33m\u001b[0m\u001b[1;33m\u001b[0m\u001b[0m\n\u001b[1;32m----> 5\u001b[1;33m \u001b[1;32mfrom\u001b[0m \u001b[0mtensorflow_addons\u001b[0m\u001b[1;33m.\u001b[0m\u001b[0mlayers\u001b[0m \u001b[1;32mimport\u001b[0m \u001b[0mCRF\u001b[0m\u001b[1;33m\u001b[0m\u001b[1;33m\u001b[0m\u001b[0m\n\u001b[0m",
      "\u001b[1;31mModuleNotFoundError\u001b[0m: No module named 'tensorflow_addons'"
     ]
    }
   ],
   "source": [
    "import tensorflow as tf\n",
    "from tensorflow.keras.models import Model\n",
    "from tensorflow.keras.layers import Input, LSTM, Embedding, Dense, TimeDistributed, Dropout, Bidirectional\n",
    "from tensorflow.keras.layers import SpatialDropout1D\n",
    "from tensorflow_addons.layers import CRF"
   ]
  },
  {
   "cell_type": "code",
   "execution_count": null,
   "metadata": {},
   "outputs": [],
   "source": [
    "# Define the input layer\n",
    "input_word = Input(shape=(max_len,))\n",
    "\n",
    "# Add an embedding layer\n",
    "model = Embedding(input_dim=nbr_words, output_dim=50, input_length=max_len)(input_word)\n",
    "\n",
    "# Add a SpatialDropout1D layer\n",
    "model = SpatialDropout1D(0.1)(model)\n",
    "\n",
    "# Add a Bidirectional LSTM layer\n",
    "model = Bidirectional(LSTM(units=100, return_sequences=True, recurrent_dropout=0.1))(model)\n",
    "\n",
    "# Add a TimeDistributed Dense layer\n",
    "model = TimeDistributed(Dense(100, activation=\"relu\"))(model)"
   ]
  },
  {
   "cell_type": "code",
   "execution_count": null,
   "metadata": {},
   "outputs": [
    {
     "name": "stdout",
     "output_type": "stream",
     "text": [
      "vocab size = 16248\n",
      "embedding size = 25\n",
      "number of possible labels = 15\n"
     ]
    }
   ],
   "source": [
    "# Add a CRF layer\n",
    "crf = CRF(nbr_pos)\n",
    "out = crf(model)"
   ]
  },
  {
   "cell_type": "code",
   "execution_count": null,
   "metadata": {},
   "outputs": [],
   "source": [
    "# defining the model\n",
    "model = Model(input_word, out)\n",
    "print(POS_model.summary())"
   ]
  },
  {
   "cell_type": "code",
   "execution_count": null,
   "metadata": {},
   "outputs": [
    {
     "name": "stdout",
     "output_type": "stream",
     "text": [
      "Model: \"sequential\"\n",
      "_________________________________________________________________\n",
      " Layer (type)                Output Shape              Param #   \n",
      "=================================================================\n",
      " embedding (Embedding)       (None, 25, 25)            406200    \n",
      "                                                                 \n",
      " lstm (LSTM)                 (None, 25, 100)           50400     \n",
      "                                                                 \n",
      "=================================================================\n",
      "Total params: 456,600\n",
      "Trainable params: 456,600\n",
      "Non-trainable params: 0\n",
      "_________________________________________________________________\n",
      "None\n"
     ]
    }
   ],
   "source": [
    "# Compile the model\n",
    "model.compile(optimizer=\"adam\", loss=crf.loss, metrics=[crf.accuracy])\n",
    "\n",
    "# Train the model\n",
    "history = model.fit(train_x, np.array(train_y), batch_size=32, epochs=5, validation_split=0.1, verbose=1)"
   ]
  },
  {
   "cell_type": "code",
   "execution_count": null,
   "metadata": {},
   "outputs": [
    {
     "name": "stdout",
     "output_type": "stream",
     "text": [
      "Epoch 1/10\n",
      "102/102 [==============================] - 6s 32ms/step - loss: 1.7004 - accuracy: 0.6267 - val_loss: 1.0643 - val_accuracy: 0.7196\n",
      "Epoch 2/10\n",
      "102/102 [==============================] - 3s 33ms/step - loss: 0.8927 - accuracy: 0.7504 - val_loss: 1.0110 - val_accuracy: 0.7352\n",
      "Epoch 3/10\n",
      "102/102 [==============================] - 3s 32ms/step - loss: 0.7881 - accuracy: 0.7637 - val_loss: 0.7981 - val_accuracy: 0.7780\n",
      "Epoch 4/10\n",
      "102/102 [==============================] - 3s 33ms/step - loss: 0.6738 - accuracy: 0.8136 - val_loss: 0.7432 - val_accuracy: 0.8058\n",
      "Epoch 5/10\n",
      "102/102 [==============================] - 3s 34ms/step - loss: 0.4544 - accuracy: 0.8711 - val_loss: 0.7692 - val_accuracy: 0.8352\n",
      "Epoch 6/10\n",
      "102/102 [==============================] - 4s 36ms/step - loss: 0.2931 - accuracy: 0.9243 - val_loss: 0.8827 - val_accuracy: 0.8512\n",
      "Epoch 7/10\n",
      "102/102 [==============================] - 3s 29ms/step - loss: 0.4291 - accuracy: 0.8662 - val_loss: 0.6694 - val_accuracy: 0.8286\n"
     ]
    }
   ],
   "source": [
    "# Evaluate the model on the test data\n",
    "test_loss, test_accuracy = model.evaluate(test_x, np.array(test_y), verbose=1)"
   ]
  },
  {
   "cell_type": "code",
   "execution_count": null,
   "metadata": {},
   "outputs": [
    {
     "data": {
      "text/plain": [
       "dict_keys(['loss', 'accuracy', 'val_loss', 'val_accuracy'])"
      ]
     },
     "execution_count": 11,
     "metadata": {},
     "output_type": "execute_result"
    }
   ],
   "source": [
    "print(f\"Test Loss: {test_loss}\")\n",
    "print(f\"Test Accuracy: {test_accuracy}\")"
   ]
  },
  {
   "cell_type": "code",
   "execution_count": 12,
   "metadata": {},
   "outputs": [
    {
     "data": {
      "image/png": "[encoded data removed]",
      "text/plain": [
       "<Figure size 432x288 with 2 Axes>"
      ]
     },
     "metadata": {
      "needs_background": "light"
     },
     "output_type": "display_data"
    }
   ],
   "source": [
    "import matplotlib.pyplot as plt\n",
    "# plotting the accuracy curve\n",
    "plt.subplot(1,2,1)\n",
    "plt.plot(history.history['accuracy'], color='pink')\n",
    "plt.plot(history.history['val_accuracy'], color='teal')\n",
    "plt.legend(['train', 'validation'], loc='lower right')\n",
    "plt.xlabel('epochs')\n",
    "plt.title('Accuracy curve')\n",
    "\n",
    "# plotting the loss curve\n",
    "plt.subplot(1,2,2)\n",
    "plt.plot(history.history['loss'], color='orange')\n",
    "plt.plot(history.history['val_loss'], color='purple')\n",
    "plt.legend(['train', 'validation'], loc='lower right')\n",
    "plt.xlabel('epochs')\n",
    "plt.title('Loss curve')\n",
    "\n",
    "plt.show()"
   ]
  },
  {
   "cell_type": "markdown",
   "metadata": {},
   "source": [
    "### Evaluate the model"
   ]
  },
  {
   "cell_type": "code",
   "execution_count": 13,
   "metadata": {},
   "outputs": [
    {
     "name": "stdout",
     "output_type": "stream",
     "text": [
      "7/7 [==============================] - 0s 26ms/step - loss: 0.6694 - accuracy: 0.8286\n",
      "test accuracy: 0.8285714387893677\n",
      "test loss: 0.6693506240844727\n"
     ]
    }
   ],
   "source": [
    "test_loss, test_accuracy  = POS_model.evaluate(test_x, test_y, batch_size=128)\n",
    "print(f'test accuracy: {test_accuracy}\\ntest loss: {test_loss}')"
   ]
  },
  {
   "cell_type": "code",
   "execution_count": 15,
   "metadata": {},
   "outputs": [
    {
     "name": "stdout",
     "output_type": "stream",
     "text": [
      "This is sentence: 274\n",
      "1/1 [==============================] - 0s 299ms/step\n",
      "Word           True \t Pred\n",
      "\n",
      "------------------------------\n",
      "খবর            NNC\tVF\n",
      "পেয়ে          VNF\tVNF\n",
      "বাকিদের        NNC\tVNF\n",
      "উদ্ধার         NNC\tNNC\n",
      "করে            VNF\tVNF\n",
      "ঢাকা           NNP\tNNP\n",
      "মেডিক্যালে     NNP\tNNC\n",
      "নিলে           VNF\tVNF\n",
      "চিকিৎসকরা      NNC\tNNC\n",
      "চালক           NNC\tNNC\n",
      "বিল্লালকেও     NNP\tNNC\n",
      "মৃত            ADJ\tNNC\n",
      "ঘোষণা         NNC\tNNC\n",
      "করেন।          VF\tVF\n",
      "ভুটান।         INTJ\tINTJ\n",
      "ভুটান।         INTJ\tINTJ\n",
      "ভুটান।         INTJ\tINTJ\n",
      "ভুটান।         INTJ\tINTJ\n",
      "ভুটান।         INTJ\tINTJ\n",
      "ভুটান।         INTJ\tINTJ\n",
      "ভুটান।         INTJ\tINTJ\n",
      "ভুটান।         INTJ\tINTJ\n",
      "ভুটান।         INTJ\tINTJ\n",
      "ভুটান।         INTJ\tINTJ\n",
      "ভুটান।         INTJ\tINTJ\n"
     ]
    }
   ],
   "source": [
    "i =  np.random.randint(0, test_x.shape[0])\n",
    "print(\"This is sentence:\",i)\n",
    "p = POS_model.predict(np.array([test_x[i]]))\n",
    "p = np.argmax(p, axis=-1)\n",
    "\n",
    "print(\"{:15}{:5}\\t {}\\n\".format(\"Word\", \"True\", \"Pred\"))\n",
    "print(\"-\" *30)\n",
    "for w, true, pred in zip(test_x[i], test_y[i], p[0]):\n",
    "    print(\"{:15}{}\\t{}\".format(words[w-1], poss[true-1], poss[pred-1]))"
   ]
  },
  {
   "cell_type": "code",
   "execution_count": null,
   "metadata": {},
   "outputs": [],
   "source": []
  }
 ],
 "metadata": {
  "kernelspec": {
   "display_name": "Python 3",
   "language": "python",
   "name": "python3"
  },
  "language_info": {
   "codemirror_mode": {
    "name": "ipython",
    "version": 3
   },
   "file_extension": ".py",
   "mimetype": "text/x-python",
   "name": "python",
   "nbconvert_exporter": "python",
   "pygments_lexer": "ipython3",
   "version": "3.7.9"
  }
 },
 "nbformat": 4,
 "nbformat_minor": 2
}
