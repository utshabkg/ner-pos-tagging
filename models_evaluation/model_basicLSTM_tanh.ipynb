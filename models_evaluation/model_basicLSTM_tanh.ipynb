{
 "cells": [
  {
   "cell_type": "markdown",
   "metadata": {},
   "source": [
    "### Load Processed Data"
   ]
  },
  {
   "cell_type": "code",
   "execution_count": 1,
   "metadata": {},
   "outputs": [],
   "source": [
    "import numpy as np\n",
    "import pickle\n",
    "\n",
    "# Load the arrays\n",
    "train_x = np.load('../processed_data/train_x.npy')\n",
    "test_x = np.load('../processed_data/test_x.npy')\n",
    "train_y = np.load('../processed_data/train_y.npy')\n",
    "test_y = np.load('../processed_data/test_y.npy')\n",
    "\n",
    "# Load the vocab dictionaries\n",
    "with open('../processed_data/words_vocab.pkl', 'rb') as f:\n",
    "    words_vocab = pickle.load(f)\n",
    "\n",
    "with open('../processed_data/pos_vocab.pkl', 'rb') as f:\n",
    "    pos_vocab = pickle.load(f)\n",
    "\n",
    "with open('../processed_data/ners_vocab.pkl', 'rb') as f:\n",
    "    ners_vocab = pickle.load(f)\n",
    "\n",
    "# Load the words, poss, and ners lists\n",
    "with open('../processed_data/words.pkl', 'rb') as f:\n",
    "    words = pickle.load(f)\n",
    "\n",
    "with open('../processed_data/poss.pkl', 'rb') as f:\n",
    "    poss = pickle.load(f)\n",
    "\n",
    "with open('../processed_data/ners.pkl', 'rb') as f:\n",
    "    ners = pickle.load(f)\n",
    "\n",
    "# Define the number of unique words, POS tags, and NER tags\n",
    "nbr_words = len(words_vocab)\n",
    "nbr_pos = len(pos_vocab)\n",
    "nbr_ners = len(ners_vocab)\n",
    "\n",
    "# Define maximum sentence length\n",
    "max_len = 25\n"
   ]
  },
  {
   "cell_type": "markdown",
   "metadata": {},
   "source": [
    "### Building the model"
   ]
  },
  {
   "cell_type": "code",
   "execution_count": 2,
   "metadata": {},
   "outputs": [],
   "source": [
    "# import classes\n",
    "from keras.layers import Dense, Embedding, LSTM\n",
    "from keras.models import Sequential\n",
    "from keras.callbacks import EarlyStopping"
   ]
  },
  {
   "cell_type": "code",
   "execution_count": 3,
   "metadata": {},
   "outputs": [],
   "source": [
    "from keras import backend as K\n",
    "\n",
    "# Clear previous session\n",
    "K.clear_session()"
   ]
  },
  {
   "cell_type": "code",
   "execution_count": 4,
   "metadata": {},
   "outputs": [
    {
     "name": "stdout",
     "output_type": "stream",
     "text": [
      "vocab size = 16248\n",
      "embedding size = 25\n",
      "number of possible labels = 15\n"
     ]
    }
   ],
   "source": [
    "print(f'vocab size = {len(words_vocab)}')\n",
    "print(f'embedding size = {max_len}')\n",
    "print(f'number of possible labels = {len(pos_vocab)}')"
   ]
  },
  {
   "cell_type": "code",
   "execution_count": null,
   "metadata": {},
   "outputs": [],
   "source": []
  },
  {
   "cell_type": "code",
   "execution_count": 5,
   "metadata": {},
   "outputs": [],
   "source": [
    "# defining the model \n",
    "def model():\n",
    "    # instantiate the model\n",
    "    model = Sequential()\n",
    "    # define embedding layer\n",
    "    model.add(Embedding(nbr_words,\n",
    "                       max_len,\n",
    "                       input_shape = (max_len,)))\n",
    "    # define LSTM layer \n",
    "    model.add(LSTM(100, \n",
    "                   activation = 'tanh', \n",
    "                   return_sequences=True,\n",
    "                  recurrent_dropout=0.1))\n",
    "    # compiling the model\n",
    "    model.compile(optimizer=\"adam\",\n",
    "                  loss=\"sparse_categorical_crossentropy\",\n",
    "                  metrics=[\"accuracy\"])\n",
    "    return model"
   ]
  },
  {
   "cell_type": "code",
   "execution_count": 6,
   "metadata": {},
   "outputs": [
    {
     "name": "stdout",
     "output_type": "stream",
     "text": [
      "Model: \"sequential\"\n",
      "_________________________________________________________________\n",
      " Layer (type)                Output Shape              Param #   \n",
      "=================================================================\n",
      " embedding (Embedding)       (None, 25, 25)            406200    \n",
      "                                                                 \n",
      " lstm (LSTM)                 (None, 25, 100)           50400     \n",
      "                                                                 \n",
      "=================================================================\n",
      "Total params: 456,600\n",
      "Trainable params: 456,600\n",
      "Non-trainable params: 0\n",
      "_________________________________________________________________\n",
      "None\n"
     ]
    }
   ],
   "source": [
    "# create the model by calling the function\n",
    "POS_model = model()\n",
    "print(POS_model.summary())"
   ]
  },
  {
   "cell_type": "code",
   "execution_count": 7,
   "metadata": {},
   "outputs": [
    {
     "name": "stdout",
     "output_type": "stream",
     "text": [
      "Epoch 1/10\n",
      "102/102 [==============================] - 7s 34ms/step - loss: 3.2835 - accuracy: 0.5222 - val_loss: 1.6569 - val_accuracy: 0.5976\n",
      "Epoch 2/10\n",
      "102/102 [==============================] - 3s 33ms/step - loss: 1.3869 - accuracy: 0.6643 - val_loss: 1.3202 - val_accuracy: 0.7074\n",
      "Epoch 3/10\n",
      "102/102 [==============================] - 3s 34ms/step - loss: 0.8711 - accuracy: 0.7678 - val_loss: 1.0605 - val_accuracy: 0.7503\n",
      "Epoch 4/10\n",
      "102/102 [==============================] - 3s 34ms/step - loss: 0.6630 - accuracy: 0.8197 - val_loss: 0.9897 - val_accuracy: 0.7840\n",
      "Epoch 5/10\n",
      "102/102 [==============================] - 3s 31ms/step - loss: 0.5956 - accuracy: 0.8626 - val_loss: 1.1530 - val_accuracy: 0.7449\n"
     ]
    }
   ],
   "source": [
    "# if the val_accuracy does not improve after 5 epochs, then stop training\n",
    "early_stopping = EarlyStopping(monitor='val_accuracy', min_delta=0, patience=1, verbose=0, mode='max', baseline=None, restore_best_weights=False)\n",
    "history = POS_model.fit(train_x, train_y, \n",
    "                        validation_data = (test_x, test_y),\n",
    "                        batch_size=32,\n",
    "                        epochs=10,\n",
    "                        callbacks = early_stopping)"
   ]
  },
  {
   "cell_type": "code",
   "execution_count": 8,
   "metadata": {},
   "outputs": [
    {
     "data": {
      "text/plain": [
       "dict_keys(['loss', 'accuracy', 'val_loss', 'val_accuracy'])"
      ]
     },
     "execution_count": 8,
     "metadata": {},
     "output_type": "execute_result"
    }
   ],
   "source": [
    "history.history.keys()"
   ]
  },
  {
   "cell_type": "code",
   "execution_count": 9,
   "metadata": {},
   "outputs": [
    {
     "data": {
      "image/png": "[encoded data removed]",
      "text/plain": [
       "<Figure size 432x288 with 2 Axes>"
      ]
     },
     "metadata": {
      "needs_background": "light"
     },
     "output_type": "display_data"
    }
   ],
   "source": [
    "import matplotlib.pyplot as plt\n",
    "# plotting the accuracy curve\n",
    "plt.subplot(1,2,1)\n",
    "plt.plot(history.history['accuracy'], color='pink')\n",
    "plt.plot(history.history['val_accuracy'], color='teal')\n",
    "plt.legend(['train', 'validation'], loc='lower right')\n",
    "plt.xlabel('epochs')\n",
    "plt.title('Accuracy curve')\n",
    "\n",
    "# plotting the loss curve\n",
    "plt.subplot(1,2,2)\n",
    "plt.plot(history.history['loss'], color='orange')\n",
    "plt.plot(history.history['val_loss'], color='purple')\n",
    "plt.legend(['train', 'validation'], loc='lower right')\n",
    "plt.xlabel('epochs')\n",
    "plt.title('Loss curve')\n",
    "\n",
    "plt.show()"
   ]
  },
  {
   "cell_type": "markdown",
   "metadata": {},
   "source": [
    "### Evaluate the model"
   ]
  },
  {
   "cell_type": "code",
   "execution_count": 10,
   "metadata": {},
   "outputs": [
    {
     "name": "stdout",
     "output_type": "stream",
     "text": [
      "7/7 [==============================] - 0s 16ms/step - loss: 1.1530 - accuracy: 0.7449\n",
      "test accuracy: 0.7449260950088501\n",
      "test loss: 1.15296471118927\n"
     ]
    }
   ],
   "source": [
    "test_loss, test_accuracy  = POS_model.evaluate(test_x, test_y, batch_size=128)\n",
    "print(f'test accuracy: {test_accuracy}\\ntest loss: {test_loss}')"
   ]
  },
  {
   "cell_type": "code",
   "execution_count": 11,
   "metadata": {},
   "outputs": [
    {
     "name": "stdout",
     "output_type": "stream",
     "text": [
      "This is sentence: 286\n"
     ]
    },
    {
     "name": "stdout",
     "output_type": "stream",
     "text": [
      "1/1 [==============================] - 0s 357ms/step\n",
      "Word           True \t Pred\n",
      "\n",
      "------------------------------\n",
      "মাওলানা        NNP\tNNP\n",
      "ভাসানী         NNP\tNNP\n",
      "ছিলেন          VF\tVF\n",
      "মজলুম          ADJ\tINTJ\n",
      "জননেতা।        NNC\tNNP\n",
      "ভুটান।         INTJ\tINTJ\n",
      "ভুটান।         INTJ\tINTJ\n",
      "ভুটান।         INTJ\tINTJ\n",
      "ভুটান।         INTJ\tINTJ\n",
      "ভুটান।         INTJ\tINTJ\n",
      "ভুটান।         INTJ\tINTJ\n",
      "ভুটান।         INTJ\tINTJ\n",
      "ভুটান।         INTJ\tINTJ\n",
      "ভুটান।         INTJ\tINTJ\n",
      "ভুটান।         INTJ\tINTJ\n",
      "ভুটান।         INTJ\tINTJ\n",
      "ভুটান।         INTJ\tINTJ\n",
      "ভুটান।         INTJ\tINTJ\n",
      "ভুটান।         INTJ\tINTJ\n",
      "ভুটান।         INTJ\tINTJ\n",
      "ভুটান।         INTJ\tINTJ\n",
      "ভুটান।         INTJ\tINTJ\n",
      "ভুটান।         INTJ\tINTJ\n",
      "ভুটান।         INTJ\tINTJ\n",
      "ভুটান।         INTJ\tINTJ\n"
     ]
    }
   ],
   "source": [
    "i =  np.random.randint(0, test_x.shape[0])\n",
    "print(\"This is sentence:\",i)\n",
    "p = POS_model.predict(np.array([test_x[i]]))\n",
    "p = np.argmax(p, axis=-1)\n",
    "\n",
    "print(\"{:15}{:5}\\t {}\\n\".format(\"Word\", \"True\", \"Pred\"))\n",
    "print(\"-\" *30)\n",
    "for w, true, pred in zip(test_x[i], test_y[i], p[0]):\n",
    "    print(\"{:15}{}\\t{}\".format(words[w-1], poss[true-1], poss[pred-1]))"
   ]
  },
  {
   "cell_type": "code",
   "execution_count": null,
   "metadata": {},
   "outputs": [],
   "source": []
  }
 ],
 "metadata": {
  "kernelspec": {
   "display_name": "Python 3",
   "language": "python",
   "name": "python3"
  },
  "language_info": {
   "codemirror_mode": {
    "name": "ipython",
    "version": 3
   },
   "file_extension": ".py",
   "mimetype": "text/x-python",
   "name": "python",
   "nbconvert_exporter": "python",
   "pygments_lexer": "ipython3",
   "version": "3.7.9"
  }
 },
 "nbformat": 4,
 "nbformat_minor": 2
}
