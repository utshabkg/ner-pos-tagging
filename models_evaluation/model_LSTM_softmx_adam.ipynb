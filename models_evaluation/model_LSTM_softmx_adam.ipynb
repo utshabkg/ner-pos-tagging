{
 "cells": [
  {
   "cell_type": "markdown",
   "metadata": {},
   "source": [
    "### Load Processed Data"
   ]
  },
  {
   "cell_type": "code",
   "execution_count": 1,
   "metadata": {},
   "outputs": [],
   "source": [
    "import numpy as np\n",
    "import pickle\n",
    "\n",
    "# Load the arrays\n",
    "train_x = np.load('../processed_data/train_x.npy')\n",
    "test_x = np.load('../processed_data/test_x.npy')\n",
    "train_y_pos = np.load('../processed_data/train_y_pos.npy')\n",
    "test_y_pos = np.load('../processed_data/test_y_pos.npy')\n",
    "train_y_ner = np.load('../processed_data/train_y_ner.npy')\n",
    "test_y_ner = np.load('../processed_data/test_y_ner.npy')\n",
    "\n",
    "\n",
    "# Load the vocab dictionaries\n",
    "with open('../processed_data/words_vocab.pkl', 'rb') as f:\n",
    "    words_vocab = pickle.load(f)\n",
    "\n",
    "with open('../processed_data/pos_vocab.pkl', 'rb') as f:\n",
    "    pos_vocab = pickle.load(f)\n",
    "\n",
    "with open('../processed_data/ners_vocab.pkl', 'rb') as f:\n",
    "    ners_vocab = pickle.load(f)\n",
    "\n",
    "# Load the words, poss, and ners lists\n",
    "with open('../processed_data/words.pkl', 'rb') as f:\n",
    "    words = pickle.load(f)\n",
    "\n",
    "with open('../processed_data/poss.pkl', 'rb') as f:\n",
    "    poss = pickle.load(f)\n",
    "\n",
    "with open('../processed_data/ners.pkl', 'rb') as f:\n",
    "    ners = pickle.load(f)\n",
    "\n",
    "# Define the number of unique words, POS tags, and NER tags\n",
    "nbr_words = len(words_vocab)\n",
    "nbr_pos = len(pos_vocab)\n",
    "nbr_ners = len(ners_vocab)\n",
    "\n",
    "# Define maximum sentence length\n",
    "max_len = 25\n"
   ]
  },
  {
   "cell_type": "markdown",
   "metadata": {},
   "source": [
    "### Building the model"
   ]
  },
  {
   "cell_type": "code",
   "execution_count": 2,
   "metadata": {},
   "outputs": [],
   "source": [
    "# import classes\n",
    "import tensorflow as tf\n",
    "import random\n",
    "from keras.layers import Dense, Embedding, LSTM, Input\n",
    "from keras.models import Model\n",
    "from keras.callbacks import EarlyStopping"
   ]
  },
  {
   "cell_type": "code",
   "execution_count": 3,
   "metadata": {},
   "outputs": [],
   "source": [
    "# Set the seed for reproducibility\n",
    "seed = 42\n",
    "random.seed(seed)\n",
    "np.random.seed(seed)\n",
    "tf.random.set_seed(seed)"
   ]
  },
  {
   "cell_type": "code",
   "execution_count": 4,
   "metadata": {},
   "outputs": [],
   "source": [
    "from keras import backend as K\n",
    "\n",
    "# Clear previous session\n",
    "K.clear_session()"
   ]
  },
  {
   "cell_type": "code",
   "execution_count": 5,
   "metadata": {},
   "outputs": [
    {
     "name": "stdout",
     "output_type": "stream",
     "text": [
      "vocab size = 16248\n",
      "embedding size = 25\n",
      "number of possible pos labels = 15\n",
      "number of possible ner labels = 21\n"
     ]
    }
   ],
   "source": [
    "print(f'vocab size = {len(words_vocab)}')\n",
    "print(f'embedding size = {max_len}')\n",
    "print(f'number of possible pos labels = {len(pos_vocab)}')\n",
    "print(f'number of possible ner labels = {len(ners_vocab)}')"
   ]
  },
  {
   "cell_type": "markdown",
   "metadata": {},
   "source": [
    "### Model"
   ]
  },
  {
   "cell_type": "code",
   "execution_count": 6,
   "metadata": {},
   "outputs": [],
   "source": [
    "# Define the model\n",
    "input_layer = Input(shape=(max_len,))\n",
    "embedding_layer = Embedding(input_dim=nbr_words, output_dim=25, input_length=max_len)(input_layer)\n",
    "lstm_layer = LSTM(units=100, activation='tanh', return_sequences=True, recurrent_dropout=0.1)(embedding_layer)"
   ]
  },
  {
   "cell_type": "code",
   "execution_count": 7,
   "metadata": {},
   "outputs": [],
   "source": [
    "# Output layers for POS and NER\n",
    "pos_output = Dense(nbr_pos, activation='softmax', name='pos_output')(lstm_layer)\n",
    "ner_output = Dense(nbr_ners, activation='softmax', name='ner_output')(lstm_layer)"
   ]
  },
  {
   "cell_type": "code",
   "execution_count": 8,
   "metadata": {},
   "outputs": [
    {
     "name": "stdout",
     "output_type": "stream",
     "text": [
      "Model: \"model\"\n",
      "__________________________________________________________________________________________________\n",
      " Layer (type)                   Output Shape         Param #     Connected to                     \n"
     ]
    },
    {
     "name": "stdout",
     "output_type": "stream",
     "text": [
      "==================================================================================================\n",
      " input_1 (InputLayer)           [(None, 25)]         0           []                               \n",
      "                                                                                                  \n",
      " embedding (Embedding)          (None, 25, 25)       406200      ['input_1[0][0]']                \n",
      "                                                                                                  \n",
      " lstm (LSTM)                    (None, 25, 100)      50400       ['embedding[0][0]']              \n",
      "                                                                                                  \n",
      " pos_output (Dense)             (None, 25, 15)       1515        ['lstm[0][0]']                   \n",
      "                                                                                                  \n",
      " ner_output (Dense)             (None, 25, 21)       2121        ['lstm[0][0]']                   \n",
      "                                                                                                  \n",
      "==================================================================================================\n",
      "Total params: 460,236\n",
      "Trainable params: 460,236\n",
      "Non-trainable params: 0\n",
      "__________________________________________________________________________________________________\n",
      "None\n"
     ]
    }
   ],
   "source": [
    "# Define the model with two outputs\n",
    "model = Model(inputs=input_layer, outputs=[pos_output, ner_output])\n",
    "\n",
    "# Compile the model\n",
    "model.compile(optimizer=\"adam\",\n",
    "              loss={\"pos_output\": \"sparse_categorical_crossentropy\", \"ner_output\": \"sparse_categorical_crossentropy\"},\n",
    "              metrics=[\"accuracy\"])\n",
    "\n",
    "print(model.summary())"
   ]
  },
  {
   "cell_type": "code",
   "execution_count": 9,
   "metadata": {},
   "outputs": [
    {
     "name": "stdout",
     "output_type": "stream",
     "text": [
      "Unique POS labels: [ 0  1  2  3  4  5  6  7  8  9 10 11 12 13 14]\n",
      "Unique NER labels: [ 0  1  2  3  4  5  6  7  8  9 10 11 12 13 14 15 16 17 18 19 20]\n",
      "Number of POS classes: 15\n",
      "Number of NER classes: 21\n"
     ]
    }
   ],
   "source": [
    "print(f\"Unique POS labels: {np.unique(np.concatenate(train_y_pos))}\")\n",
    "print(f\"Unique NER labels: {np.unique(np.concatenate(train_y_ner))}\")\n",
    "\n",
    "print(f\"Number of POS classes: {nbr_pos}\")\n",
    "print(f\"Number of NER classes: {nbr_ners}\")"
   ]
  },
  {
   "cell_type": "code",
   "execution_count": 10,
   "metadata": {},
   "outputs": [],
   "source": [
    "# # Example of ensuring labels are correctly encoded\n",
    "# def encode_labels(labels, vocab_size):\n",
    "#     \"\"\"Ensure all label values are within the range [0, vocab_size-1].\"\"\"\n",
    "#     encoded_labels = np.clip(labels, 0, vocab_size - 1)\n",
    "#     return encoded_labels\n",
    "\n",
    "# # Apply this function to your labels\n",
    "# train_y_pos = encode_labels(train_y_pos, nbr_pos)\n",
    "# train_y_ner = encode_labels(train_y_ner, nbr_ners)\n",
    "# test_y_pos = encode_labels(test_y_pos, nbr_pos)\n",
    "# test_y_ner = encode_labels(test_y_ner, nbr_ners)"
   ]
  },
  {
   "cell_type": "markdown",
   "metadata": {},
   "source": [
    "### Test-Validation Split"
   ]
  },
  {
   "cell_type": "code",
   "execution_count": 11,
   "metadata": {},
   "outputs": [],
   "source": [
    "from sklearn.model_selection import train_test_split\n",
    "val_x, test_x, val_y_pos, test_y_pos, val_y_ner, test_y_ner = train_test_split(\n",
    "    test_x, test_y_pos, test_y_ner, test_size=0.5, random_state=seed\n",
    ")"
   ]
  },
  {
   "cell_type": "code",
   "execution_count": 14,
   "metadata": {},
   "outputs": [
    {
     "data": {
      "text/plain": [
       "{'B-D&T': 17,\n",
       " 'B-EVENT': 5,\n",
       " 'B-GPE': 10,\n",
       " 'B-LOC': 4,\n",
       " 'B-MISC': 18,\n",
       " 'B-NUM': 2,\n",
       " 'B-ORG': 6,\n",
       " 'B-OTH': 13,\n",
       " 'B-PER': 12,\n",
       " 'B-T&T': 20,\n",
       " 'B-UNIT': 1,\n",
       " 'I-D&T': 15,\n",
       " 'I-EVENT': 7,\n",
       " 'I-GPE': 19,\n",
       " 'I-LOC': 3,\n",
       " 'I-MISC': 11,\n",
       " 'I-NUM': 8,\n",
       " 'I-ORG': 9,\n",
       " 'I-PER': 0,\n",
       " 'I-T&T': 14,\n",
       " 'I-UNIT': 16}"
      ]
     },
     "execution_count": 14,
     "metadata": {},
     "output_type": "execute_result"
    }
   ],
   "source": [
    "ners_vocab"
   ]
  },
  {
   "cell_type": "code",
   "execution_count": 15,
   "metadata": {},
   "outputs": [
    {
     "name": "stdout",
     "output_type": "stream",
     "text": [
      "Train X shape: (3246, 25)\n",
      "Validation X shape: (406, 25)\n",
      "Test X shape: (406, 25)\n",
      "Train Y POS shape: (3246, 25)\n",
      "Validation Y POS shape: (406, 25)\n",
      "Test Y POS shape: (406, 25)\n",
      "Train Y NER shape: (3246, 25)\n",
      "Validation Y NER shape: (406, 25)\n",
      "Test Y NER shape: (406, 25)\n"
     ]
    }
   ],
   "source": [
    "# Print shapes to verify splits\n",
    "print(f\"Train X shape: {np.array(train_x).shape}\")\n",
    "print(f\"Validation X shape: {np.array(val_x).shape}\")\n",
    "print(f\"Test X shape: {np.array(test_x).shape}\")\n",
    "print(f\"Train Y POS shape: {np.array(train_y_pos).shape}\")\n",
    "print(f\"Validation Y POS shape: {np.array(val_y_pos).shape}\")\n",
    "print(f\"Test Y POS shape: {np.array(test_y_pos).shape}\")\n",
    "print(f\"Train Y NER shape: {np.array(train_y_ner).shape}\")\n",
    "print(f\"Validation Y NER shape: {np.array(val_y_ner).shape}\")\n",
    "print(f\"Test Y NER shape: {np.array(test_y_ner).shape}\")"
   ]
  },
  {
   "cell_type": "code",
   "execution_count": 16,
   "metadata": {},
   "outputs": [
    {
     "name": "stdout",
     "output_type": "stream",
     "text": [
      "Epoch 1/100\n",
      "102/102 [==============================] - 7s 40ms/step - loss: 2.9752 - pos_output_loss: 1.4817 - ner_output_loss: 1.4935 - pos_output_accuracy: 0.5807 - ner_output_accuracy: 0.6442 - val_loss: 2.1900 - val_pos_output_loss: 1.1713 - val_ner_output_loss: 1.0186 - val_pos_output_accuracy: 0.6764 - val_ner_output_accuracy: 0.8055\n",
      "Epoch 2/100\n",
      "102/102 [==============================] - 3s 34ms/step - loss: 1.8875 - pos_output_loss: 1.0272 - ner_output_loss: 0.8603 - pos_output_accuracy: 0.7145 - ner_output_accuracy: 0.8369 - val_loss: 1.7741 - val_pos_output_loss: 0.9878 - val_ner_output_loss: 0.7863 - val_pos_output_accuracy: 0.7198 - val_ner_output_accuracy: 0.8460\n",
      "Epoch 3/100\n",
      "102/102 [==============================] - 2s 24ms/step - loss: 1.6409 - pos_output_loss: 0.9196 - ner_output_loss: 0.7213 - pos_output_accuracy: 0.7285 - ner_output_accuracy: 0.8577 - val_loss: 1.6444 - val_pos_output_loss: 0.9345 - val_ner_output_loss: 0.7099 - val_pos_output_accuracy: 0.7247 - val_ner_output_accuracy: 0.8533\n",
      "Epoch 4/100\n",
      "102/102 [==============================] - 2s 24ms/step - loss: 1.5263 - pos_output_loss: 0.8735 - ner_output_loss: 0.6528 - pos_output_accuracy: 0.7357 - ner_output_accuracy: 0.8583 - val_loss: 1.5590 - val_pos_output_loss: 0.9000 - val_ner_output_loss: 0.6590 - val_pos_output_accuracy: 0.7336 - val_ner_output_accuracy: 0.8544\n",
      "Epoch 5/100\n",
      "102/102 [==============================] - 2s 24ms/step - loss: 1.4132 - pos_output_loss: 0.8237 - ner_output_loss: 0.5895 - pos_output_accuracy: 0.7475 - ner_output_accuracy: 0.8585 - val_loss: 1.4696 - val_pos_output_loss: 0.8588 - val_ner_output_loss: 0.6109 - val_pos_output_accuracy: 0.7419 - val_ner_output_accuracy: 0.8551\n",
      "Epoch 6/100\n",
      "102/102 [==============================] - 2s 22ms/step - loss: 1.2855 - pos_output_loss: 0.7555 - ner_output_loss: 0.5301 - pos_output_accuracy: 0.7622 - ner_output_accuracy: 0.8624 - val_loss: 1.3542 - val_pos_output_loss: 0.7871 - val_ner_output_loss: 0.5672 - val_pos_output_accuracy: 0.7551 - val_ner_output_accuracy: 0.8577\n",
      "Epoch 7/100\n",
      "102/102 [==============================] - 3s 25ms/step - loss: 1.1232 - pos_output_loss: 0.6560 - ner_output_loss: 0.4672 - pos_output_accuracy: 0.7854 - ner_output_accuracy: 0.8704 - val_loss: 1.2260 - val_pos_output_loss: 0.6988 - val_ner_output_loss: 0.5271 - val_pos_output_accuracy: 0.7774 - val_ner_output_accuracy: 0.8662\n",
      "Epoch 8/100\n",
      "102/102 [==============================] - 2s 22ms/step - loss: 0.9589 - pos_output_loss: 0.5487 - ner_output_loss: 0.4102 - pos_output_accuracy: 0.8219 - ner_output_accuracy: 0.8823 - val_loss: 1.1214 - val_pos_output_loss: 0.6225 - val_ner_output_loss: 0.4989 - val_pos_output_accuracy: 0.8085 - val_ner_output_accuracy: 0.8725\n",
      "Epoch 9/100\n",
      "102/102 [==============================] - 2s 24ms/step - loss: 0.7994 - pos_output_loss: 0.4391 - ner_output_loss: 0.3603 - pos_output_accuracy: 0.8669 - ner_output_accuracy: 0.8963 - val_loss: 1.0075 - val_pos_output_loss: 0.5466 - val_ner_output_loss: 0.4609 - val_pos_output_accuracy: 0.8429 - val_ner_output_accuracy: 0.8791\n",
      "Epoch 10/100\n",
      "102/102 [==============================] - 2s 22ms/step - loss: 0.6467 - pos_output_loss: 0.3332 - ner_output_loss: 0.3135 - pos_output_accuracy: 0.9064 - ner_output_accuracy: 0.9102 - val_loss: 0.9361 - val_pos_output_loss: 0.4919 - val_ner_output_loss: 0.4442 - val_pos_output_accuracy: 0.8692 - val_ner_output_accuracy: 0.8877\n",
      "Epoch 11/100\n",
      "102/102 [==============================] - 2s 23ms/step - loss: 0.5174 - pos_output_loss: 0.2497 - ner_output_loss: 0.2677 - pos_output_accuracy: 0.9365 - ner_output_accuracy: 0.9241 - val_loss: 0.8841 - val_pos_output_loss: 0.4632 - val_ner_output_loss: 0.4209 - val_pos_output_accuracy: 0.8847 - val_ner_output_accuracy: 0.8950\n",
      "Epoch 12/100\n",
      "102/102 [==============================] - 3s 25ms/step - loss: 0.4188 - pos_output_loss: 0.1904 - ner_output_loss: 0.2284 - pos_output_accuracy: 0.9554 - ner_output_accuracy: 0.9365 - val_loss: 0.8324 - val_pos_output_loss: 0.4341 - val_ner_output_loss: 0.3983 - val_pos_output_accuracy: 0.8926 - val_ner_output_accuracy: 0.9044\n",
      "Epoch 13/100\n",
      "102/102 [==============================] - 2s 23ms/step - loss: 0.3463 - pos_output_loss: 0.1502 - ner_output_loss: 0.1961 - pos_output_accuracy: 0.9654 - ner_output_accuracy: 0.9463 - val_loss: 0.8283 - val_pos_output_loss: 0.4283 - val_ner_output_loss: 0.3999 - val_pos_output_accuracy: 0.8981 - val_ner_output_accuracy: 0.9081\n",
      "Epoch 14/100\n",
      "102/102 [==============================] - 2s 24ms/step - loss: 0.2907 - pos_output_loss: 0.1221 - ner_output_loss: 0.1686 - pos_output_accuracy: 0.9714 - ner_output_accuracy: 0.9554 - val_loss: 0.8269 - val_pos_output_loss: 0.4303 - val_ner_output_loss: 0.3966 - val_pos_output_accuracy: 0.9011 - val_ner_output_accuracy: 0.9114\n",
      "Epoch 15/100\n",
      "102/102 [==============================] - 2s 23ms/step - loss: 0.2472 - pos_output_loss: 0.1021 - ner_output_loss: 0.1451 - pos_output_accuracy: 0.9763 - ner_output_accuracy: 0.9634 - val_loss: 0.8236 - val_pos_output_loss: 0.4220 - val_ner_output_loss: 0.4015 - val_pos_output_accuracy: 0.9029 - val_ner_output_accuracy: 0.9130\n",
      "Epoch 16/100\n",
      "102/102 [==============================] - 3s 26ms/step - loss: 0.2136 - pos_output_loss: 0.0871 - ner_output_loss: 0.1265 - pos_output_accuracy: 0.9791 - ner_output_accuracy: 0.9684 - val_loss: 0.8142 - val_pos_output_loss: 0.4268 - val_ner_output_loss: 0.3875 - val_pos_output_accuracy: 0.9030 - val_ner_output_accuracy: 0.9149\n",
      "Epoch 17/100\n",
      "102/102 [==============================] - 2s 24ms/step - loss: 0.1863 - pos_output_loss: 0.0754 - ner_output_loss: 0.1110 - pos_output_accuracy: 0.9813 - ner_output_accuracy: 0.9735 - val_loss: 0.8306 - val_pos_output_loss: 0.4352 - val_ner_output_loss: 0.3954 - val_pos_output_accuracy: 0.9034 - val_ner_output_accuracy: 0.9164\n",
      "Epoch 18/100\n",
      "102/102 [==============================] - 2s 22ms/step - loss: 0.1632 - pos_output_loss: 0.0659 - ner_output_loss: 0.0972 - pos_output_accuracy: 0.9838 - ner_output_accuracy: 0.9773 - val_loss: 0.8466 - val_pos_output_loss: 0.4547 - val_ner_output_loss: 0.3919 - val_pos_output_accuracy: 0.9041 - val_ner_output_accuracy: 0.9190\n",
      "Epoch 19/100\n",
      "102/102 [==============================] - 3s 25ms/step - loss: 0.1433 - pos_output_loss: 0.0585 - ner_output_loss: 0.0848 - pos_output_accuracy: 0.9854 - ner_output_accuracy: 0.9808 - val_loss: 0.8379 - val_pos_output_loss: 0.4473 - val_ner_output_loss: 0.3906 - val_pos_output_accuracy: 0.9058 - val_ner_output_accuracy: 0.9185\n",
      "Epoch 20/100\n",
      "102/102 [==============================] - 2s 23ms/step - loss: 0.1267 - pos_output_loss: 0.0516 - ner_output_loss: 0.0752 - pos_output_accuracy: 0.9872 - ner_output_accuracy: 0.9827 - val_loss: 0.8686 - val_pos_output_loss: 0.4634 - val_ner_output_loss: 0.4053 - val_pos_output_accuracy: 0.9043 - val_ner_output_accuracy: 0.9194\n",
      "Epoch 21/100\n",
      "102/102 [==============================] - 2s 24ms/step - loss: 0.1135 - pos_output_loss: 0.0467 - ner_output_loss: 0.0668 - pos_output_accuracy: 0.9876 - ner_output_accuracy: 0.9848 - val_loss: 0.8798 - val_pos_output_loss: 0.4745 - val_ner_output_loss: 0.4052 - val_pos_output_accuracy: 0.9054 - val_ner_output_accuracy: 0.9167\n",
      "Epoch 22/100\n",
      "102/102 [==============================] - 2s 22ms/step - loss: 0.1014 - pos_output_loss: 0.0417 - ner_output_loss: 0.0597 - pos_output_accuracy: 0.9892 - ner_output_accuracy: 0.9869 - val_loss: 0.8710 - val_pos_output_loss: 0.4585 - val_ner_output_loss: 0.4125 - val_pos_output_accuracy: 0.9040 - val_ner_output_accuracy: 0.9177\n",
      "Epoch 23/100\n",
      "102/102 [==============================] - 3s 29ms/step - loss: 0.0916 - pos_output_loss: 0.0382 - ner_output_loss: 0.0534 - pos_output_accuracy: 0.9899 - ner_output_accuracy: 0.9881 - val_loss: 0.8972 - val_pos_output_loss: 0.4868 - val_ner_output_loss: 0.4104 - val_pos_output_accuracy: 0.9033 - val_ner_output_accuracy: 0.9165\n",
      "Epoch 24/100\n",
      "102/102 [==============================] - 3s 25ms/step - loss: 0.0825 - pos_output_loss: 0.0340 - ner_output_loss: 0.0485 - pos_output_accuracy: 0.9913 - ner_output_accuracy: 0.9893 - val_loss: 0.9123 - val_pos_output_loss: 0.4879 - val_ner_output_loss: 0.4244 - val_pos_output_accuracy: 0.9037 - val_ner_output_accuracy: 0.9174\n",
      "Epoch 25/100\n",
      "102/102 [==============================] - 2s 23ms/step - loss: 0.0751 - pos_output_loss: 0.0315 - ner_output_loss: 0.0437 - pos_output_accuracy: 0.9920 - ner_output_accuracy: 0.9905 - val_loss: 0.9325 - val_pos_output_loss: 0.5075 - val_ner_output_loss: 0.4250 - val_pos_output_accuracy: 0.9050 - val_ner_output_accuracy: 0.9151\n",
      "Epoch 26/100\n",
      "102/102 [==============================] - 3s 26ms/step - loss: 0.0680 - pos_output_loss: 0.0281 - ner_output_loss: 0.0399 - pos_output_accuracy: 0.9930 - ner_output_accuracy: 0.9913 - val_loss: 0.9569 - val_pos_output_loss: 0.5084 - val_ner_output_loss: 0.4485 - val_pos_output_accuracy: 0.9034 - val_ner_output_accuracy: 0.9171\n",
      "Epoch 27/100\n",
      "102/102 [==============================] - 2s 24ms/step - loss: 0.0625 - pos_output_loss: 0.0263 - ner_output_loss: 0.0361 - pos_output_accuracy: 0.9936 - ner_output_accuracy: 0.9920 - val_loss: 0.9723 - val_pos_output_loss: 0.5280 - val_ner_output_loss: 0.4443 - val_pos_output_accuracy: 0.9030 - val_ner_output_accuracy: 0.9134\n",
      "Epoch 28/100\n",
      "102/102 [==============================] - 2s 24ms/step - loss: 0.0567 - pos_output_loss: 0.0239 - ner_output_loss: 0.0328 - pos_output_accuracy: 0.9943 - ner_output_accuracy: 0.9931 - val_loss: 0.9643 - val_pos_output_loss: 0.5241 - val_ner_output_loss: 0.4402 - val_pos_output_accuracy: 0.9004 - val_ner_output_accuracy: 0.9113\n",
      "Epoch 29/100\n",
      "102/102 [==============================] - 2s 24ms/step - loss: 0.0525 - pos_output_loss: 0.0221 - ner_output_loss: 0.0304 - pos_output_accuracy: 0.9948 - ner_output_accuracy: 0.9935 - val_loss: 0.9958 - val_pos_output_loss: 0.5381 - val_ner_output_loss: 0.4577 - val_pos_output_accuracy: 0.9029 - val_ner_output_accuracy: 0.9148\n",
      "Epoch 29: early stopping\n"
     ]
    }
   ],
   "source": [
    "# Define early stopping\n",
    "early_stopping = EarlyStopping(monitor='val_pos_output_accuracy', min_delta=0, patience=10, verbose=1, mode='max')\n",
    "\n",
    "# Train the model\n",
    "history = model.fit(train_x, {\"pos_output\": train_y_pos, \"ner_output\": train_y_ner},\n",
    "                    validation_data=(val_x, {\"pos_output\": val_y_pos, \"ner_output\": val_y_ner}),\n",
    "                    batch_size=32,\n",
    "                    epochs=100,\n",
    "                    callbacks=[early_stopping])"
   ]
  },
  {
   "cell_type": "code",
   "execution_count": 17,
   "metadata": {},
   "outputs": [
    {
     "data": {
      "text/plain": [
       "dict_keys(['loss', 'pos_output_loss', 'ner_output_loss', 'pos_output_accuracy', 'ner_output_accuracy', 'val_loss', 'val_pos_output_loss', 'val_ner_output_loss', 'val_pos_output_accuracy', 'val_ner_output_accuracy'])"
      ]
     },
     "execution_count": 17,
     "metadata": {},
     "output_type": "execute_result"
    }
   ],
   "source": [
    "history.history.keys()"
   ]
  },
  {
   "cell_type": "code",
   "execution_count": 18,
   "metadata": {},
   "outputs": [
    {
     "data": {
      "image/png": "[encoded data removed]",
      "text/plain": [
       "<Figure size 864x432 with 2 Axes>"
      ]
     },
     "metadata": {
      "needs_background": "light"
     },
     "output_type": "display_data"
    },
    {
     "data": {
      "image/png": "[encoded data removed]",
      "text/plain": [
       "<Figure size 864x432 with 2 Axes>"
      ]
     },
     "metadata": {
      "needs_background": "light"
     },
     "output_type": "display_data"
    }
   ],
   "source": [
    "import matplotlib.pyplot as plt\n",
    "\n",
    "# Extract training and validation metrics from the history object\n",
    "history_dict = history.history\n",
    "\n",
    "# Plot accuracy\n",
    "plt.figure(figsize=(12, 6))\n",
    "\n",
    "# Plot POS Accuracy\n",
    "plt.subplot(1, 2, 1)\n",
    "plt.plot(history_dict['pos_output_accuracy'], label='Train POS Accuracy')\n",
    "plt.plot(history_dict['val_pos_output_accuracy'], label='Val POS Accuracy')\n",
    "plt.title('POS Tagging Accuracy')\n",
    "plt.xlabel('Epochs')\n",
    "plt.ylabel('Accuracy')\n",
    "plt.legend()\n",
    "\n",
    "# Plot NER Accuracy\n",
    "plt.subplot(1, 2, 2)\n",
    "plt.plot(history_dict['ner_output_accuracy'], label='Train NER Accuracy')\n",
    "plt.plot(history_dict['val_ner_output_accuracy'], label='Val NER Accuracy')\n",
    "plt.title('NER Accuracy')\n",
    "plt.xlabel('Epochs')\n",
    "plt.ylabel('Accuracy')\n",
    "plt.legend()\n",
    "\n",
    "plt.tight_layout()\n",
    "plt.show()\n",
    "\n",
    "# Plot loss\n",
    "plt.figure(figsize=(12, 6))\n",
    "\n",
    "# Plot POS Loss\n",
    "plt.subplot(1, 2, 1)\n",
    "plt.plot(history_dict['pos_output_loss'], label='Train POS Loss')\n",
    "plt.plot(history_dict['val_pos_output_loss'], label='Val POS Loss')\n",
    "plt.title('POS Tagging Loss')\n",
    "plt.xlabel('Epochs')\n",
    "plt.ylabel('Loss')\n",
    "plt.legend()\n",
    "\n",
    "# Plot NER Loss\n",
    "plt.subplot(1, 2, 2)\n",
    "plt.plot(history_dict['ner_output_loss'], label='Train NER Loss')\n",
    "plt.plot(history_dict['val_ner_output_loss'], label='Val NER Loss')\n",
    "plt.title('NER Loss')\n",
    "plt.xlabel('Epochs')\n",
    "plt.ylabel('Loss')\n",
    "plt.legend()\n",
    "\n",
    "plt.tight_layout()\n",
    "plt.show()\n"
   ]
  },
  {
   "cell_type": "markdown",
   "metadata": {},
   "source": [
    "### Evaluate the model"
   ]
  },
  {
   "cell_type": "code",
   "execution_count": 19,
   "metadata": {},
   "outputs": [
    {
     "name": "stdout",
     "output_type": "stream",
     "text": [
      "4/4 [==============================] - 0s 12ms/step - loss: 0.9656 - pos_output_loss: 0.4983 - ner_output_loss: 0.4672 - pos_output_accuracy: 0.9079 - ner_output_accuracy: 0.9141\n",
      "Test Loss: 0.9655945897102356\n",
      "Test POS Loss: 0.4983460009098053\n",
      "Test NER Loss: 0.4672486186027527\n",
      "Test POS Accuracy: 0.9078817963600159\n",
      "Test NER Accuracy: 0.9140886664390564\n"
     ]
    }
   ],
   "source": [
    "# Evaluate the model on the test data\n",
    "test_loss, test_pos_loss, test_ner_loss, test_pos_accuracy, test_ner_accuracy = model.evaluate(test_x, {\"pos_output\": test_y_pos, \"ner_output\": test_y_ner}, batch_size=128)\n",
    "print(f\"Test Loss: {test_loss}\")\n",
    "print(f\"Test POS Loss: {test_pos_loss}\")\n",
    "print(f\"Test NER Loss: {test_ner_loss}\")\n",
    "print(f\"Test POS Accuracy: {test_pos_accuracy}\")\n",
    "print(f\"Test NER Accuracy: {test_ner_accuracy}\")"
   ]
  },
  {
   "cell_type": "code",
   "execution_count": 39,
   "metadata": {},
   "outputs": [
    {
     "name": "stdout",
     "output_type": "stream",
     "text": [
      "13/13 [==============================] - 0s 7ms/step\n"
     ]
    }
   ],
   "source": [
    "from sklearn.metrics import classification_report, accuracy_score\n",
    "# Make predictions on the test set\n",
    "predictions = model.predict(test_x)\n",
    "\n",
    "# Extract predictions for POS and NER based on their positions\n",
    "pred_pos = np.argmax(predictions[0], axis=-1)\n",
    "pred_ner = np.argmax(predictions[1], axis=-1)\n",
    "\n",
    "# Convert test_y to the appropriate format\n",
    "true_pos = np.array(test_y_pos)\n",
    "true_ner = np.array(test_y_ner)\n",
    "\n",
    "# Flatten the arrays for metric calculation\n",
    "pred_pos_flat = pred_pos.flatten()\n",
    "true_pos_flat = true_pos.flatten()\n",
    "pred_ner_flat = pred_ner.flatten()\n",
    "true_ner_flat = true_ner.flatten()\n",
    "\n",
    "# Remove padding values from the flattened arrays for metrics calculation\n",
    "valid_pos_indices = true_pos_flat != nbr_pos-1\n",
    "valid_ner_indices = true_ner_flat != nbr_ners-1\n",
    "\n",
    "# Filter out the padding values\n",
    "true_pos_filtered = true_pos_flat[valid_pos_indices]\n",
    "pred_pos_filtered = pred_pos_flat[valid_pos_indices]\n",
    "true_ner_filtered = true_ner_flat[valid_ner_indices]\n",
    "pred_ner_filtered = pred_ner_flat[valid_ner_indices]"
   ]
  },
  {
   "cell_type": "code",
   "execution_count": 46,
   "metadata": {},
   "outputs": [
    {
     "name": "stdout",
     "output_type": "stream",
     "text": [
      "POS Tagging Metrics:\n",
      "Accuracy: 0.798593785438875\n",
      "\n",
      "Classification Report:\n",
      "               precision    recall  f1-score   support\n",
      "\n",
      "        CONJ       0.94      0.93      0.93        97\n",
      "         VNF       0.91      0.78      0.84       147\n",
      "         ADV       0.86      0.66      0.75       145\n",
      "          VF       0.97      0.81      0.89       419\n",
      "          QF       0.97      0.83      0.89       177\n",
      "        INTJ       0.00      0.00      0.00         4\n",
      "         OTH       1.00      0.56      0.71         9\n",
      "         NNC       0.74      0.92      0.82      1770\n",
      "        PART       1.00      0.40      0.57         5\n",
      "         NNP       0.75      0.57      0.65       772\n",
      "          PP       0.90      0.89      0.90       171\n",
      "         ADJ       0.80      0.65      0.72       489\n",
      "         DET       0.90      0.93      0.91        81\n",
      "         PRO       0.96      0.89      0.92       123\n",
      "       PUNCT       0.00      0.00      0.00         0\n",
      "\n",
      "    accuracy                           0.80      4409\n",
      "   macro avg       0.78      0.65      0.70      4409\n",
      "weighted avg       0.81      0.80      0.79      4409\n",
      "\n"
     ]
    }
   ],
   "source": [
    "# Calculate metrics for POS\n",
    "# Calculate metrics for POS\n",
    "pos_accuracy = accuracy_score(true_pos_filtered, pred_pos_filtered)\n",
    "pos_classification_report = classification_report(true_pos_filtered, pred_pos_filtered, target_names=list(pos_vocab.keys()), zero_division=0)\n",
    "print(\"POS Tagging Metrics:\")\n",
    "print(f\"Accuracy: {pos_accuracy}\")\n",
    "print(f\"\\nClassification Report:\\n {pos_classification_report}\")"
   ]
  },
  {
   "cell_type": "code",
   "execution_count": 54,
   "metadata": {},
   "outputs": [
    {
     "name": "stdout",
     "output_type": "stream",
     "text": [
      "NER Tagging Metrics:\n",
      "Accuracy: 0.8085248828386521\n",
      "\n",
      "Classification Report:\n",
      "               precision    recall  f1-score   support\n",
      "\n",
      "           0       0.73      0.49      0.59       162\n",
      "           1       0.66      0.83      0.73        23\n",
      "           2       0.92      0.79      0.85       126\n",
      "           3       0.10      0.08      0.09        24\n",
      "           4       0.25      0.13      0.17        53\n",
      "           5       0.59      0.46      0.52        65\n",
      "           6       0.57      0.45      0.51       159\n",
      "           7       0.11      0.38      0.18        26\n",
      "           8       1.00      0.87      0.93        23\n",
      "           9       0.43      0.38      0.40       104\n",
      "          10       0.86      0.51      0.64        94\n",
      "          11       0.00      0.00      0.00         0\n",
      "          12       0.71      0.51      0.59       382\n",
      "          13       0.87      0.94      0.90      3050\n",
      "          14       0.00      0.00      0.00         8\n",
      "          15       0.71      0.95      0.81        60\n",
      "          17       0.87      0.78      0.82        96\n",
      "          18       0.58      0.30      0.40        23\n",
      "          19       0.00      0.00      0.00         3\n",
      "          20       0.00      0.00      0.00         0\n",
      "\n",
      "    accuracy                           0.81      4481\n",
      "   macro avg       0.50      0.44      0.46      4481\n",
      "weighted avg       0.80      0.81      0.80      4481\n",
      "\n"
     ]
    }
   ],
   "source": [
    "# Calculate metrics for NER\n",
    "ner_accuracy = accuracy_score(true_ner_filtered, pred_ner_filtered)\n",
    "ner_classification_report = classification_report(true_ner_filtered, pred_ner_filtered, zero_division=0)\n",
    "\n",
    "print(\"NER Tagging Metrics:\")\n",
    "print(f\"Accuracy: {ner_accuracy}\")\n",
    "print(f\"\\nClassification Report:\\n {ner_classification_report}\")"
   ]
  },
  {
   "cell_type": "code",
   "execution_count": 48,
   "metadata": {},
   "outputs": [
    {
     "name": "stdout",
     "output_type": "stream",
     "text": [
      "Metrics have been saved to '../reports/metrics.txt'.\n"
     ]
    }
   ],
   "source": [
    "# Save metrics to a text file\n",
    "with open('../reports/score_1_base.txt', 'w') as file:\n",
    "    # Write POS metrics\n",
    "    file.write(\"POS Tagging Metrics:\\n\")\n",
    "    file.write(f\"Accuracy: {pos_accuracy}\\n\\n\")\n",
    "    file.write(\"Classification Report:\\n\")\n",
    "    file.write(pos_classification_report)\n",
    "    \n",
    "    # Write NER metrics\n",
    "    file.write(\"\\nNER Tagging Metrics:\\n\")\n",
    "    file.write(f\"Accuracy: {ner_accuracy}\\n\\n\")\n",
    "    file.write(\"Classification Report:\\n\")\n",
    "    file.write(ner_classification_report)\n",
    "\n",
    "print(\"Metrics have been saved to '../reports/metrics.txt'.\")"
   ]
  },
  {
   "cell_type": "code",
   "execution_count": null,
   "metadata": {},
   "outputs": [],
   "source": []
  }
 ],
 "metadata": {
  "kernelspec": {
   "display_name": "Python 3",
   "language": "python",
   "name": "python3"
  },
  "language_info": {
   "codemirror_mode": {
    "name": "ipython",
    "version": 3
   },
   "file_extension": ".py",
   "mimetype": "text/x-python",
   "name": "python",
   "nbconvert_exporter": "python",
   "pygments_lexer": "ipython3",
   "version": "3.7.9"
  }
 },
 "nbformat": 4,
 "nbformat_minor": 2
}
